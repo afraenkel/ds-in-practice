{
 "cells": [
  {
   "cell_type": "code",
   "execution_count": 1,
   "metadata": {
    "tags": [
     "remove_cell"
    ]
   },
   "outputs": [],
   "source": [
    "%matplotlib inline\n",
    "import numpy as np\n",
    "import pandas as pd\n",
    "import seaborn as sns\n",
    "\n",
    "pd.set_option('display.max_rows', 7)"
   ]
  },
  {
   "cell_type": "markdown",
   "metadata": {},
   "source": [
    "# Introduction to Modeling\n",
    "\n",
    "---\n",
    "\n",
    "Statistical models attempt to capture relationships among properties of a phenomenon of interest. Understanding such a picture requires the following definitions:\n",
    "\n",
    "* A **Data Generating Process** is a real-world phenomenon of interest, from which data are collected.\n",
    "* A **Model** is a theory, or explanation, of the data generating process.\n",
    "* A **Fit Model** is a particular instance of a model that is likely to explain a fixed dataset.\n",
    "\n",
    "What makes a model good? (model/fit model). \n",
    "\n",
    "**Example:** Suppose a Data Scientist is interested in the relationship between the number of parking tickets given out and the weather.\n",
    "\n",
    "* The data generating process is the process that generates the events that unfold in the real-world. The process of exactly who ends up with a parking ticket and what the weather was is impossible to observe directly and unfolds noisily.\n",
    "\n",
    "* A model might posit that more parking tickets are issued when the weather is temperate (neither hot nor cold).\n",
    "\n",
    "* A fit model would specify the quantitative relationship for a given dataset. For example, using a dataset of parking tickets and weather in San Diego, the data might suggest that a car is five times for likely to be issued a parking ticket when the weather is temperate. \n",
    "\n",
    "* A model fit on data from Minneapolis might specify a different quantity (e.g. three times more likely). However, the structure of the model remains the same.\n",
    "\n",
    "### What makes a model 'good'?\n",
    "\n",
    "A model is fit to a dataset by finding the *most likely* parameters that explain the observed data under the given model. These parameters are found by minimizing a *loss function* -- typically some notion of 'error' or 'cost'.\n",
    "\n",
    "A model is good if it effectively explains the phenomenon under investigation. This requires answering two questions:\n",
    "1. Is the *model* choice reasonable? Does the structure of the model capture the general understanding of how the Data Generating Process behaves?\n",
    "1. Does the fit model describe the data well? How small is the error?\n",
    "\n",
    "The first question approaches the applicability of the model to new observations; the second question approaches the ability of a model to explain the observed data."
   ]
  },
  {
   "cell_type": "markdown",
   "metadata": {},
   "source": [
    "## Basic Definitions\n",
    "\n",
    "What questions can models answer?\n",
    "\n",
    "* Questions of *Prediction*: Given what I've seen, what is the most likely value I'll see in the future? Predictions forecast the most likely values of the data coming from the data generating process.\n",
    "* Questions of *(Statistical) Inference*: How likely is what I observed representative of the broader picture? Statistical Inference draws conclusions (with confidence) about the structure of the data generating process (*population*).\n",
    "\n",
    "\n",
    "### Statistical Model: Inference\n",
    "\n",
    "* A **statistical model** is a quantitative relationship between properties in observed data.\n",
    "* A *statistical model* is a function $S:X\\to\\mathbb{R}^n$ that measures properties of $X$.\n",
    "* **Example:** Is there a linear relationship between the heights of children and the height of their biological mother?\n",
    "    * $X = \\texttt{mother_height} = \\mathbb{R}$\n",
    "    * $Y = \\texttt{child_height} = \\mathbb{R}$\n",
    "    * $S$ is the correlation coefficient\n",
    "    \n",
    "Inference results in interpreting properties of the DGP from the parameters of the model (e.g. correlation).\n",
    "\n",
    "### Prediction Model: Regression\n",
    "\n",
    "* **Regression Models** attempt to predict the most likely quantitative value associated to an observation (feature).\n",
    "* A *regressor* is a function $R:X\\to \\mathbb{R}$ that predicts the value $y\\in \\mathbb{R}$ of an observation $x\\in X$.\n",
    "* **Example:** Given the heights of a child's parents, what is the height of their child?\n",
    "    * $X = (\\texttt{father_height, mother_height}) = \\mathbb{R}^2$\n",
    "    * $Y = \\texttt{child_height} = \\mathbb{R}$\n",
    "    * $C$ predicts child heights.\n",
    "    \n",
    "### Prediction Model: Classification\n",
    "\n",
    "* **Classification Models** attempt to predict the most likely *class* associated to an observation (feature).\n",
    "    - The *type* or *class* is a *nominal* attribute (e.g. 'YES' or 'NO').\n",
    "\n",
    "* A *classifier* is a function $C:X\\to Y$ that predicts whether an observation $x\\in X$ belongs to class $y\\in Y$.\n",
    "\n",
    "* **Example:** Given product purchase attributes (item, price, age, state), can one predict whether the person was satisfied with their purchase?\n",
    "    - $X = \\{(\\texttt{item, price, age, state})\\}$\n",
    "    - $Y = \\{\\texttt{'SATISFIED'}, \\texttt{'NOT SATISFIED'}\\}$\n",
    "    - $C$ predicts product satisfaction.\n",
    "    "
   ]
  },
  {
   "cell_type": "markdown",
   "metadata": {},
   "source": [
    "## Modeling and Features\n",
    "\n",
    "Building a statistical model requires quantitative input that (strongly) reflects the relationships between the variables of interest. A complex data generating process requires a complex modeling pipeline to represent the process. This may happen in one of two ways:\n",
    "* the features must encode a complex understanding of the data generating process, or\n",
    "* the proposed model must be capable of capturing complex phenomena.\n",
    "\n",
    "For example, a linear model cannot capture nonlinear behavior. However an appropriately chosen feature transformation might turn a non-linear relationship into a linear one, making a linear model an effective choice. Without such a feature transformation, a more complex non-linear model would be required.\n",
    "\n",
    "SEE LECTURE FOR EXAMPLES."
   ]
  },
  {
   "cell_type": "code",
   "execution_count": null,
   "metadata": {},
   "outputs": [],
   "source": []
  }
 ],
 "metadata": {
  "kernelspec": {
   "display_name": "Python 3",
   "language": "python",
   "name": "python3"
  },
  "language_info": {
   "codemirror_mode": {
    "name": "ipython",
    "version": 3
   },
   "file_extension": ".py",
   "mimetype": "text/x-python",
   "name": "python",
   "nbconvert_exporter": "python",
   "pygments_lexer": "ipython3",
   "version": "3.7.1"
  }
 },
 "nbformat": 4,
 "nbformat_minor": 2
}
