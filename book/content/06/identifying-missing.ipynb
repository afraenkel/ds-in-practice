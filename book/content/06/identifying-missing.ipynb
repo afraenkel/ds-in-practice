{
 "cells": [
  {
   "cell_type": "code",
   "execution_count": 17,
   "metadata": {
    "tags": [
     "remove_cell"
    ]
   },
   "outputs": [],
   "source": [
    "%matplotlib inline\n",
    "\n",
    "import pandas as pd\n",
    "import numpy as np\n",
    "import matplotlib.pyplot as plt\n",
    "\n",
    "weather = pd.read_csv('data/weather.csv', parse_dates=['Date'])\n",
    "\n",
    "from util import ks, tvd"
   ]
  },
  {
   "cell_type": "markdown",
   "metadata": {},
   "source": [
    "# Identifying Mechanisms of Missing Data\n",
    "---"
   ]
  },
  {
   "cell_type": "markdown",
   "metadata": {},
   "source": [
    "## Assessing ignorable vs. non-ignorable missing data\n",
    "\n",
    "Distinguishing ignorable missing data from non-ignorable missing data involves reasoning about the data generating process, using domain expertise. The data scientist must make an *assumption* of whether the missingness of the data is explainable from the observed data itself.\n",
    "\n",
    "*Remark:* One tactic for reduce the severity of non-ignorable effects of missing data are to include as many attributes in the dataset as possible ('the kitchen sink') in hopes that the many attributes will likely explain the missingness. This reduces the usability of the dataset and even so, one can never cover all possible attributes. Careful reasoning with knowledge of the domain is the *only* way to reason about the nature of missing data.\n",
    "\n",
    "**Example:** Suppose, every day of the year, a park ranger drives up a mountain at sunrise and measures the wind-speed. At the end of the year, the ranger has a dataset of observed wind-speeds.\n",
    "* Any missing data is likely *non-ignorable*. It's more difficult to drive up the mountain in bad weather, which is correlated with high winds. Thus, the likelihood an observation is missing depends on the value itself.\n",
    "* Adding a date-of-measurement column to each observation would partially explain the missing observations, as bad weather is more likely to occur in the winter months. However, this would only reduce the effect of non-ignorability, as the date-of-measurement would not explain when a value is likely to be missing within the winter months.\n",
    "\n",
    "**Example:** Now suppose the same park ranger doesn't make measurements on Wednesdays, as he doesn't work then; he successfully makes measurements *every other* day. At the end of the year, the ranger has a (one-column) dataset of observed wind-speeds. This attribute is likely missing completely at random, as the weather knows nothing about the day of the week.\n",
    "\n",
    "*Remark:* One column datasets necessarily have either non-ignorable missing data or data that are missing completely at random."
   ]
  },
  {
   "cell_type": "markdown",
   "metadata": {},
   "source": [
    "## Assessing types of ignorable missing data\n",
    "\n",
    "Once a dataset is assumed to contain only ignorable missing data (i.e. that it's 'missing at random'), one needs to determine exactly what this missingness looks like:\n",
    "* For each attribute, which columns affect the likelihood of missingness of that attribute? \n",
    "* In what ways is the missingness conditional on those columns?\n",
    "\n",
    "These questions are neatly answered by comparing two distributions: for a given attribute, compare the distributions when an attribute is missing vs when the attribute is observed. If those distributions are similar, and the missingness is explainable by the (rest of the) observed data, then the observed data is a representative sample of the 'true model'."
   ]
  },
  {
   "cell_type": "markdown",
   "metadata": {},
   "source": [
    "**Example:** Suppose, as outlined above, a park ranger measures the wind every day for a year. The table includes not only the date and wind-measurement, but also nearby temperature readings at the ranger station.\n",
    "\n",
    "Assuming ignorable missing data, explain exactly *how* the missingness of the wind-speed measurements depend on the other attributes in the dataset."
   ]
  },
  {
   "cell_type": "code",
   "execution_count": 6,
   "metadata": {},
   "outputs": [
    {
     "data": {
      "text/html": [
       "<div>\n",
       "<style scoped>\n",
       "    .dataframe tbody tr th:only-of-type {\n",
       "        vertical-align: middle;\n",
       "    }\n",
       "\n",
       "    .dataframe tbody tr th {\n",
       "        vertical-align: top;\n",
       "    }\n",
       "\n",
       "    .dataframe thead th {\n",
       "        text-align: right;\n",
       "    }\n",
       "</style>\n",
       "<table border=\"1\" class=\"dataframe\">\n",
       "  <thead>\n",
       "    <tr style=\"text-align: right;\">\n",
       "      <th></th>\n",
       "      <th>Date</th>\n",
       "      <th>Temp</th>\n",
       "      <th>Wind</th>\n",
       "    </tr>\n",
       "  </thead>\n",
       "  <tbody>\n",
       "    <tr>\n",
       "      <th>0</th>\n",
       "      <td>2015-01-01</td>\n",
       "      <td>29.23</td>\n",
       "      <td>6.54</td>\n",
       "    </tr>\n",
       "    <tr>\n",
       "      <th>1</th>\n",
       "      <td>2015-01-02</td>\n",
       "      <td>22.05</td>\n",
       "      <td>18.24</td>\n",
       "    </tr>\n",
       "    <tr>\n",
       "      <th>2</th>\n",
       "      <td>2015-01-03</td>\n",
       "      <td>23.31</td>\n",
       "      <td>20.38</td>\n",
       "    </tr>\n",
       "    <tr>\n",
       "      <th>3</th>\n",
       "      <td>2015-01-04</td>\n",
       "      <td>20.75</td>\n",
       "      <td>43.29</td>\n",
       "    </tr>\n",
       "    <tr>\n",
       "      <th>4</th>\n",
       "      <td>2015-01-05</td>\n",
       "      <td>28.82</td>\n",
       "      <td>42.83</td>\n",
       "    </tr>\n",
       "  </tbody>\n",
       "</table>\n",
       "</div>"
      ],
      "text/plain": [
       "        Date   Temp   Wind\n",
       "0 2015-01-01  29.23   6.54\n",
       "1 2015-01-02  22.05  18.24\n",
       "2 2015-01-03  23.31  20.38\n",
       "3 2015-01-04  20.75  43.29\n",
       "4 2015-01-05  28.82  42.83"
      ]
     },
     "execution_count": 6,
     "metadata": {},
     "output_type": "execute_result"
    }
   ],
   "source": [
    "weather.head()"
   ]
  },
  {
   "cell_type": "markdown",
   "metadata": {},
   "source": [
    "Approximately 10% of the measurements in the table are missing:"
   ]
  },
  {
   "cell_type": "code",
   "execution_count": 5,
   "metadata": {},
   "outputs": [
    {
     "data": {
      "text/plain": [
       "0.10164835164835165"
      ]
     },
     "execution_count": 5,
     "metadata": {},
     "output_type": "execute_result"
    }
   ],
   "source": [
    "weather['Wind'].isnull().mean()"
   ]
  },
  {
   "cell_type": "markdown",
   "metadata": {},
   "source": [
    "**To start the analysis, check that the likelihood wind-speed is missing does depend on the day of the week.**"
   ]
  },
  {
   "cell_type": "code",
   "execution_count": 8,
   "metadata": {},
   "outputs": [
    {
     "data": {
      "text/html": [
       "<div>\n",
       "<style scoped>\n",
       "    .dataframe tbody tr th:only-of-type {\n",
       "        vertical-align: middle;\n",
       "    }\n",
       "\n",
       "    .dataframe tbody tr th {\n",
       "        vertical-align: top;\n",
       "    }\n",
       "\n",
       "    .dataframe thead th {\n",
       "        text-align: right;\n",
       "    }\n",
       "</style>\n",
       "<table border=\"1\" class=\"dataframe\">\n",
       "  <thead>\n",
       "    <tr style=\"text-align: right;\">\n",
       "      <th></th>\n",
       "      <th>Date</th>\n",
       "      <th>Temp</th>\n",
       "      <th>Wind</th>\n",
       "      <th>day_name</th>\n",
       "    </tr>\n",
       "  </thead>\n",
       "  <tbody>\n",
       "    <tr>\n",
       "      <th>0</th>\n",
       "      <td>2015-01-01</td>\n",
       "      <td>29.23</td>\n",
       "      <td>6.54</td>\n",
       "      <td>Thursday</td>\n",
       "    </tr>\n",
       "    <tr>\n",
       "      <th>1</th>\n",
       "      <td>2015-01-02</td>\n",
       "      <td>22.05</td>\n",
       "      <td>18.24</td>\n",
       "      <td>Friday</td>\n",
       "    </tr>\n",
       "    <tr>\n",
       "      <th>2</th>\n",
       "      <td>2015-01-03</td>\n",
       "      <td>23.31</td>\n",
       "      <td>20.38</td>\n",
       "      <td>Saturday</td>\n",
       "    </tr>\n",
       "    <tr>\n",
       "      <th>3</th>\n",
       "      <td>2015-01-04</td>\n",
       "      <td>20.75</td>\n",
       "      <td>43.29</td>\n",
       "      <td>Sunday</td>\n",
       "    </tr>\n",
       "    <tr>\n",
       "      <th>4</th>\n",
       "      <td>2015-01-05</td>\n",
       "      <td>28.82</td>\n",
       "      <td>42.83</td>\n",
       "      <td>Monday</td>\n",
       "    </tr>\n",
       "  </tbody>\n",
       "</table>\n",
       "</div>"
      ],
      "text/plain": [
       "        Date   Temp   Wind  day_name\n",
       "0 2015-01-01  29.23   6.54  Thursday\n",
       "1 2015-01-02  22.05  18.24    Friday\n",
       "2 2015-01-03  23.31  20.38  Saturday\n",
       "3 2015-01-04  20.75  43.29    Sunday\n",
       "4 2015-01-05  28.82  42.83    Monday"
      ]
     },
     "execution_count": 8,
     "metadata": {},
     "output_type": "execute_result"
    }
   ],
   "source": [
    "# add day of the week\n",
    "weather['day_name'] = weather['Date'].dt.day_name()\n",
    "weather.head()"
   ]
  },
  {
   "cell_type": "markdown",
   "metadata": {},
   "source": [
    "To assess the dependency of the missingness of wind-measurements on the day of the week, compare:\n",
    "1. the distribution of day of the week, when the wind measurement is missing,\n",
    "1. the distribution of day of the week, when the wind measurement is not missing."
   ]
  },
  {
   "cell_type": "code",
   "execution_count": 12,
   "metadata": {},
   "outputs": [
    {
     "data": {
      "image/png": "[encoded data removed]",
      "text/plain": [
       "<Figure size 432x288 with 1 Axes>"
      ]
     },
     "metadata": {
      "needs_background": "light"
     },
     "output_type": "display_data"
    }
   ],
   "source": [
    "is_null = (\n",
    "    weather['Wind']\n",
    "    .isnull()\n",
    "    .replace({True: 'Wind Value Missing', False: 'Wind Value Present'})\n",
    ")\n",
    "\n",
    "distrs = (\n",
    "    weather\n",
    "    .assign(is_null=is_null)\n",
    "    .pivot_table(index='day_name', columns='is_null', aggfunc='size')\n",
    "    .apply(lambda x:x/x.sum())\n",
    ")\n",
    "\n",
    "distrs.plot(kind='barh', title='distribution of day of the week (missing vs not missing)');"
   ]
  },
  {
   "cell_type": "markdown",
   "metadata": {},
   "source": [
    "Are these two distributions similar? Is the dissimilarity between the two explainable as noise? It's far from clear. A few observations might clarify issues at play:\n",
    "* The distribution of days of the week among the non-missing values are roughly equally likely,\n",
    "* There are a small number of missing values for each day of the week (roughly 5-10).\n",
    "\n",
    "This question can be answered quantitatively with a permutation test, using the total variation distance.\n",
    "\n",
    "The observed difference between the two distributions above are:"
   ]
  },
  {
   "cell_type": "code",
   "execution_count": 14,
   "metadata": {},
   "outputs": [
    {
     "data": {
      "text/plain": [
       "0.18786676584841724"
      ]
     },
     "execution_count": 14,
     "metadata": {},
     "output_type": "execute_result"
    }
   ],
   "source": [
    "obs_tvd = tvd(weather['day_name'], weather['Wind'].isnull())\n",
    "obs_tvd"
   ]
  },
  {
   "cell_type": "markdown",
   "metadata": {},
   "source": [
    "Here, the `tvd` function is taken from the code in the 'Permutation Tests' section of the previous chapter.\n",
    "\n",
    "A permutation test on this data returns:"
   ]
  },
  {
   "cell_type": "code",
   "execution_count": 15,
   "metadata": {},
   "outputs": [],
   "source": [
    "tvds = []\n",
    "for _ in range(1000):\n",
    "    \n",
    "    shuffed_tvd = tvd(\n",
    "        weather['day_name'].sample(frac=1.0).reset_index(drop=True),\n",
    "        weather['Wind'].isnull()\n",
    "    )\n",
    "    \n",
    "    tvds.append(shuffed_tvd)"
   ]
  },
  {
   "cell_type": "code",
   "execution_count": 22,
   "metadata": {},
   "outputs": [
    {
     "data": {
      "image/png": "[encoded data removed]",
      "text/plain": [
       "<Figure size 432x288 with 1 Axes>"
      ]
     },
     "metadata": {
      "needs_background": "light"
     },
     "output_type": "display_data"
    }
   ],
   "source": [
    "pd.Series(tvds).plot(kind='hist', title='Permutation Test for Missingness of Wind-Speed (Day of Week)', density=True)\n",
    "plt.xlabel('TVD')\n",
    "plt.ylabel('Density')\n",
    "plt.scatter([obs_tvd], [0], c='r', s=25);"
   ]
  },
  {
   "cell_type": "markdown",
   "metadata": {},
   "source": [
    "The observed TVD seems likely to have been generated from the null hypothesis, and so fail to reject it. The p-value confirms this:"
   ]
  },
  {
   "cell_type": "code",
   "execution_count": 24,
   "metadata": {},
   "outputs": [
    {
     "data": {
      "text/plain": [
       "0.336"
      ]
     },
     "execution_count": 24,
     "metadata": {},
     "output_type": "execute_result"
    }
   ],
   "source": [
    "(pd.Series(tvds) >= obs_tvd).mean()"
   ]
  },
  {
   "cell_type": "markdown",
   "metadata": {},
   "source": [
    "Thus, there is no evidence that the missingness of 'Wind' depends on the day of the week the measurement was taken.\n",
    "\n",
    "**Does the likelihood that the 'Wind' column is missing depend on the temperature that day?**\n",
    "\n",
    "Plotting the distribution of temperatures when 'Wind' is missing versus not-missing:"
   ]
  },
  {
   "cell_type": "code",
   "execution_count": 27,
   "metadata": {},
   "outputs": [
    {
     "data": {
      "image/png": "[encoded data removed]",
      "text/plain": [
       "<Figure size 432x288 with 1 Axes>"
      ]
     },
     "metadata": {
      "needs_background": "light"
     },
     "output_type": "display_data"
    }
   ],
   "source": [
    "(\n",
    "    weather\n",
    "    .assign(is_null=is_null)\n",
    "    .groupby('is_null')['Temp']\n",
    "    .plot(kind='kde', legend=True, title='distribution of temperature (missing vs not missing)')\n",
    ");"
   ]
  },
  {
   "cell_type": "markdown",
   "metadata": {},
   "source": [
    "It certainly seems as though the wind-speed measurements are more likely missing when temperatures are lower. However, a permutation test will quantitatively assess this claim. Since the distributions in this example are quantitative, the KS-statistic is appropriate:"
   ]
  },
  {
   "cell_type": "markdown",
   "metadata": {},
   "source": [
    "The observed KS-statistic is given by:"
   ]
  },
  {
   "cell_type": "code",
   "execution_count": 28,
   "metadata": {},
   "outputs": [
    {
     "data": {
      "text/plain": [
       "0.2516736920406629"
      ]
     },
     "execution_count": 28,
     "metadata": {},
     "output_type": "execute_result"
    }
   ],
   "source": [
    "obs_ks = ks(weather['Temp'], weather['Wind'].isnull())\n",
    "obs_ks"
   ]
  },
  {
   "cell_type": "markdown",
   "metadata": {},
   "source": [
    "Here, the `ks` function is taken from the code in the 'Permutation Tests' section of the previous chapter.\n",
    "\n",
    "To assess if this value is small or large, a the null hypothesis of a permutation test will generate reasonable values for the test-statistic, using a significance level of 0.05."
   ]
  },
  {
   "cell_type": "code",
   "execution_count": 30,
   "metadata": {},
   "outputs": [],
   "source": [
    "kss = []\n",
    "for _ in range(1000):\n",
    "    \n",
    "    shuffed_ks = ks(\n",
    "        weather['Temp'].sample(frac=1.0).reset_index(drop=True),\n",
    "        weather['Wind'].isnull()\n",
    "    )\n",
    "    \n",
    "    kss.append(shuffed_ks)"
   ]
  },
  {
   "cell_type": "code",
   "execution_count": 32,
   "metadata": {},
   "outputs": [
    {
     "data": {
      "image/png": "[encoded data removed]",
      "text/plain": [
       "<Figure size 432x288 with 1 Axes>"
      ]
     },
     "metadata": {
      "needs_background": "light"
     },
     "output_type": "display_data"
    }
   ],
   "source": [
    "pd.Series(out).plot(kind='hist', density=True, title='Permutation Test for Missingness of Wind-Speed (on Temp)')\n",
    "plt.xlabel('KS')\n",
    "plt.ylabel('Density')\n",
    "plt.scatter([obs_ks], [0], c='r', s=25);"
   ]
  },
  {
   "cell_type": "markdown",
   "metadata": {},
   "source": [
    "The observed KS is not likely seen under the null hypothesis, as the p-value shows:"
   ]
  },
  {
   "cell_type": "code",
   "execution_count": 33,
   "metadata": {},
   "outputs": [
    {
     "data": {
      "text/plain": [
       "0.017"
      ]
     },
     "execution_count": 33,
     "metadata": {},
     "output_type": "execute_result"
    }
   ],
   "source": [
    "(pd.Series(kss) >= obs_ks).mean()"
   ]
  },
  {
   "cell_type": "markdown",
   "metadata": {},
   "source": [
    "Thus, the missingness of wind-speed *does* likely depend on the temperature readings for that day. 'Wind' is ignorable, or missing at random, dependend on 'Temp'.\n",
    "\n",
    "*Remark:* What other variables might influence the missingness of 'Wind'? For example, what about the month of the year?"
   ]
  },
  {
   "cell_type": "markdown",
   "metadata": {},
   "source": [
    "**A note on the assumption of ignorability**\n",
    "\n",
    "Before starting this example, an assumption was made that the missingness of 'Wind' was ignorable. Given that, it was concluded that the missingness of 'Wind' was dependent on the temperature at the time. However is ignorability a reasonable assumption to make?\n",
    "\n",
    "As was observed at the beginning of the section, a priori, the missingness of wind measurements are likely non-ignorable. For example, high winds on a given day may:\n",
    "* make it harder to travel to the spot where the wind readings are taken,\n",
    "* cause other emergencies that require attending to, making it less likely to find time to make the readings.\n",
    "\n",
    "However, in observing that 'severe conditions' in the mountains are also associated with low temperature, adding temperature measurements might *dampen* (not eliminate) some of this non-ignorability. To further reduce the effect, one might search for other attributes that associate with possible non-ignorable effects (like precipitation)."
   ]
  },
  {
   "cell_type": "markdown",
   "metadata": {},
   "source": [
    "## A procedure for distinguishing types of ignorable missing data\n",
    "\n",
    "Once missing data are assumed to be ignorable (i.e. explainable by the observed data), one still needs to understand *how* the missing attributes may depend on the observed data. That is, for each attribute, one needs to determine how the missingness of that attribute depends on other observed attributes. If the missingness of each attribute is independent of every other observed attribute, then the missing data is *unconditionally ignorable* or *missing completely at random* -- that is, the likelihood an observation is missing is well-modeled by a (biased) coin flip.\n",
    "\n",
    "### The algorithm\n",
    "\n",
    "Suppose the data collected in columns $C_I$ are assumed be ignorable.\n",
    "\n",
    "```\n",
    "dep_cols = {c:[] for c in C_I}\n",
    "\n",
    "For each attribute c in C_I:\n",
    "    For each attribute c' not equal to c:\n",
    "        Let D_mis(c') be the distribution of c' conditional on c=missing\n",
    "        Let D_obs(c') be the distribution of c' conditional on c=not missing\n",
    "        Determine if D_mis(c') ~ D_obs(c') (using permutation test)\n",
    "        if D_mis(c') ~ D_obs(c'):\n",
    "            D[c] = D[c] + [c']\n",
    "        else:\n",
    "            pass\n",
    "\n",
    "```\n",
    "\n",
    "This algorithm produces, for each ignorable attribute, a list of columns for which the missingness of the attribute depends. If the list of a given column is empty, then it's unconditionally ignorable (i.e. missing completely at random).\n",
    "\n",
    "*Remark:* The algorithm doesn't reveal *how* the missingness of a column may depend on the observed data. Such observations are very useful, but rely on analyzing the similarity of the two distributions more closely."
   ]
  },
  {
   "cell_type": "code",
   "execution_count": null,
   "metadata": {},
   "outputs": [],
   "source": []
  }
 ],
 "metadata": {
  "kernelspec": {
   "display_name": "Python 3",
   "language": "python",
   "name": "python3"
  },
  "language_info": {
   "codemirror_mode": {
    "name": "ipython",
    "version": 3
   },
   "file_extension": ".py",
   "mimetype": "text/x-python",
   "name": "python",
   "nbconvert_exporter": "python",
   "pygments_lexer": "ipython3",
   "version": "3.7.1"
  }
 },
 "nbformat": 4,
 "nbformat_minor": 2
}
