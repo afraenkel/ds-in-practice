{
 "cells": [
  {
   "cell_type": "code",
   "execution_count": 2,
   "metadata": {
    "tags": [
     "remove_cell"
    ]
   },
   "outputs": [],
   "source": [
    "% matplotlib inline\n",
    "\n",
    "import pandas as pd\n",
    "import numpy as np\n",
    "import seaborn as sns\n",
    "import matplotlib.pyplot as plt\n",
    "\n",
    "import warnings\n",
    "warnings.filterwarnings('ignore')\n",
    "\n",
    "colleges = pd.read_csv('data/colleges.csv')\n",
    "\n",
    "def college_id_cleaner(ser):\n",
    "    '''returns identifier COLLEGE_ID as an integer type'''\n",
    "    return ser.astype(int)\n",
    "\n",
    "def pct_fed_loan_cleaner(ser):\n",
    "    '''returns PCT_FED_LOAN as a proportion between 0 and 1.'''\n",
    "    return ser.str.strip('%').astype(float) / 100\n",
    "\n",
    "def median_grad_debt_cleaner(ser):\n",
    "    '''returns MEDIAN_GRAD_DEBT as a float (in USD)'''\n",
    "    return ser.replace('PrivacySuppressed', np.NaN).str.strip('$').astype(float)\n",
    "\n",
    "def setting_cleaner(ser):\n",
    "    '''returns SETTING column as a category data-type\n",
    "    ordered as RURAL < SUBURBAN < CITY < URBAN'''\n",
    "    values = ['Rural', 'Suburban', 'City', 'Urban']\n",
    "    values = ['Rural', 'Urban']\n",
    "    setting_dtype = pd.CategoricalDtype(categories=values, ordered=True)\n",
    "    return ser.astype(setting_dtype)\n",
    "\n",
    "csc_cleaning_map = {\n",
    "    'COLLEGE_ID': college_id_cleaner,\n",
    "    'PCT_FED_LOAN': pct_fed_loan_cleaner,\n",
    "    'MEDIAN_GRAD_DEBT': median_grad_debt_cleaner,\n",
    "    'SETTING': setting_cleaner\n",
    "}\n",
    "\n",
    "csc_cleaning_map = {x: csc_cleaning_map.get(x, lambda x:x) for x in colleges.columns}\n",
    "\n",
    "colleges = colleges.agg(csc_cleaning_map)\n"
   ]
  },
  {
   "cell_type": "markdown",
   "metadata": {},
   "source": [
    "# Exploratory Data Analysis (EDA): Part I\n",
    "---\n",
    "\n",
    "Exploratory Data Analysis (EDA) is the process of acquainting oneself with a dataset, in order to understand the observations it contains and assess those contents with respect to what is understood of the data generating process. Such an initial investigation informs subtle decisions in data cleaning, the sorts of questions the dataset can address, and the scope of events to which the dataset applies. \n",
    "\n",
    "An EDA immediately follows the basic steps of data cleaning and attempts to succinctly summarize a dataset with easily understandable tables and visualizations.\n",
    "\n",
    "The start of any EDA begins with visual summaries of each attribute, taking care to describe:\n",
    "* the shape of the data, using distributions,\n",
    "* where most the data lie, using percentiles, and\n",
    "* any outliers that may distort other descriptions.\n",
    "\n",
    "An EDA should proceed attribute-by-attribute, carefully summarizing the observations described above."
   ]
  },
  {
   "cell_type": "markdown",
   "metadata": {},
   "source": [
    "### Introduction to Seaborn\n",
    "\n",
    "[Seaborn](https://seaborn.pydata.org/) is a python plotting library that provides a convenient API for plotting common statistical summaries. Seaborn is typically imported as:\n",
    "```\n",
    "import seaborn as sns\n",
    "```\n",
    "\n",
    "The following plots are convenient for understanding the *univariate* statistics relevant to this section:\n",
    "* `distplot` plots the distribution of an attribution in three possible ways:\n",
    "    - a histogram with a specified number of bins,\n",
    "    - a density plot to estimate the overall shape of the distribution,\n",
    "    - a rug plot that plots individual data points as tick marks (for spotting outliers).\n",
    "* `boxplot` displays the quartiles of an attribute, along with the minimum and maximum values.\n",
    "* `countplot` displays the categorical distribution of an attribute as a bar chart."
   ]
  },
  {
   "cell_type": "markdown",
   "metadata": {},
   "source": [
    "### EDA on the college scorecard data\n",
    "\n",
    "Recall that the college scorecard data contains individual observations about colleges across the United States. The dataset analyzed below contains a small subset of attributes describing each college. \n",
    "\n",
    "Included below is a short investigation into two variables in the dataset. A thorough EDA would systematically approach every column.\n",
    "\n",
    "The quantitative attribute **MEDIAN_GRAD_DEBT** describes the median debt of students at each school upon graduation. The plot of the distribution shows:\n",
    "* Two modes for median student debt near \\\\$10000 and \\\\$26000,\n",
    "* A few colleges with median student debt above \\\\$50000.\n",
    "* The box-plot reveals that approximately 50\\% of the colleges have median student debt between the two modes seen in the distribution."
   ]
  },
  {
   "cell_type": "code",
   "execution_count": 4,
   "metadata": {},
   "outputs": [
    {
     "data": {
      "image/png": "[encoded data removed]",
      "text/plain": [
       "<Figure size 432x288 with 2 Axes>"
      ]
     },
     "metadata": {
      "needs_background": "light"
     },
     "output_type": "display_data"
    }
   ],
   "source": [
    "fig, (dist, box) = plt.subplots(1, 2)\n",
    "\n",
    "# distribution plot\n",
    "dist.set_title('Distribution of median debt')\n",
    "sns.distplot(\n",
    "    colleges['MEDIAN_GRAD_DEBT'].values, \n",
    "    bins=10, hist=True, kde=True, rug=True,\n",
    "    axlabel='median debt on graduation ($)',\n",
    "    ax=dist\n",
    ")\n",
    "\n",
    "# box plot\n",
    "box.set_title('Inter-quartile of median debt')\n",
    "sns.boxplot(colleges['MEDIAN_GRAD_DEBT'], ax=box);"
   ]
  },
  {
   "cell_type": "markdown",
   "metadata": {},
   "source": [
    "Investigating the outliers shows three colleges with a median debt of over \\\\$50000; two of these colleges are clearly related. This raises a question of data quality: have these schools have pooled their statistics across both campuses? Or are they coincidentally the same?"
   ]
  },
  {
   "cell_type": "code",
   "execution_count": 45,
   "metadata": {},
   "outputs": [
    {
     "data": {
      "text/html": [
       "<div>\n",
       "<style scoped>\n",
       "    .dataframe tbody tr th:only-of-type {\n",
       "        vertical-align: middle;\n",
       "    }\n",
       "\n",
       "    .dataframe tbody tr th {\n",
       "        vertical-align: top;\n",
       "    }\n",
       "\n",
       "    .dataframe thead th {\n",
       "        text-align: right;\n",
       "    }\n",
       "</style>\n",
       "<table border=\"1\" class=\"dataframe\">\n",
       "  <thead>\n",
       "    <tr style=\"text-align: right;\">\n",
       "      <th></th>\n",
       "      <th>COLLEGE_ID</th>\n",
       "      <th>NAME</th>\n",
       "      <th>UNDERGRAD_POP</th>\n",
       "      <th>PCT_FED_LOAN</th>\n",
       "      <th>MEDIAN_GRAD_DEBT</th>\n",
       "      <th>SETTING</th>\n",
       "    </tr>\n",
       "  </thead>\n",
       "  <tbody>\n",
       "    <tr>\n",
       "      <th>79</th>\n",
       "      <td>2491500</td>\n",
       "      <td>Southwest University of Visual Arts-Tucson</td>\n",
       "      <td>125.0</td>\n",
       "      <td>0.9242</td>\n",
       "      <td>51488.5</td>\n",
       "      <td>Urban</td>\n",
       "    </tr>\n",
       "    <tr>\n",
       "      <th>4122</th>\n",
       "      <td>2491501</td>\n",
       "      <td>Southwest University of Visual Arts-Albuquerque</td>\n",
       "      <td>66.0</td>\n",
       "      <td>0.9277</td>\n",
       "      <td>51488.5</td>\n",
       "      <td>Urban</td>\n",
       "    </tr>\n",
       "    <tr>\n",
       "      <th>4619</th>\n",
       "      <td>3513400</td>\n",
       "      <td>Apex School of Theology</td>\n",
       "      <td>646.0</td>\n",
       "      <td>0.9208</td>\n",
       "      <td>52000.0</td>\n",
       "      <td>Urban</td>\n",
       "    </tr>\n",
       "  </tbody>\n",
       "</table>\n",
       "</div>"
      ],
      "text/plain": [
       "      COLLEGE_ID                                             NAME  \\\n",
       "79       2491500       Southwest University of Visual Arts-Tucson   \n",
       "4122     2491501  Southwest University of Visual Arts-Albuquerque   \n",
       "4619     3513400                          Apex School of Theology   \n",
       "\n",
       "      UNDERGRAD_POP  PCT_FED_LOAN  MEDIAN_GRAD_DEBT SETTING  \n",
       "79            125.0        0.9242           51488.5   Urban  \n",
       "4122           66.0        0.9277           51488.5   Urban  \n",
       "4619          646.0        0.9208           52000.0   Urban  "
      ]
     },
     "execution_count": 45,
     "metadata": {},
     "output_type": "execute_result"
    }
   ],
   "source": [
    "colleges.loc[colleges.MEDIAN_GRAD_DEBT > 50000]"
   ]
  },
  {
   "cell_type": "markdown",
   "metadata": {},
   "source": [
    "The categorical attribute **SETTING** describes the environment (urban or rural) in which the college is located. The distribution of settings reveals that approximately 85% of the colleges are located in an urban environment:"
   ]
  },
  {
   "cell_type": "code",
   "execution_count": 5,
   "metadata": {},
   "outputs": [
    {
     "data": {
      "image/png": "[encoded data removed]",
      "text/plain": [
       "<Figure size 432x288 with 1 Axes>"
      ]
     },
     "metadata": {
      "needs_background": "light"
     },
     "output_type": "display_data"
    }
   ],
   "source": [
    "(\n",
    "    colleges['SETTING']\n",
    "    .value_counts(normalize=True)\n",
    "    .sort_index()\n",
    "    .plot(kind='bar', title='Distribution of SETTING')\n",
    ");"
   ]
  },
  {
   "cell_type": "code",
   "execution_count": null,
   "metadata": {},
   "outputs": [],
   "source": []
  }
 ],
 "metadata": {
  "celltoolbar": "Tags",
  "kernelspec": {
   "display_name": "Python 3",
   "language": "python",
   "name": "python3"
  },
  "language_info": {
   "codemirror_mode": {
    "name": "ipython",
    "version": 3
   },
   "file_extension": ".py",
   "mimetype": "text/x-python",
   "name": "python",
   "nbconvert_exporter": "python",
   "pygments_lexer": "ipython3",
   "version": "3.7.1"
  }
 },
 "nbformat": 4,
 "nbformat_minor": 2
}
