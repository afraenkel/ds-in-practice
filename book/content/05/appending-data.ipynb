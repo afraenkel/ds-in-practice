{
 "cells": [
  {
   "cell_type": "code",
   "execution_count": 2,
   "metadata": {
    "tags": [
     "remove_cell"
    ]
   },
   "outputs": [],
   "source": [
    "%matplotlib inline\n",
    "\n",
    "import numpy as np\n",
    "import pandas as pd\n",
    "\n",
    "pd.set_option('display.max_rows', 7)\n",
    "\n",
    "climbs = (\n",
    "    pd.read_csv('data/climbs.csv')\n",
    "    .assign(Route=lambda x:x['Route'].replace('Fuhrers Finger', \"Fuhrer's Finger\"))\n",
    ")"
   ]
  },
  {
   "cell_type": "markdown",
   "metadata": {},
   "source": [
    "# Combining Data: Observations\n",
    "---\n",
    "\n",
    "This section covers statistical and computational concerns associated with combining datasets. Broadly, there are two ways to augment a dataset:\n",
    "1. Extending existing attributes to other observations (e.g. in time or space) is computationally convenient, but raises questions of the scope of the dataset.\n",
    "1. Adding attributes to existing data creates a richer description of the observations, though the process of associate the new information to each individual observation may be ambiguous."
   ]
  },
  {
   "cell_type": "markdown",
   "metadata": {},
   "source": [
    "## Combining similar measurements of different individuals\n",
    "\n",
    "Datasets are often stored in many different files, for a variety of reasons. Consider a dataset consisting of residential home sales across the United States. There may be:\n",
    "\n",
    "* One file published every month of the home sales from that month.\n",
    "* Files published for each County in the United States.\n",
    "* Home sales split up into files of size 300MB for ease of storage on servers.\n",
    "\n",
    "In reality, such a dataset would likely be split as some combination of all three possibilities. Each of these needs careful attention is several possible ways: \n",
    "* the distributions of what's being measured may change (e.g. the recording of home sales became more reliable over time),\n",
    "* the meaning of the attributes may vary by what generated the data (e.g. each County reports sales differently),\n",
    "* the structure of the data itself may differ across files (e.g. a developer changes the data-ingestion code).\n",
    "\n",
    "While it's easy, memory permitting, to combine many files into a single table, the way in which a dataset is split offers a clue into how the data were recorded. These clues are valuable assets in understanding and assessing the faithfulness of the dataset to the assumptions on how the data were generated."
   ]
  },
  {
   "cell_type": "markdown",
   "metadata": {},
   "source": [
    "## Appending data row-wise\n",
    "\n",
    "In Pandas, the `concat` function combines many similar measurements into a single DataFrame. It takes in a list of DataFrames, aligns their columns, and returns a \"horizontally stacked\" DataFrame:"
   ]
  },
  {
   "cell_type": "code",
   "execution_count": 3,
   "metadata": {},
   "outputs": [],
   "source": [
    "df = pd.DataFrame(np.random.randint(0,10, size=(5,4)))\n",
    "df1, df2, df3 = df.iloc[[0]], df.iloc[[2]], df.iloc[[4]]"
   ]
  },
  {
   "cell_type": "code",
   "execution_count": 4,
   "metadata": {},
   "outputs": [
    {
     "data": {
      "text/html": [
       "<div>\n",
       "<style scoped>\n",
       "    .dataframe tbody tr th:only-of-type {\n",
       "        vertical-align: middle;\n",
       "    }\n",
       "\n",
       "    .dataframe tbody tr th {\n",
       "        vertical-align: top;\n",
       "    }\n",
       "\n",
       "    .dataframe thead th {\n",
       "        text-align: right;\n",
       "    }\n",
       "</style>\n",
       "<table border=\"1\" class=\"dataframe\">\n",
       "  <thead>\n",
       "    <tr style=\"text-align: right;\">\n",
       "      <th></th>\n",
       "      <th>0</th>\n",
       "      <th>1</th>\n",
       "      <th>2</th>\n",
       "      <th>3</th>\n",
       "    </tr>\n",
       "  </thead>\n",
       "  <tbody>\n",
       "    <tr>\n",
       "      <th>0</th>\n",
       "      <td>0</td>\n",
       "      <td>2</td>\n",
       "      <td>5</td>\n",
       "      <td>1</td>\n",
       "    </tr>\n",
       "  </tbody>\n",
       "</table>\n",
       "</div>"
      ],
      "text/plain": [
       "   0  1  2  3\n",
       "0  0  2  5  1"
      ]
     },
     "execution_count": 4,
     "metadata": {},
     "output_type": "execute_result"
    }
   ],
   "source": [
    "df1"
   ]
  },
  {
   "cell_type": "code",
   "execution_count": 5,
   "metadata": {},
   "outputs": [
    {
     "data": {
      "text/html": [
       "<div>\n",
       "<style scoped>\n",
       "    .dataframe tbody tr th:only-of-type {\n",
       "        vertical-align: middle;\n",
       "    }\n",
       "\n",
       "    .dataframe tbody tr th {\n",
       "        vertical-align: top;\n",
       "    }\n",
       "\n",
       "    .dataframe thead th {\n",
       "        text-align: right;\n",
       "    }\n",
       "</style>\n",
       "<table border=\"1\" class=\"dataframe\">\n",
       "  <thead>\n",
       "    <tr style=\"text-align: right;\">\n",
       "      <th></th>\n",
       "      <th>0</th>\n",
       "      <th>1</th>\n",
       "      <th>2</th>\n",
       "      <th>3</th>\n",
       "    </tr>\n",
       "  </thead>\n",
       "  <tbody>\n",
       "    <tr>\n",
       "      <th>2</th>\n",
       "      <td>2</td>\n",
       "      <td>8</td>\n",
       "      <td>5</td>\n",
       "      <td>1</td>\n",
       "    </tr>\n",
       "  </tbody>\n",
       "</table>\n",
       "</div>"
      ],
      "text/plain": [
       "   0  1  2  3\n",
       "2  2  8  5  1"
      ]
     },
     "execution_count": 5,
     "metadata": {},
     "output_type": "execute_result"
    }
   ],
   "source": [
    "df2"
   ]
  },
  {
   "cell_type": "code",
   "execution_count": 6,
   "metadata": {},
   "outputs": [
    {
     "data": {
      "text/html": [
       "<div>\n",
       "<style scoped>\n",
       "    .dataframe tbody tr th:only-of-type {\n",
       "        vertical-align: middle;\n",
       "    }\n",
       "\n",
       "    .dataframe tbody tr th {\n",
       "        vertical-align: top;\n",
       "    }\n",
       "\n",
       "    .dataframe thead th {\n",
       "        text-align: right;\n",
       "    }\n",
       "</style>\n",
       "<table border=\"1\" class=\"dataframe\">\n",
       "  <thead>\n",
       "    <tr style=\"text-align: right;\">\n",
       "      <th></th>\n",
       "      <th>0</th>\n",
       "      <th>1</th>\n",
       "      <th>2</th>\n",
       "      <th>3</th>\n",
       "    </tr>\n",
       "  </thead>\n",
       "  <tbody>\n",
       "    <tr>\n",
       "      <th>4</th>\n",
       "      <td>7</td>\n",
       "      <td>7</td>\n",
       "      <td>9</td>\n",
       "      <td>9</td>\n",
       "    </tr>\n",
       "  </tbody>\n",
       "</table>\n",
       "</div>"
      ],
      "text/plain": [
       "   0  1  2  3\n",
       "4  7  7  9  9"
      ]
     },
     "execution_count": 6,
     "metadata": {},
     "output_type": "execute_result"
    }
   ],
   "source": [
    "df3"
   ]
  },
  {
   "cell_type": "code",
   "execution_count": 7,
   "metadata": {},
   "outputs": [
    {
     "data": {
      "text/html": [
       "<div>\n",
       "<style scoped>\n",
       "    .dataframe tbody tr th:only-of-type {\n",
       "        vertical-align: middle;\n",
       "    }\n",
       "\n",
       "    .dataframe tbody tr th {\n",
       "        vertical-align: top;\n",
       "    }\n",
       "\n",
       "    .dataframe thead th {\n",
       "        text-align: right;\n",
       "    }\n",
       "</style>\n",
       "<table border=\"1\" class=\"dataframe\">\n",
       "  <thead>\n",
       "    <tr style=\"text-align: right;\">\n",
       "      <th></th>\n",
       "      <th>0</th>\n",
       "      <th>1</th>\n",
       "      <th>2</th>\n",
       "      <th>3</th>\n",
       "    </tr>\n",
       "  </thead>\n",
       "  <tbody>\n",
       "    <tr>\n",
       "      <th>0</th>\n",
       "      <td>0</td>\n",
       "      <td>2</td>\n",
       "      <td>5</td>\n",
       "      <td>1</td>\n",
       "    </tr>\n",
       "    <tr>\n",
       "      <th>2</th>\n",
       "      <td>2</td>\n",
       "      <td>8</td>\n",
       "      <td>5</td>\n",
       "      <td>1</td>\n",
       "    </tr>\n",
       "    <tr>\n",
       "      <th>4</th>\n",
       "      <td>7</td>\n",
       "      <td>7</td>\n",
       "      <td>9</td>\n",
       "      <td>9</td>\n",
       "    </tr>\n",
       "  </tbody>\n",
       "</table>\n",
       "</div>"
      ],
      "text/plain": [
       "   0  1  2  3\n",
       "0  0  2  5  1\n",
       "2  2  8  5  1\n",
       "4  7  7  9  9"
      ]
     },
     "execution_count": 7,
     "metadata": {},
     "output_type": "execute_result"
    }
   ],
   "source": [
    "dfList = df1, df2, df3\n",
    "pd.concat(dfList)"
   ]
  },
  {
   "cell_type": "markdown",
   "metadata": {},
   "source": [
    "**Example:** Suppose a dataset of residential home prices consists of 50 files named `prices_STATEABBR.csv`, where `STATEABBR` is the state abbreviation, each of which have the same format. Loading such a dataset into Pandas would follow the pattern:"
   ]
  },
  {
   "cell_type": "code",
   "execution_count": null,
   "metadata": {},
   "outputs": [],
   "source": [
    "import glob\n",
    "DIRNAME = 'data/home_prices'\n",
    "files = glob.glob(DIRNAME)\n",
    "states = [pd.read_csv(f) for f in files if f[:7] == 'prices_']\n",
    "prices = pd.concat(states)"
   ]
  },
  {
   "cell_type": "markdown",
   "metadata": {},
   "source": [
    "*Remark 1:* The module [`glob`](https://docs.python.org/3/library/glob.html) does Unix-style pattern matching.\n",
    "\n",
    "*Remark 2:* The state each file represents can be attached to the resulting DataFrame by extracting the state abbreviations from the file names and using the `concat` keyword `keys`."
   ]
  },
  {
   "cell_type": "markdown",
   "metadata": {},
   "source": [
    "## Application: out-of-core processing via chunking\n",
    "\n",
    "When a dataset is split over many files for space considerations, it may not be possible to collect the data into a single table. In these cases, it's necessary to process the data one file at a time, while still managing to calculate the desired quantities. Such a 'out-of-core' processing is often tricky.\n",
    "\n",
    "* Example of multi-file, one at a time (running mean).\n",
    "* Example of chunking with read_csv."
   ]
  },
  {
   "cell_type": "code",
   "execution_count": null,
   "metadata": {},
   "outputs": [],
   "source": []
  },
  {
   "cell_type": "markdown",
   "metadata": {},
   "source": [
    "## Application: Time Series\n",
    "\n",
    "Assessing data collected continuously in time requires understanding how these datasets change in time. To describe these data, one must first understand how to compute with dates and times.\n",
    "\n",
    "The data types relevant to time series data in Pandas are timestamps, time-deltas, and time-grouping objects.\n",
    "\n",
    "### Timestamps\n",
    "\n",
    "Pandas Timestamps represent a particular moment in time (e.g. Sat 8th, 2019 at 3:00PM). The Pandas Timestamp class are built upon Numpy's [datetime64](https://docs.scipy.org/doc/numpy/reference/arrays.datetime.html) class, which stores a moment in time as the number of seconds (or possibly milliseconds, nanoseconds) since Jan 1, 1970 as a 64 bit integer. This is representation of timestamps is known as [UNIX time](https://en.wikipedia.org/wiki/Unix_time).\n",
    "\n",
    "*Remark:* Pandas Timestamps differ from Numpy datetime64 objects in one primary way: they can also encode a timezone.\n",
    "\n",
    "To parse a date and time stored as a string, Pandas has the flexible `to_datetime` function, which:\n",
    "* Parses a string, or container of strings, to Timestamp objects.\n",
    "* Automatically infers the format of the date and time represented by the string.\n",
    "\n",
    "For example,"
   ]
  },
  {
   "cell_type": "code",
   "execution_count": 9,
   "metadata": {},
   "outputs": [
    {
     "data": {
      "text/plain": [
       "Timestamp('2019-09-07 18:38:00')"
      ]
     },
     "execution_count": 9,
     "metadata": {},
     "output_type": "execute_result"
    }
   ],
   "source": [
    "pd.to_datetime('Sat Sept 7th 2019, 6:38PM')"
   ]
  },
  {
   "cell_type": "code",
   "execution_count": 10,
   "metadata": {},
   "outputs": [
    {
     "data": {
      "text/plain": [
       "0   2018-01-04\n",
       "1   2017-12-31\n",
       "2   2018-03-15\n",
       "dtype: datetime64[ns]"
      ]
     },
     "execution_count": 10,
     "metadata": {},
     "output_type": "execute_result"
    }
   ],
   "source": [
    "dates = pd.Series(['1/4/2018', '12/31/2017', '3/15/2018'])\n",
    "pd.to_datetime(dates)"
   ]
  },
  {
   "cell_type": "markdown",
   "metadata": {},
   "source": [
    "The format inference can both parse lists of heterogeneous formats:"
   ]
  },
  {
   "cell_type": "code",
   "execution_count": 11,
   "metadata": {},
   "outputs": [
    {
     "data": {
      "text/plain": [
       "0   2018-01-04\n",
       "1   2017-12-31\n",
       "2   2018-03-15\n",
       "dtype: datetime64[ns]"
      ]
     },
     "execution_count": 11,
     "metadata": {},
     "output_type": "execute_result"
    }
   ],
   "source": [
    "dates = pd.Series(['1/4/2018', '2017-12-31', 'March 15, 2018'])\n",
    "pd.to_datetime(dates)"
   ]
  },
  {
   "cell_type": "markdown",
   "metadata": {},
   "source": [
    "The format inference also makes a best guess at the true values of underspecified dates and times. For example, simply specifying 'Saturday 2019' results in '2019-01-05', which is the first Saturday of 2019."
   ]
  },
  {
   "cell_type": "code",
   "execution_count": 12,
   "metadata": {},
   "outputs": [
    {
     "data": {
      "text/plain": [
       "Timestamp('2019-01-05 15:00:00')"
      ]
     },
     "execution_count": 12,
     "metadata": {},
     "output_type": "execute_result"
    }
   ],
   "source": [
    "pd.to_datetime('Sat 2019 at 3:00PM')"
   ]
  },
  {
   "cell_type": "markdown",
   "metadata": {},
   "source": [
    "The format inference done by the parser both slows down the parsing and struggles with determining ambiguous date formats (e.g. is 8/1/1970 in August or January?). For both correctness and performance, the format should explicitly be passed to `to_datetime` whenever possible!\n",
    "\n",
    "Below, the format for a date in MONTH/DAY/YEAR is specified by the string `'%m/%d/%Y'`. The full reference for specifying date formats in python may be found in the [documentation](https://docs.python.org/3/library/datetime.html#strftime-and-strptime-behavior), or in this [table](http://strftime.org/)."
   ]
  },
  {
   "cell_type": "code",
   "execution_count": 13,
   "metadata": {},
   "outputs": [
    {
     "data": {
      "text/plain": [
       "0   2018-01-04\n",
       "1   2017-12-31\n",
       "2   2018-03-15\n",
       "dtype: datetime64[ns]"
      ]
     },
     "execution_count": 13,
     "metadata": {},
     "output_type": "execute_result"
    }
   ],
   "source": [
    "dates = pd.Series(['1/4/2018', '12/31/2017', '3/15/2018'])\n",
    "parsed_dates = pd.to_datetime(dates, format='%m/%d/%Y')\n",
    "parsed_dates"
   ]
  },
  {
   "cell_type": "markdown",
   "metadata": {},
   "source": [
    "Timestamps have useful attributes and methods that return values such as the day of the week the timestamp falls on, the number of days in the month of the timestamp, a string representation of the timestamp in a specified format. For a full list, see the [documentation](https://pandas.pydata.org/pandas-docs/stable/reference/api/pandas.Timestamp.html).\n",
    "\n",
    "Pandas makes these methods and attributes available through the datetime namespace, accessed as `Series.dt`. For example, to calculate the (name of) day of the week of a column of dates:"
   ]
  },
  {
   "cell_type": "code",
   "execution_count": 14,
   "metadata": {},
   "outputs": [
    {
     "data": {
      "text/plain": [
       "0    Thursday\n",
       "1      Sunday\n",
       "2    Thursday\n",
       "dtype: object"
      ]
     },
     "execution_count": 14,
     "metadata": {},
     "output_type": "execute_result"
    }
   ],
   "source": [
    "parsed_dates.dt.day_name()"
   ]
  },
  {
   "cell_type": "markdown",
   "metadata": {},
   "source": [
    "**Example:** Parse the dates in the dataset of summit attempts of Mt. Rainier and calculate the distribution of climbers across the days of the week:"
   ]
  },
  {
   "cell_type": "code",
   "execution_count": 15,
   "metadata": {},
   "outputs": [],
   "source": [
    "climbs_parsed = climbs.assign(ParsedDate=pd.to_datetime(climbs['Date']))"
   ]
  },
  {
   "cell_type": "code",
   "execution_count": 16,
   "metadata": {},
   "outputs": [
    {
     "data": {
      "image/png": "[encoded data removed]",
      "text/plain": [
       "<Figure size 432x288 with 1 Axes>"
      ]
     },
     "metadata": {
      "needs_background": "light"
     },
     "output_type": "display_data"
    }
   ],
   "source": [
    "(\n",
    "    climbs_parsed\n",
    "    .assign(day_name=climbs_parsed.ParsedDate.dt.day_name())\n",
    "    .groupby('day_name')['Attempted']\n",
    "    .sum()\n",
    "    .loc['Monday Tuesday Wednesday Thursday Friday Saturday Sunday'.split()] # sort the days\n",
    "    .plot(kind='bar', rot=70, title='distribution of climbers by day')\n",
    ");"
   ]
  },
  {
   "cell_type": "markdown",
   "metadata": {},
   "source": [
    "Friday and Saturday are the most popular days for climbers to start up the mountain, coinciding with weekend trips.\n",
    "\n",
    "*Remark:* The `dayofweek` method, which returns an integer encoded representation of the day of the week, would also work in this case. This method would eliminate the sorting step, but would be less readable."
   ]
  },
  {
   "cell_type": "markdown",
   "metadata": {},
   "source": [
    "### Timedeltas\n",
    "\n",
    "Time deltas are the difference in times between two timestamps. Subtracting two timestamps results in a Timedelta object:"
   ]
  },
  {
   "cell_type": "code",
   "execution_count": 17,
   "metadata": {},
   "outputs": [
    {
     "data": {
      "text/plain": [
       "Timedelta('3 days 11:03:29')"
      ]
     },
     "execution_count": 17,
     "metadata": {},
     "output_type": "execute_result"
    }
   ],
   "source": [
    "ts1, ts2 = pd.to_datetime(['1/4/2018 7:31:30 AM', '12/31/2017 8:28:01 PM'])\n",
    "delta = ts1 - ts2\n",
    "delta"
   ]
  },
  {
   "cell_type": "markdown",
   "metadata": {},
   "source": [
    "Timedelta objects are defined:\n",
    "* by adding and substracting Timestamps,\n",
    "* using the constructor [`Timedelta`](https://pandas.pydata.org/pandas-docs/stable/reference/api/pandas.Timedelta.html)\n",
    "* using the parser [`to_timedelta`](https://pandas.pydata.org/pandas-docs/stable/reference/api/pandas.to_timedelta.html)\n",
    "\n",
    "Representing a change in time, Timedeltas may then be added or subtracted to Timestamp objects:"
   ]
  },
  {
   "cell_type": "code",
   "execution_count": 18,
   "metadata": {},
   "outputs": [
    {
     "data": {
      "text/plain": [
       "0   2018-12-08 11:37:41\n",
       "1   2019-01-04 07:26:43\n",
       "2   2018-03-19 01:16:28\n",
       "dtype: datetime64[ns]"
      ]
     },
     "execution_count": 18,
     "metadata": {},
     "output_type": "execute_result"
    }
   ],
   "source": [
    "dates = pd.Series(['12/5/2018 12:34:12 AM', '12/31/2018 8:23:14 PM', '3/15/2018 2:12:59 PM'])\n",
    "parsed_dates = pd.to_datetime(dates)\n",
    "\n",
    "parsed_dates + delta"
   ]
  },
  {
   "cell_type": "markdown",
   "metadata": {},
   "source": [
    "Timedeltas have useful [methods and attributes](https://pandas.pydata.org/pandas-docs/version/0.25/reference/api/pandas.Timedelta.html). For example, the `total_seconds` method converts a time delta to the total number of seconds elapsed:"
   ]
  },
  {
   "cell_type": "code",
   "execution_count": 19,
   "metadata": {},
   "outputs": [
    {
     "data": {
      "text/plain": [
       "299009.0"
      ]
     },
     "execution_count": 19,
     "metadata": {},
     "output_type": "execute_result"
    }
   ],
   "source": [
    "delta.total_seconds()"
   ]
  },
  {
   "cell_type": "markdown",
   "metadata": {},
   "source": [
    "**Example:** Select all parties that attempted to climb Mt. Rainier within 1 week of June 12, 2015."
   ]
  },
  {
   "cell_type": "code",
   "execution_count": null,
   "metadata": {},
   "outputs": [],
   "source": []
  },
  {
   "cell_type": "code",
   "execution_count": 20,
   "metadata": {},
   "outputs": [
    {
     "data": {
      "text/html": [
       "<div>\n",
       "<style scoped>\n",
       "    .dataframe tbody tr th:only-of-type {\n",
       "        vertical-align: middle;\n",
       "    }\n",
       "\n",
       "    .dataframe tbody tr th {\n",
       "        vertical-align: top;\n",
       "    }\n",
       "\n",
       "    .dataframe thead th {\n",
       "        text-align: right;\n",
       "    }\n",
       "</style>\n",
       "<table border=\"1\" class=\"dataframe\">\n",
       "  <thead>\n",
       "    <tr style=\"text-align: right;\">\n",
       "      <th></th>\n",
       "      <th>Date</th>\n",
       "      <th>Route</th>\n",
       "      <th>Attempted</th>\n",
       "      <th>Succeeded</th>\n",
       "      <th>ParsedDate</th>\n",
       "    </tr>\n",
       "  </thead>\n",
       "  <tbody>\n",
       "    <tr>\n",
       "      <th>1232</th>\n",
       "      <td>6/19/2015</td>\n",
       "      <td>Disappointment Cleaver</td>\n",
       "      <td>4</td>\n",
       "      <td>0</td>\n",
       "      <td>2015-06-19</td>\n",
       "    </tr>\n",
       "    <tr>\n",
       "      <th>1233</th>\n",
       "      <td>6/19/2015</td>\n",
       "      <td>Ptarmigan Ridge</td>\n",
       "      <td>3</td>\n",
       "      <td>3</td>\n",
       "      <td>2015-06-19</td>\n",
       "    </tr>\n",
       "    <tr>\n",
       "      <th>1234</th>\n",
       "      <td>6/19/2015</td>\n",
       "      <td>Disappointment Cleaver</td>\n",
       "      <td>5</td>\n",
       "      <td>5</td>\n",
       "      <td>2015-06-19</td>\n",
       "    </tr>\n",
       "    <tr>\n",
       "      <th>...</th>\n",
       "      <td>...</td>\n",
       "      <td>...</td>\n",
       "      <td>...</td>\n",
       "      <td>...</td>\n",
       "      <td>...</td>\n",
       "    </tr>\n",
       "    <tr>\n",
       "      <th>1505</th>\n",
       "      <td>6/5/2015</td>\n",
       "      <td>Disappointment Cleaver</td>\n",
       "      <td>12</td>\n",
       "      <td>12</td>\n",
       "      <td>2015-06-05</td>\n",
       "    </tr>\n",
       "    <tr>\n",
       "      <th>1506</th>\n",
       "      <td>6/5/2015</td>\n",
       "      <td>Disappointment Cleaver</td>\n",
       "      <td>3</td>\n",
       "      <td>3</td>\n",
       "      <td>2015-06-05</td>\n",
       "    </tr>\n",
       "    <tr>\n",
       "      <th>1507</th>\n",
       "      <td>6/5/2015</td>\n",
       "      <td>Kautz Glacier</td>\n",
       "      <td>3</td>\n",
       "      <td>3</td>\n",
       "      <td>2015-06-05</td>\n",
       "    </tr>\n",
       "  </tbody>\n",
       "</table>\n",
       "<p>276 rows × 5 columns</p>\n",
       "</div>"
      ],
      "text/plain": [
       "           Date                   Route  Attempted  Succeeded ParsedDate\n",
       "1232  6/19/2015  Disappointment Cleaver          4          0 2015-06-19\n",
       "1233  6/19/2015         Ptarmigan Ridge          3          3 2015-06-19\n",
       "1234  6/19/2015  Disappointment Cleaver          5          5 2015-06-19\n",
       "...         ...                     ...        ...        ...        ...\n",
       "1505   6/5/2015  Disappointment Cleaver         12         12 2015-06-05\n",
       "1506   6/5/2015  Disappointment Cleaver          3          3 2015-06-05\n",
       "1507   6/5/2015           Kautz Glacier          3          3 2015-06-05\n",
       "\n",
       "[276 rows x 5 columns]"
      ]
     },
     "execution_count": 20,
     "metadata": {},
     "output_type": "execute_result"
    }
   ],
   "source": [
    "ts = pd.to_datetime('June 12 2015')\n",
    "td = pd.to_timedelta('7 days')\n",
    "start_ts, end_ts = ts - td, ts + td\n",
    "    \n",
    "(\n",
    "    climbs_parsed\n",
    "    .loc[\n",
    "        (climbs_parsed['ParsedDate'] >= start_ts) & \n",
    "        (climbs_parsed['ParsedDate'] <= end_ts)\n",
    "    ]\n",
    ")"
   ]
  },
  {
   "cell_type": "markdown",
   "metadata": {},
   "source": [
    "### Grouping data by Time windows\n",
    "\n",
    "The Pandas `Grouper` allows one to group data by time frequency; this object is then passed to the splitting operation in a Pandas aggregation. Using `Grouper` requires specifying a frequency `freq` and a column `key` on which to group (if a key is omitted, the index is used).\n",
    "\n",
    "For example, a Grouper object for grouping the dates of climbing attempts on Mt. Rainier would use:"
   ]
  },
  {
   "cell_type": "code",
   "execution_count": 21,
   "metadata": {},
   "outputs": [
    {
     "data": {
      "text/plain": [
       "TimeGrouper(key='ParsedDate', freq=<Day>, axis=0, sort=True, closed='left', label='left', how='mean', convention='e', base=0)"
      ]
     },
     "execution_count": 21,
     "metadata": {},
     "output_type": "execute_result"
    }
   ],
   "source": [
    "grouper = pd.Grouper(key='ParsedDate', freq='1d')\n",
    "grouper"
   ]
  },
  {
   "cell_type": "markdown",
   "metadata": {},
   "source": [
    "*Remark:* Notice the `Grouper` object includes detailed attributes of how to defined the time windows. For details, see the [documentation](https://pandas.pydata.org/pandas-docs/stable/reference/api/pandas.Grouper.html).\n",
    "\n",
    "This grouper object can then be used to plot the number of climbers attempting to summit per day:"
   ]
  },
  {
   "cell_type": "code",
   "execution_count": 22,
   "metadata": {},
   "outputs": [
    {
     "data": {
      "image/png": "[encoded data removed]",
      "text/plain": [
       "<Figure size 432x288 with 1 Axes>"
      ]
     },
     "metadata": {
      "needs_background": "light"
     },
     "output_type": "display_data"
    }
   ],
   "source": [
    "climbs_parsed.groupby(grouper)['Attempted'].sum().plot(title='attempts per day to summit Mt. Rainier');"
   ]
  },
  {
   "cell_type": "markdown",
   "metadata": {},
   "source": [
    "This aggregation is noisy; the number of attempts varies wildly from day-to-day. For example, recall that there is more activity on the mountain during the weekend. The seasonal trend of when people are climbing Mt. Rainier is clearer when counting attempts by the week:"
   ]
  },
  {
   "cell_type": "code",
   "execution_count": 23,
   "metadata": {},
   "outputs": [
    {
     "data": {
      "image/png": "[encoded data removed]",
      "text/plain": [
       "<Figure size 432x288 with 1 Axes>"
      ]
     },
     "metadata": {
      "needs_background": "light"
     },
     "output_type": "display_data"
    }
   ],
   "source": [
    "grouper = pd.Grouper(key='ParsedDate', freq='7d')\n",
    "climbs_parsed.groupby(grouper)['Attempted'].sum().plot(title='attempts per week to summit Mt. Rainier');"
   ]
  },
  {
   "cell_type": "markdown",
   "metadata": {},
   "source": [
    "**Example:** Grouper objects may also be used in pivot tables. To plot the number of climbers attempting Mt. Ranier every two weeks, for each route:"
   ]
  },
  {
   "cell_type": "code",
   "execution_count": 24,
   "metadata": {},
   "outputs": [
    {
     "data": {
      "image/png": "[encoded data removed]",
      "text/plain": [
       "<Figure size 432x288 with 1 Axes>"
      ]
     },
     "metadata": {
      "needs_background": "light"
     },
     "output_type": "display_data"
    }
   ],
   "source": [
    "(\n",
    "    climbs_parsed\n",
    "    .pivot_table(\n",
    "        index=pd.Grouper(key='ParsedDate', freq='14d'), \n",
    "        columns='Route', \n",
    "        values='Attempted', \n",
    "        aggfunc='sum', \n",
    "        fill_value=0)\n",
    "    .plot(legend=False, title='Biweekly attempts to summit Mt. Rainier, per route')\n",
    ");"
   ]
  },
  {
   "cell_type": "code",
   "execution_count": null,
   "metadata": {},
   "outputs": [],
   "source": []
  }
 ],
 "metadata": {
  "kernelspec": {
   "display_name": "Python 3",
   "language": "python",
   "name": "python3"
  },
  "language_info": {
   "codemirror_mode": {
    "name": "ipython",
    "version": 3
   },
   "file_extension": ".py",
   "mimetype": "text/x-python",
   "name": "python",
   "nbconvert_exporter": "python",
   "pygments_lexer": "ipython3",
   "version": "3.7.1"
  }
 },
 "nbformat": 4,
 "nbformat_minor": 2
}
