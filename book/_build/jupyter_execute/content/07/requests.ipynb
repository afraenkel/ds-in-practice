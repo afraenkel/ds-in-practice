{
 "cells": [
  {
   "cell_type": "code",
   "execution_count": null,
   "metadata": {
    "tags": [
     "remove_cell"
    ]
   },
   "outputs": [],
   "source": [
    "%matplotlib inline\n",
    "import numpy as np\n",
    "import pandas as pd\n",
    "import seaborn as sns\n",
    "\n",
    "pd.set_option('display.max_rows', 7)"
   ]
  },
  {
   "cell_type": "markdown",
   "metadata": {},
   "source": [
    "# HTTP Requests\n",
    "\n",
    "---\n",
    "\n",
    "Data over the Internet are transmitted via *HTTP requests*. For example, a user browsing on a computer might want to watch a streaming video. By clicking on the link for the video, she makes a *request* for the video content. The request is sent via HTTP to a server (or computer) containing the video, which then *responds* with requested video.\n",
    "\n",
    "HTTP requests follow a request-response protocol: a client (i.e. user) makes a request and waits for a response from the server.\n",
    "\n",
    "<img src=\"imgs/req-resp.png\">\n",
    "\n",
    "Most communication between computers use this protocol. This includes:\n",
    "* Requesting the content of a webpage.\n",
    "* Requesting access to a secured user account.\n",
    "* One server requiring information from another (on an internal network).\n",
    "\n",
    "A Data Scientist might explicitly leverage HTTP requests when:\n",
    "* Requesting updated data from an API (application programming interface).\n",
    "* Scraping data from a set of webpages.\n",
    "* Making the results of a prediction algorithm available to the public.\n",
    "\n",
    "## The anatomy of HTTP\n",
    "\n",
    "The *hypertext transfer protocol* (HTTP) follows the 'request-response' message exchange pattern between clients and servers. \n",
    "* The server is discoverable and always available.\n",
    "* The client initiates a request to a server, then waits for a response.\n",
    "\n",
    "In order to communicate, the client and server must speak a common language.\n",
    "\n",
    "### HTTP Requests\n",
    "\n",
    "The anatomy of an HTTP request consists of:\n",
    "\n",
    "* The *request line*, consisting of a *method*, *resource*, and *protocol version*.\n",
    "* The request *headers*, that provides other information about the request, including context about who is making the request.\n",
    "* The request *body*, that provides any additional information needed to make the request (e.g. a user-name and password).\n",
    "\n",
    "**Example:** The HTTP-request below makes a request from www.catphotos.net to render a photo of a cat in the browser:\n",
    "```\n",
    "GET /photos/cat.png HTTP/1.1\n",
    "Host: www.catphotos.net\n",
    "User-agent: Mozilla/4.0\n",
    "Connection: close\n",
    "Accept-language: en\n",
    "\n",
    "data\n",
    "```\n",
    "\n",
    "* The *method* is `GET`\n",
    "* The resource being requested is `/photos/cat.png`. This is also known as the request target.\n",
    "* The headers contain:\n",
    "    - The host server where the resource lives.\n",
    "    - The user-agent, which contains information on the browser in which the content will be displayed.\n",
    "    - Whether the connection should be kept open, or closed, after the response is sent.\n",
    "    - The preferred language of the client.\n",
    "* The body in the request may contain other data.\n",
    "\n",
    "The method of an HTTP request lets the server know what is being requested of it. The most common requests are:\n",
    "\n",
    "* `GET` requests data from a server (e.g. a webpage, a dataset).\n",
    "* `HEAD` is identical to `GET`, without returning a response body. This method allows a client to 'preview' a response.\n",
    "* `POST` sends data to a server (e.g. authentication, a file upload).\n",
    "* `DELETE` deletes the specified resource on the server.\n",
    "\n",
    "This course will primarily request data using `GET`.\n",
    "\n",
    "### HTTP Responses\n",
    "\n",
    "The anatomy of an HTTP response consists of:\n",
    "\n",
    "* The *status line*, consisting of the *protocol version*, *status code*, and *status phrase*.\n",
    "* The *response headers*, that provide other information about the response, including information about the server that made the response, when the request was received, when the response was sent, etc.\n",
    "* The response *body* that includes the requested data.\n",
    "\n",
    "**Example:** The HTTP response below corresponds to the request from a client to the server at www.catphotos.net to render a photo of a cat in the browser:\n",
    "\n",
    "```\n",
    "HTTP/1.1 200 OK\n",
    "Connection close\n",
    "Date: Thu, 06 Aug 2006 12:00:15 GMT\n",
    "Server: Apache/1.3.0 (Unix)\n",
    "Last-Modified: Mon, 22 Jun 2006 ...\n",
    "Content-Length: 682105\n",
    "Content-Type: image/png\n",
    "\n",
    "iVBORw0KGgoAAAANSUhEUgAAANwAAA ...\n",
    "```\n",
    "\n",
    "* The *status* is `200`, meaning the request was successful.\n",
    "* The *status phrase* of a successful request is `OK`.\n",
    "* The *body* contains the data representing the image of the cat (encoded in base64, as text).\n",
    "\n",
    "The status code allows the client to classify and assess the success of a response, clarifying what may have gone wrong when the response was unexpected. Status codes fall into the following categories, with a few examples of each:\n",
    "```\n",
    "1xx: Informational. (E.g. 100 Continue)\n",
    "2xx: Success. (E.g. 200 Success)\n",
    "3xx: Redirection.\n",
    "4xx: Client Error. (E.g. 401 Bad Request; 403 Forbidden)\n",
    "5xx: Server Error. (E.g. 500 Internal Server Error; 509 Bandwidth Limit Exceeded)\n",
    "```"
   ]
  },
  {
   "cell_type": "markdown",
   "metadata": {},
   "source": [
    "## Python's `requests` library\n",
    "\n",
    "Python's `requests` library provides easy-to-use methods for making HTTP requests. The function `requests.get(url)` sends an HTTP request to a target `url`, returning an HTTP response:"
   ]
  },
  {
   "cell_type": "code",
   "execution_count": 3,
   "metadata": {},
   "outputs": [],
   "source": [
    "import requests\n",
    "resp = requests.get('http://ucsd.edu')"
   ]
  },
  {
   "cell_type": "markdown",
   "metadata": {},
   "source": [
    "The parts of the response are available as attributes of the response object:"
   ]
  },
  {
   "cell_type": "code",
   "execution_count": 23,
   "metadata": {},
   "outputs": [
    {
     "data": {
      "text/plain": [
       "(200, 'OK')"
      ]
     },
     "execution_count": 23,
     "metadata": {},
     "output_type": "execute_result"
    }
   ],
   "source": [
    "# status (codes)\n",
    "resp.status_code, resp.reason"
   ]
  },
  {
   "cell_type": "code",
   "execution_count": 12,
   "metadata": {},
   "outputs": [
    {
     "data": {
      "text/plain": [
       "{'Date': 'Sun, 27 Oct 2019 06:04:49 GMT', 'Server': 'Apache/2', 'Last-Modified': 'Fri, 25 Oct 2019 22:00:02 GMT', 'ETag': '\"8dc17-595c345935c80\"', 'Accept-Ranges': 'bytes', 'Keep-Alive': 'timeout=15, max=100', 'Connection': 'Keep-Alive', 'Content-Type': 'text/html; charset=UTF-8', 'Transfer-Encoding': 'chunked', 'Content-Encoding': 'gzip', 'Vary': 'Accept-encoding'}"
      ]
     },
     "execution_count": 12,
     "metadata": {},
     "output_type": "execute_result"
    }
   ],
   "source": [
    "# Response Headers\n",
    "resp.headers"
   ]
  },
  {
   "cell_type": "code",
   "execution_count": 25,
   "metadata": {},
   "outputs": [
    {
     "data": {
      "text/plain": [
       "'<!DOCTYPE html>\\n<html lang=\"en\">\\n  <head>\\n  \\n  \\n\\n '"
      ]
     },
     "execution_count": 25,
     "metadata": {},
     "output_type": "execute_result"
    }
   ],
   "source": [
    "# Body (text of the webpage)\n",
    "resp.text[:50]"
   ]
  },
  {
   "cell_type": "markdown",
   "metadata": {},
   "source": [
    "## Responsible use of HTTP requests\n",
    "\n",
    "Data collection tasks often involve sending HTTP requests *in bulk*. When sending a high volume of requests, one should always be careful with how the request logic is designed. Every request sent occupies the resources of the target server, *costing the owners of the server money* or even *bringing the website offline*. This observation mandates responsible use of HTTP requests, over both ethical and legal concerns.\n",
    "\n",
    "**Example:** A [journalist](http://www.storybench.org/to-scrape-or-not-to-scrape-the-technical-and-ethical-challenges-of-collecting-data-off-the-web/), frustrated with a prison's failure to respond to a request for information, decided to take matters into their own hand by using HTTP requests to scape information straight from the prison's website. The requests were so numerous, the prison website shut down. During this time, the family members were unable to contact their loved ones in prison.\n",
    "\n",
    "Guidelines for responsibly communicating via HTTP requests are:\n",
    "\n",
    "* Be transparent about what is making the requests (e.g. by changing the headers).\n",
    "* Check the website or API for what is allowed (e.g. check `robots.txt` and terms of service).\n",
    "* Make requests as slowly as possible, avoiding repetitive request patterns.\n",
    "\n",
    "Excessive use of HTTP requests may cause a server to block the client's IP Address, adversely affecting not only the irresponsible user, but those around them as well. Additionally, irresponsible use of rapid requests may cause the server to shut down (negatively affecting others) and bring about legal action.\n",
    "\n",
    "\n",
    "### Designing `requests` code\n",
    "\n",
    "Well designed code making HTTP requests will:\n",
    "* Responsibly limit request volume and velocity,\n",
    "* Be fault tolerant to failed requests,\n",
    "* Should ideally be *idempotent* (a successful request, made a second time, has no result).\n",
    "\n",
    "To limit the volume of requests, avoid unnecessary calls to a target url. For example, when developing code to process the response data, request the data *once*, save it, and develop on the cached data:"
   ]
  },
  {
   "cell_type": "code",
   "execution_count": null,
   "metadata": {},
   "outputs": [],
   "source": [
    "resp = request.get(url)\n",
    "body = resp.text\n",
    "# develop `process` after saving body\n",
    "process(body)"
   ]
  },
  {
   "cell_type": "markdown",
   "metadata": {},
   "source": [
    "When making many requests in succession, not every one is successful. For example, a request may fail because the target resource doesn't exist, or a website is limiting the rate at which the requests may be made. To handle unsuccessful requests, use:\n",
    "* response status codes to implement a 'try-retry' structure,\n",
    "* maintain a list of failed and successful client requests,\n",
    "* 'back-off' the velocity of requests when the server limits the request rates.\n",
    "\n",
    "For example, making an HTTP request that retries upon failure (with so called \"exponential back-off\") is given in the function below. Such a function is useful when a target url attempts to limit the rate of requests from a client:"
   ]
  },
  {
   "cell_type": "code",
   "execution_count": 35,
   "metadata": {},
   "outputs": [],
   "source": [
    "def request_with_retries(url, max_retry, retry=0):\n",
    "    '''returns a http reponse to the request to target url. If '''\n",
    "    resp = requests.get(url)\n",
    "    if resp.ok:\n",
    "        return resp\n",
    "    elif retry < max_retry:\n",
    "        time.sleep(2**retry)\n",
    "        return request_with_retries(url, max_retry, retry=(retry + 1))\n",
    "    else:\n",
    "        return resp"
   ]
  },
  {
   "cell_type": "markdown",
   "metadata": {},
   "source": [
    "Maintaining a simple log of successful and failed requests is useful to maintain a ledger of the current state of data collection:"
   ]
  },
  {
   "cell_type": "code",
   "execution_count": 38,
   "metadata": {},
   "outputs": [],
   "source": [
    "def request_with_logging(url, S, F):\n",
    "    '''returns the request and updated lists of\n",
    "    successful (S) and failed (F) target urls.\n",
    "    It returns None if the request has already \n",
    "    been succesfully made.'''\n",
    "    \n",
    "    if url in S:\n",
    "        return None, S, F\n",
    "    \n",
    "    resp = requests.get(url)\n",
    "    if resp.ok:\n",
    "        return resp, S + [url], F\n",
    "    else:\n",
    "        return resp, S, F + [url]"
   ]
  },
  {
   "cell_type": "markdown",
   "metadata": {},
   "source": [
    "## Data APIs\n",
    "\n",
    "Websites sometimes make data available especially for programmatic consumption through a *data API*, or application programming interface. Requesting data through a public API is the best way to collect data:\n",
    "* APIs are designed for programmatic consumption, giving implicit permission to access data.\n",
    "* The intentional design of APIs come with preferred best-practices for the given owner (permissions, rate-of-request).\n",
    "* APIs are typically orgranized, documented, and kept up-to-date.\n",
    "\n",
    "A common type of API is a REST API, which returns Javascript Object Notation (JSON)."
   ]
  },
  {
   "cell_type": "code",
   "execution_count": null,
   "metadata": {},
   "outputs": [],
   "source": [
    "requests.get('http://www.getmydata.com/v1/articles').text"
   ]
  },
  {
   "cell_type": "code",
   "execution_count": null,
   "metadata": {},
   "outputs": [],
   "source": [
    "[\n",
    "    {'articleId': 1, 'name': 'article name 1', 'text': '...'},\n",
    "    {'articleId': 2, 'name': 'article name 2', 'text': '...'}\n",
    "]"
   ]
  },
  {
   "cell_type": "markdown",
   "metadata": {},
   "source": [
    "*Remarks:*\n",
    "* The `v1` in the target url describes the version of the API-endpoint (for reference in documentation).\n",
    "* The output JSON is parsed as a list of python dictionaries.\n",
    "\n",
    "One can also include complex queries in the data by including additional data into the target url; this process is called 'url encoding'. For example, one might request only science articles from 2015 by using the request:"
   ]
  },
  {
   "cell_type": "code",
   "execution_count": null,
   "metadata": {},
   "outputs": [],
   "source": [
    "requests.get('http://www.getmydata.com/v1/articles?date=2015&genre=science').text"
   ]
  },
  {
   "cell_type": "markdown",
   "metadata": {},
   "source": [
    "The query fields are usually found in the API documentation, corresponding to version `v1`."
   ]
  },
  {
   "cell_type": "markdown",
   "metadata": {},
   "source": [
    "## Scraping Basics\n",
    "\n",
    "Screen scraping refers to programmatically browsing the web, downloading and parsing the source HTML of each webpage. Screen scraping is a useful data collection technique, as it's possible whenever a page is visible to the public eye. However, it should be considered as a last resort for a number of reasons:\n",
    "* Data derived from raw HTML and javascript are difficult to parse and clean.\n",
    "* The source of webpages changes often, making scraping code hard to maintain.\n",
    "* Scraping costs webpage owners money.\n",
    "\n",
    "There are good reasons for scraping as well:\n",
    "* Not all scraping is unethical; sometimes it brings value to the webpage owner.\n",
    "* Search engines scrape webpages to index them and make them searchable.\n",
    "* Making an API takes work and the site owner has no qualms with moderate amount of data collection.\n",
    "\n",
    "Best practices for scraping include keeping the rate of requests slow, respecting the policy laid out in the `robots.txt` file, and following the website's terms of service.\n",
    "\n",
    "### Designing scraping code\n",
    "\n",
    "Collecting data from websites through scraping usually involves requesting and parsing HTML from many different websites. Such code should be separated into functionally different pieces. For example, the pieces of scraping code may break up into the following pieces:\n",
    "* Managing all urls requested,\n",
    "* Executing the request-response protocol,\n",
    "* Parsing the HTML to extract need data from the source.\n",
    "\n",
    "In particular the HTML extraction should be developed on data that is only requested *once*. Don't make unneeded requests before data is even being collected!\n",
    "\n",
    "**Example:** The simple scraper below makes simple attempts to implement responsible scraping concepts:\n",
    "* Logging to keep track of urls that have been successfully or unsuccessfully requested,\n",
    "* A `parse_html` function that processes a successful http-response."
   ]
  },
  {
   "cell_type": "code",
   "execution_count": null,
   "metadata": {},
   "outputs": [],
   "source": [
    "class SimpleScraper(object):\n",
    "    \n",
    "    def __init__(self):\n",
    "        self.success = []\n",
    "        self.failure = []\n",
    "        \n",
    "    def make_request(self, url):\n",
    "        if url in self.success:\n",
    "            return None\n",
    "\n",
    "        resp = request_with_retries(url, max_retries=10)\n",
    "        if resp.ok:\n",
    "            self.success.append(url)\n",
    "            return resp\n",
    "        else:\n",
    "            self.failure.append(url)\n",
    "            return resp\n",
    "        \n",
    "    def parse_html(resp):\n",
    "\n",
    "        if not (resp and resp.ok):\n",
    "            return None\n",
    "        \n",
    "        parsed = ... # code for parsing HTML\n",
    "        return parsed\n",
    "    \n",
    "    def scrape(urls):\n",
    "        for url in urls:\n",
    "            resp = self.make_request(url)\n",
    "            parsed = parse_html(resp)\n",
    "            yield parsed\n"
   ]
  }
 ],
 "metadata": {
  "kernelspec": {
   "display_name": "Python 3",
   "language": "python",
   "name": "python3"
  },
  "language_info": {
   "codemirror_mode": {
    "name": "ipython",
    "version": 3
   },
   "file_extension": ".py",
   "mimetype": "text/x-python",
   "name": "python",
   "nbconvert_exporter": "python",
   "pygments_lexer": "ipython3",
   "version": "3.7.1"
  }
 },
 "nbformat": 4,
 "nbformat_minor": 2
}