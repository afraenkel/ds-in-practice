{
 "cells": [
  {
   "cell_type": "code",
   "execution_count": 387,
   "metadata": {
    "tags": [
     "remove_cell"
    ]
   },
   "outputs": [],
   "source": [
    "%matplotlib inline\n",
    "\n",
    "import pandas as pd\n",
    "import numpy as np\n",
    "\n",
    "pd.set_option('display.max_rows', 7)"
   ]
  },
  {
   "cell_type": "markdown",
   "metadata": {},
   "source": [
    "# Cleaning Messy Data\n",
    "\n",
    "---"
   ]
  },
  {
   "cell_type": "markdown",
   "metadata": {},
   "source": [
    "## Raw data doesn't exist\n",
    "\n",
    "A dataset, at best, represents a process under study. However, information is always lost and biases are often introduced between the occurrence of the process and recording the observations in a dataset. A person must decide what relevant measurements to make and implement the instrumentation. These human decisions create a gap between the process under study and the observations being used to study it.\n",
    "\n",
    "The following terms, previously discussed in relation to the scientific method, describe the core objects of study in data science:\n",
    "* A **data generating process (DGP)** is the underlying, real-world mechanism that generates the observed data.\n",
    "* **Observed data** (creating a dataset) are incomplete artifacts of the data generating process.\n",
    "* A **(probability) model** is a simplified explanation of the data generating process. The process described using a model is compared to the observed data to judge the quality of the explanation.\n",
    "\n",
    "**Example:** ...\n",
    "\n",
    "To make life more difficult, data scientists often find themselves working with already existing datasets created for purposes different than their current interest. In these cases, special care must be taken to understand both what process the dataset represents and how well it represents it. As such, the data scientist should be an ever-skeptical detective attempting to describe the story of how the dataset came to be, including:\n",
    "1. a rough description of the assumptions on the underlying data generating process,\n",
    "1. a detailed description of how the DGP came to populate each field in the dataset (the measurements),\n",
    "1. a detailed description of any data processing and/or storage decisions that affected the values in the dataset.\n",
    "\n",
    "These descriptions together form the data's **provenance**. \n",
    "\n",
    "\"Messy data\" are deviations from the process being modeled that *are not* due to randomness. Armed with the provenance for a dataset, the data scientist \"cleans\" the messy data to best reflect the data generating process."
   ]
  },
  {
   "cell_type": "markdown",
   "metadata": {},
   "source": [
    "## Data Cleaning\n",
    "\n",
    "**Definition:** Data cleaning is the process of transforming data into a faithful representation of an underlying data generating process to facilitate subsequent analysis.\n",
    "\n",
    "A common procedure for data cleaning often involves:\n",
    "1. Fixing data types so columns reflect the *kind* of data in each field,\n",
    "1. Resolving ambiguities and inconsistencies in the data,\n",
    "1. Identifying corrupt or unlikely values for removal, fixing, or declaration as missing.\n",
    "\n",
    "Each of these procedures will require applying an arsenal of new Pandas methods to the columns of an existing dataset, while storing the result in a cleaned dataset."
   ]
  },
  {
   "cell_type": "markdown",
   "metadata": {},
   "source": [
    "### Data types\n",
    "\n",
    "Datasets are often designed for human consumption, rather than for computation. Thus, a data scientist attempting to simply describe the contents of a dataset must first fix data-type errors. Whenever possible, one should leverage existing dataset documentation (such as a *data dictionary* or a *database schema*) to set the data-types. In the absence of such resources, one must infer the correct types by reasoning about the process that generated the data.\n",
    "\n",
    "* **Cleaning the data types** of the columns of a dataset involves resolving the data types present in the columns of a dataset with the *kind of data* represented in each column.\n",
    "\n",
    "Such cleaning is illustrated in the example below.\n",
    "\n",
    "**Example:** The observations contained in the dataset below consists of each campus of the University of California. These observations derive from the [College Scorecard Dataset](https://collegescorecard.ed.gov/data/). Each observation consists of the follow attributes:\n",
    "1. COLLEGE_ID: unique ID for each college\n",
    "1. NAME: name of the institution\n",
    "1. UNDERGRAD_POP: the size of each university's undergraduate population\n",
    "1. PCT_FED_LOAN: the percentage of students at the university who took out federal student loans\n",
    "1. MEDIAN_GRAD_DEBT: the median debt that students hold upon graduation\n",
    "1. SETTING: the type of environment in which the university is located"
   ]
  },
  {
   "cell_type": "code",
   "execution_count": 388,
   "metadata": {},
   "outputs": [
    {
     "data": {
      "text/html": [
       "<div>\n",
       "<style scoped>\n",
       "    .dataframe tbody tr th:only-of-type {\n",
       "        vertical-align: middle;\n",
       "    }\n",
       "\n",
       "    .dataframe tbody tr th {\n",
       "        vertical-align: top;\n",
       "    }\n",
       "\n",
       "    .dataframe thead th {\n",
       "        text-align: right;\n",
       "    }\n",
       "</style>\n",
       "<table border=\"1\" class=\"dataframe\">\n",
       "  <thead>\n",
       "    <tr style=\"text-align: right;\">\n",
       "      <th></th>\n",
       "      <th>COLLEGE_ID</th>\n",
       "      <th>NAME</th>\n",
       "      <th>UNDERGRAD_POP</th>\n",
       "      <th>PCT_FED_LOAN</th>\n",
       "      <th>MEDIAN_GRAD_DEBT</th>\n",
       "      <th>SETTING</th>\n",
       "    </tr>\n",
       "  </thead>\n",
       "  <tbody>\n",
       "    <tr>\n",
       "      <th>0</th>\n",
       "      <td>131200.0</td>\n",
       "      <td>University of California-Berkeley</td>\n",
       "      <td>30574.0</td>\n",
       "      <td>23.73%</td>\n",
       "      <td>$13200</td>\n",
       "      <td>City</td>\n",
       "    </tr>\n",
       "    <tr>\n",
       "      <th>1</th>\n",
       "      <td>131300.0</td>\n",
       "      <td>University of California-Davis</td>\n",
       "      <td>30046.0</td>\n",
       "      <td>36.0%</td>\n",
       "      <td>$14000</td>\n",
       "      <td>City</td>\n",
       "    </tr>\n",
       "    <tr>\n",
       "      <th>2</th>\n",
       "      <td>131400.0</td>\n",
       "      <td>University of California-Irvine</td>\n",
       "      <td>29295.0</td>\n",
       "      <td>36.4%</td>\n",
       "      <td>$16500</td>\n",
       "      <td>Suburban</td>\n",
       "    </tr>\n",
       "    <tr>\n",
       "      <th>...</th>\n",
       "      <td>...</td>\n",
       "      <td>...</td>\n",
       "      <td>...</td>\n",
       "      <td>...</td>\n",
       "      <td>...</td>\n",
       "      <td>...</td>\n",
       "    </tr>\n",
       "    <tr>\n",
       "      <th>6</th>\n",
       "      <td>132000.0</td>\n",
       "      <td>University of California-Santa Barbara</td>\n",
       "      <td>22181.0</td>\n",
       "      <td>36.32%</td>\n",
       "      <td>$16300</td>\n",
       "      <td>Suburban</td>\n",
       "    </tr>\n",
       "    <tr>\n",
       "      <th>7</th>\n",
       "      <td>132100.0</td>\n",
       "      <td>University of California-Santa Cruz</td>\n",
       "      <td>17577.0</td>\n",
       "      <td>46.41%</td>\n",
       "      <td>$19700</td>\n",
       "      <td>Suburban</td>\n",
       "    </tr>\n",
       "    <tr>\n",
       "      <th>8</th>\n",
       "      <td>4127100.0</td>\n",
       "      <td>University of California-Merced</td>\n",
       "      <td>7375.0</td>\n",
       "      <td>50.13%</td>\n",
       "      <td>$19018</td>\n",
       "      <td>Rural</td>\n",
       "    </tr>\n",
       "  </tbody>\n",
       "</table>\n",
       "<p>9 rows × 6 columns</p>\n",
       "</div>"
      ],
      "text/plain": [
       "    COLLEGE_ID                                    NAME  UNDERGRAD_POP  \\\n",
       "0     131200.0       University of California-Berkeley        30574.0   \n",
       "1     131300.0          University of California-Davis        30046.0   \n",
       "2     131400.0         University of California-Irvine        29295.0   \n",
       "..         ...                                     ...            ...   \n",
       "6     132000.0  University of California-Santa Barbara        22181.0   \n",
       "7     132100.0     University of California-Santa Cruz        17577.0   \n",
       "8    4127100.0         University of California-Merced         7375.0   \n",
       "\n",
       "   PCT_FED_LOAN MEDIAN_GRAD_DEBT   SETTING  \n",
       "0        23.73%           $13200      City  \n",
       "1         36.0%           $14000      City  \n",
       "2         36.4%           $16500  Suburban  \n",
       "..          ...              ...       ...  \n",
       "6        36.32%           $16300  Suburban  \n",
       "7        46.41%           $19700  Suburban  \n",
       "8        50.13%           $19018     Rural  \n",
       "\n",
       "[9 rows x 6 columns]"
      ]
     },
     "execution_count": 388,
     "metadata": {},
     "output_type": "execute_result"
    }
   ],
   "source": [
    "uc = pd.read_csv('data/ucschools.csv')\n",
    "uc"
   ]
  },
  {
   "cell_type": "markdown",
   "metadata": {},
   "source": [
    "Any attempts to perform an exploratory data analysis on the columns of the `uc` dataset would quickly produce type-errors (verify this yourself!). To assess each field of the `uc` dataset, Pandas provides a DataFrame property `.dtypes` that returns a series with the data type of each column.\n",
    "\n",
    "The table `uc` contain columns of `float` and `object` data-types. Recall that `object` columns contain mixed data-types and are usually indicative of the presence of `string` values. Determine which data-types in the table match the data-types implied by the kind of attribute each column contains."
   ]
  },
  {
   "cell_type": "code",
   "execution_count": 389,
   "metadata": {},
   "outputs": [
    {
     "data": {
      "text/plain": [
       "COLLEGE_ID          float64\n",
       "NAME                 object\n",
       "UNDERGRAD_POP       float64\n",
       "PCT_FED_LOAN         object\n",
       "MEDIAN_GRAD_DEBT     object\n",
       "SETTING              object\n",
       "dtype: object"
      ]
     },
     "execution_count": 389,
     "metadata": {},
     "output_type": "execute_result"
    }
   ],
   "source": [
    "uc.dtypes"
   ]
  },
  {
   "cell_type": "markdown",
   "metadata": {},
   "source": [
    "*COLLEGE_ID Column:* This column is a unique identifier for each university. As there doesn't seem to be a meaningful order to the column, it is likely *nominal*. Since floating-point numbers are subject to rounding errors, representing COLLEGE_ID as a float might change the unique identifier for an observation. Thus, such column should be represented as either an integer-type or string-type. While either choice is faithful to the meaning of the field, storing the values as `int`-types is more space-efficient.\n",
    "\n",
    "*Remark:* Why are the values float-type in the first place? Data processing programs often incorrectly infer data-types. If a column is purely numeric, the program will assume the column is quantitative in nature.\n",
    "\n",
    "Transform the type of the column using the `astype` Series method:"
   ]
  },
  {
   "cell_type": "code",
   "execution_count": 390,
   "metadata": {},
   "outputs": [
    {
     "data": {
      "text/plain": [
       "0     131200\n",
       "1     131300\n",
       "2     131400\n",
       "      ...   \n",
       "6     132000\n",
       "7     132100\n",
       "8    4127100\n",
       "Name: COLLEGE_ID, Length: 9, dtype: int64"
      ]
     },
     "execution_count": 390,
     "metadata": {},
     "output_type": "execute_result"
    }
   ],
   "source": [
    "uc['COLLEGE_ID'].astype(int)"
   ]
  },
  {
   "cell_type": "markdown",
   "metadata": {},
   "source": [
    "*PCT_FED_LOAN Column:* This column represents a quantitative column, yet the column in Pandas is of `object` type. One can confirm these values are strings by inspecting one of the entries:"
   ]
  },
  {
   "cell_type": "code",
   "execution_count": 391,
   "metadata": {},
   "outputs": [
    {
     "data": {
      "text/plain": [
       "('23.73%', str)"
      ]
     },
     "execution_count": 391,
     "metadata": {},
     "output_type": "execute_result"
    }
   ],
   "source": [
    "ucb_loans = uc.loc[0, 'PCT_FED_LOAN']\n",
    "ucb_loans, type(ucb_loans)"
   ]
  },
  {
   "cell_type": "markdown",
   "metadata": {},
   "source": [
    "Because of the presence of the `%` symbol, Pandas doesn't immediately know how to coerce the values of PCT_FED_LOAN to float-type (verify this!). The column requires cleaning first: strip off the `%`, then coerce the remaining number to a float-type. To strip off the `%` characters, use the string methods Pandas provides within its `str` name-space. The cleaning steps are as follows:\n",
    "1. strip the `%` character off the end of each string using `Series.str.strip`,\n",
    "1. coerce the remain string to a float using `astype`,\n",
    "1. convert the percentage (between 0-100) to a proportion (between 0-1)."
   ]
  },
  {
   "cell_type": "code",
   "execution_count": 392,
   "metadata": {},
   "outputs": [
    {
     "data": {
      "text/plain": [
       "0    0.2373\n",
       "1    0.3600\n",
       "2    0.3640\n",
       "      ...  \n",
       "6    0.3632\n",
       "7    0.4641\n",
       "8    0.5013\n",
       "Name: PCT_FED_LOAN, Length: 9, dtype: float64"
      ]
     },
     "execution_count": 392,
     "metadata": {},
     "output_type": "execute_result"
    }
   ],
   "source": [
    "(\n",
    "    uc['PCT_FED_LOAN']\n",
    "    .str.strip('%')\n",
    "    .astype(float)\n",
    "    / 100\n",
    ")"
   ]
  },
  {
   "cell_type": "markdown",
   "metadata": {},
   "source": [
    "*MEDIAN_GRAD_DEBT Column:* Similarly, the median debt at graduation is a quantitative column being represent as a string-type because of the presence of the `$` character. A similar process translates these formatted strings into float-types:"
   ]
  },
  {
   "cell_type": "code",
   "execution_count": 393,
   "metadata": {},
   "outputs": [
    {
     "data": {
      "text/plain": [
       "0    13200.0\n",
       "1    14000.0\n",
       "2    16500.0\n",
       "      ...   \n",
       "6    16300.0\n",
       "7    19700.0\n",
       "8    19018.0\n",
       "Name: MEDIAN_GRAD_DEBT, Length: 9, dtype: float64"
      ]
     },
     "execution_count": 393,
     "metadata": {},
     "output_type": "execute_result"
    }
   ],
   "source": [
    "(\n",
    "    uc['MEDIAN_GRAD_DEBT']\n",
    "    .str.strip('$')\n",
    "    .astype(float)\n",
    ")"
   ]
  },
  {
   "cell_type": "markdown",
   "metadata": {},
   "source": [
    "*SETTING Column:* This column is ordinal, as there is an ordering of a university's setting by population density. The ordering of the values is:\n",
    "```\n",
    "Rural < Suburban < City < Urban\n",
    "```\n",
    "There are three options for cleaning an ordinal column, each with advantages and disadvantages. The ordinal column can be left as is, using the given string representation, mapped to integer values reflecting the ordering described above, or encoded using a Pandas `Categorical` data-type.\n",
    "\n",
    "For example, one can create an explicit integer-encoding by passing a dictionary to the `replace` method:"
   ]
  },
  {
   "cell_type": "code",
   "execution_count": 394,
   "metadata": {},
   "outputs": [
    {
     "data": {
      "text/plain": [
       "0    2\n",
       "1    2\n",
       "2    1\n",
       "    ..\n",
       "6    1\n",
       "7    1\n",
       "8    0\n",
       "Name: SETTING, Length: 9, dtype: int64"
      ]
     },
     "execution_count": 394,
     "metadata": {},
     "output_type": "execute_result"
    }
   ],
   "source": [
    "encoding = {\n",
    "    'Rural': 0,\n",
    "    'Suburban': 1,\n",
    "    'City': 2,\n",
    "    'Urban': 3\n",
    "}\n",
    "\n",
    "uc['SETTING'].replace(encoding)"
   ]
  },
  {
   "cell_type": "markdown",
   "metadata": {},
   "source": [
    "Alternatively, Pandas has a `categorical` data-type that does this conversion automatically.  However, a categorical data-type representing an ordinal column must have the order explicitly defined:"
   ]
  },
  {
   "cell_type": "code",
   "execution_count": 395,
   "metadata": {},
   "outputs": [
    {
     "data": {
      "text/plain": [
       "CategoricalDtype(categories=['Rural', 'Suburban', 'City', 'Urban'], ordered=True)"
      ]
     },
     "execution_count": 395,
     "metadata": {},
     "output_type": "execute_result"
    }
   ],
   "source": [
    "values = ['Rural', 'Suburban', 'City', 'Urban'] # with order!\n",
    "setting_dtype = pd.CategoricalDtype(categories=values, ordered=True)\n",
    "setting_dtype"
   ]
  },
  {
   "cell_type": "code",
   "execution_count": 396,
   "metadata": {},
   "outputs": [
    {
     "data": {
      "text/plain": [
       "0        City\n",
       "1        City\n",
       "2    Suburban\n",
       "       ...   \n",
       "6    Suburban\n",
       "7    Suburban\n",
       "8       Rural\n",
       "Name: SETTING, Length: 9, dtype: category\n",
       "Categories (4, object): [Rural < Suburban < City < Urban]"
      ]
     },
     "execution_count": 396,
     "metadata": {},
     "output_type": "execute_result"
    }
   ],
   "source": [
    "uc['SETTING'].astype(setting_dtype)"
   ]
  },
  {
   "cell_type": "markdown",
   "metadata": {},
   "source": [
    "*UNDERGRAD_POP Column:* This column is quantitative, as arithmetic on this column makes sense. For example, the average or total undergraduate populations across schools represent meaningful quantities. As such, even though the column represents integer counts (students don't come in fractions!), float-types can be considered appropriate, along with integer-types."
   ]
  },
  {
   "cell_type": "markdown",
   "metadata": {},
   "source": [
    "Finally, one can combine the cleaning steps above into a new table:"
   ]
  },
  {
   "cell_type": "code",
   "execution_count": 397,
   "metadata": {},
   "outputs": [],
   "source": [
    "cleaned_uc = (\n",
    "    pd.DataFrame().assign(\n",
    "        COLLEGE_ID=uc['COLLEGE_ID'].astype(int),\n",
    "        NAME=uc['NAME'],\n",
    "        UNDERGRAD_POP=uc['UNDERGRAD_POP'],\n",
    "        PCT_FED_LOAN=(uc['PCT_FED_LOAN'].str.strip('%').astype(float) / 100),\n",
    "        MEDIAN_GRAD_DEBT=uc['MEDIAN_GRAD_DEBT'].str.strip('$').astype(float),\n",
    "        SETTING=uc['SETTING'].astype(setting_dtype)\n",
    "    )\n",
    ")"
   ]
  },
  {
   "cell_type": "code",
   "execution_count": 398,
   "metadata": {},
   "outputs": [
    {
     "data": {
      "text/html": [
       "<div>\n",
       "<style scoped>\n",
       "    .dataframe tbody tr th:only-of-type {\n",
       "        vertical-align: middle;\n",
       "    }\n",
       "\n",
       "    .dataframe tbody tr th {\n",
       "        vertical-align: top;\n",
       "    }\n",
       "\n",
       "    .dataframe thead th {\n",
       "        text-align: right;\n",
       "    }\n",
       "</style>\n",
       "<table border=\"1\" class=\"dataframe\">\n",
       "  <thead>\n",
       "    <tr style=\"text-align: right;\">\n",
       "      <th></th>\n",
       "      <th>COLLEGE_ID</th>\n",
       "      <th>NAME</th>\n",
       "      <th>UNDERGRAD_POP</th>\n",
       "      <th>PCT_FED_LOAN</th>\n",
       "      <th>MEDIAN_GRAD_DEBT</th>\n",
       "      <th>SETTING</th>\n",
       "    </tr>\n",
       "  </thead>\n",
       "  <tbody>\n",
       "    <tr>\n",
       "      <th>0</th>\n",
       "      <td>131200</td>\n",
       "      <td>University of California-Berkeley</td>\n",
       "      <td>30574.0</td>\n",
       "      <td>0.2373</td>\n",
       "      <td>13200.0</td>\n",
       "      <td>City</td>\n",
       "    </tr>\n",
       "    <tr>\n",
       "      <th>1</th>\n",
       "      <td>131300</td>\n",
       "      <td>University of California-Davis</td>\n",
       "      <td>30046.0</td>\n",
       "      <td>0.3600</td>\n",
       "      <td>14000.0</td>\n",
       "      <td>City</td>\n",
       "    </tr>\n",
       "    <tr>\n",
       "      <th>2</th>\n",
       "      <td>131400</td>\n",
       "      <td>University of California-Irvine</td>\n",
       "      <td>29295.0</td>\n",
       "      <td>0.3640</td>\n",
       "      <td>16500.0</td>\n",
       "      <td>Suburban</td>\n",
       "    </tr>\n",
       "    <tr>\n",
       "      <th>...</th>\n",
       "      <td>...</td>\n",
       "      <td>...</td>\n",
       "      <td>...</td>\n",
       "      <td>...</td>\n",
       "      <td>...</td>\n",
       "      <td>...</td>\n",
       "    </tr>\n",
       "    <tr>\n",
       "      <th>6</th>\n",
       "      <td>132000</td>\n",
       "      <td>University of California-Santa Barbara</td>\n",
       "      <td>22181.0</td>\n",
       "      <td>0.3632</td>\n",
       "      <td>16300.0</td>\n",
       "      <td>Suburban</td>\n",
       "    </tr>\n",
       "    <tr>\n",
       "      <th>7</th>\n",
       "      <td>132100</td>\n",
       "      <td>University of California-Santa Cruz</td>\n",
       "      <td>17577.0</td>\n",
       "      <td>0.4641</td>\n",
       "      <td>19700.0</td>\n",
       "      <td>Suburban</td>\n",
       "    </tr>\n",
       "    <tr>\n",
       "      <th>8</th>\n",
       "      <td>4127100</td>\n",
       "      <td>University of California-Merced</td>\n",
       "      <td>7375.0</td>\n",
       "      <td>0.5013</td>\n",
       "      <td>19018.0</td>\n",
       "      <td>Rural</td>\n",
       "    </tr>\n",
       "  </tbody>\n",
       "</table>\n",
       "<p>9 rows × 6 columns</p>\n",
       "</div>"
      ],
      "text/plain": [
       "    COLLEGE_ID                                    NAME  UNDERGRAD_POP  \\\n",
       "0       131200       University of California-Berkeley        30574.0   \n",
       "1       131300          University of California-Davis        30046.0   \n",
       "2       131400         University of California-Irvine        29295.0   \n",
       "..         ...                                     ...            ...   \n",
       "6       132000  University of California-Santa Barbara        22181.0   \n",
       "7       132100     University of California-Santa Cruz        17577.0   \n",
       "8      4127100         University of California-Merced         7375.0   \n",
       "\n",
       "    PCT_FED_LOAN  MEDIAN_GRAD_DEBT   SETTING  \n",
       "0         0.2373           13200.0      City  \n",
       "1         0.3600           14000.0      City  \n",
       "2         0.3640           16500.0  Suburban  \n",
       "..           ...               ...       ...  \n",
       "6         0.3632           16300.0  Suburban  \n",
       "7         0.4641           19700.0  Suburban  \n",
       "8         0.5013           19018.0     Rural  \n",
       "\n",
       "[9 rows x 6 columns]"
      ]
     },
     "execution_count": 398,
     "metadata": {},
     "output_type": "execute_result"
    }
   ],
   "source": [
    "cleaned_uc"
   ]
  },
  {
   "cell_type": "code",
   "execution_count": 399,
   "metadata": {},
   "outputs": [
    {
     "data": {
      "text/plain": [
       "COLLEGE_ID             int64\n",
       "NAME                  object\n",
       "UNDERGRAD_POP        float64\n",
       "PCT_FED_LOAN         float64\n",
       "MEDIAN_GRAD_DEBT     float64\n",
       "SETTING             category\n",
       "dtype: object"
      ]
     },
     "execution_count": 399,
     "metadata": {},
     "output_type": "execute_result"
    }
   ],
   "source": [
    "cleaned_uc.dtypes"
   ]
  },
  {
   "cell_type": "markdown",
   "metadata": {},
   "source": [
    "**Example:** Sometimes a column contains values that do not easily coerce to the intended type. For example, suppose the Series given below needs to be represented as a column of float-type:"
   ]
  },
  {
   "cell_type": "code",
   "execution_count": 400,
   "metadata": {},
   "outputs": [
    {
     "data": {
      "text/plain": [
       "0       1\n",
       "1       2\n",
       "2     2.5\n",
       "     ... \n",
       "6       9\n",
       "7      11\n",
       "8    99/3\n",
       "Length: 9, dtype: object"
      ]
     },
     "execution_count": 400,
     "metadata": {},
     "output_type": "execute_result"
    }
   ],
   "source": [
    "numbers = pd.Series('1,2,2.5,3 1/4,6 7/8,8.3,9,11,99/3'.split(','))\n",
    "numbers"
   ]
  },
  {
   "cell_type": "markdown",
   "metadata": {},
   "source": [
    "Attempting to use `astype(float)` will result in a `ValueError`, as python doesn't know how to convert '3 1/4' to a float. To convert this column to float type, one must write a custom function that handles the case of fractional values."
   ]
  },
  {
   "cell_type": "code",
   "execution_count": 401,
   "metadata": {},
   "outputs": [],
   "source": [
    "def convert_mixed_to_float(s):\n",
    "    '''converts a string representation of an integer,\n",
    "    decimal, or proper fraction to a float'''\n",
    "    if '/' not in s:\n",
    "        return float(s)\n",
    "    else:\n",
    "        if ' ' in s:\n",
    "            whole, frac = s.split(' ')\n",
    "        else:\n",
    "            whole, frac = '0', s\n",
    "\n",
    "        num, denom = frac.split('/')\n",
    "        return float(whole) + float(num) / float(denom)"
   ]
  },
  {
   "cell_type": "code",
   "execution_count": 402,
   "metadata": {},
   "outputs": [
    {
     "data": {
      "text/plain": [
       "0     1.0\n",
       "1     2.0\n",
       "2     2.5\n",
       "     ... \n",
       "6     9.0\n",
       "7    11.0\n",
       "8    33.0\n",
       "Length: 9, dtype: float64"
      ]
     },
     "execution_count": 402,
     "metadata": {},
     "output_type": "execute_result"
    }
   ],
   "source": [
    "numbers.apply(convert_mixed_to_float)"
   ]
  },
  {
   "cell_type": "markdown",
   "metadata": {},
   "source": [
    "*Remark:* The pandas function `pd.to_numeric(series, errors='coerce')` blindly coerces values of a Series to numeric values. When the keyword argument `errors='coerce'` silently replaces any non-coercible values with a missing value. This often leads to dropping data that never should have been dropped; non-coercible data should be handled with care, as it's often present due to systematic issues with how the data was recorded. If such a function was used on `numbers`, 1/3 of the data would be lost!"
   ]
  },
  {
   "cell_type": "markdown",
   "metadata": {},
   "source": [
    "#### Summary: Cleaning up data-types\n",
    "\n",
    "**Quantitative Columns** should be represented with numeric data types (float and integer types). However, float-types should only represent quantitative columns. As float values are subject to precision errors, one can only be guaranteed that a value is represented by a *similar value*. This similarity only makes sense with quantitative data.\n",
    "\n",
    "**Ordinal data** should be represented with a data type that supports ordering (e.g. string or integer types) and has infinite precision (so the label doesn't change). Three common approaches are outlined below:\n",
    "\n",
    "\n",
    "1. left as is, using the given string representation.\n",
    "    - Advantages: easy to interpret the values (they remain unchanged)\n",
    "    - Disadvantages: the string ordering may not match the ordering of the column; strings are inefficient to store.\n",
    "1. mapped to integer values, reflecting the ordering of the values of the column (called *integer coding*).\n",
    "    - Advantages: the ordering of the ordinal values are captured by the integers; integers are efficient to store.\n",
    "    - Disadvantages: integers obscure what the value originally represented.\n",
    "1. encoded using a Pandas `Categorical` data-type. \n",
    "    - Advantages: stores and orders values as integers, while displaying them as strings.\n",
    "    - Disadvantages: relatively new feature in Pandas that may not always be available to use.\n",
    "    \n",
    "**Nominal data** should be represented by a data type with infinite precision. As the values are merely labels, any change in the values would be an arbitrary change to the values of the column."
   ]
  },
  {
   "cell_type": "markdown",
   "metadata": {},
   "source": [
    "### Missing data\n",
    "\n",
    "While Pandas encodes missing values using the value `NaN`, missing data may appear in a dataset in a variety ways. Different data processing and storage systems may use different conventions (e.g. `NULL`, `None`, `\"\"`) or may disallow missing values entirely. This section focuses on strategies for *identifying* the missing values in a dataset; later, the course confronts the problem of how to handle the identified missing values.\n",
    "\n",
    "Common examples of 'placeholder' missing values that are not obviously missing at first glance:\n",
    "1. The integer `0` is a common stand-in for missing values, especially when the value is unlikely to occur in a dataset. For example, someone of age \n",
    "1. The integer `-1` is a common stand-in for missing values for columns containing non-negative values. For example, a column containing the \"number of children in a family\" might use `-1` as a missing value.\n",
    "1. `1900` and `1970` are common placeholder for missing dates in Excel and UNIX respectively. Each of these conventions picks a time as 'time zero' and stores dates and times as \"time elapsed since time zero\" (1970 was roughly the year UNIX was created). In this way, these placeholders are both special case of using `0` as a missing value."
   ]
  },
  {
   "cell_type": "markdown",
   "metadata": {},
   "source": [
    "**Example:** The fitness tracking app Strava encodes missing location coordinates as `0,0`. This encoding gives the impression of Strava user activity at 0°00'00.0\"N+0°00'00.0\"E, dubbed [Null Island](https://en.wikipedia.org/wiki/Null_Island). \n",
    "* While this is a real location, it's location in the middle of the Atlantic ocean makes it highly unlikely to be a meaningful value.\n",
    "* The common usage of `0` as a missing value makes it likely that this activity comes from users with their location tracking disabled.\n",
    "\n",
    "**Example:** The bike sharing company [Bluebikes](https://bluebikes.com) makes bike usage data available for the city of Boston. Plotting the distribution of Bluebikes users' year of birth reveals a large spike of riders born in the year 1969.\n",
    "\n",
    "![distribution_of_birth](imgs/bike.png)\n",
    "\n",
    "Is this spike unreasonably large? Or is it possible riders of exactly that age use the bike share service that much more?\n",
    "\n",
    "Most likely these values are missing values, as 1969 corresponds to the value -1 when encoded as a UNIX time-stamp. More problematic is that there really are riders whose birth year is 1969! In this case, telling apart the missing values from the true values may be difficult."
   ]
  },
  {
   "cell_type": "markdown",
   "metadata": {},
   "source": [
    "**Example:** The college scorecard data contains information on many colleges beyond the University of California campuses. The table `colleges` below contains a much larger sample of universities across the United States."
   ]
  },
  {
   "cell_type": "code",
   "execution_count": 403,
   "metadata": {},
   "outputs": [
    {
     "data": {
      "text/html": [
       "<div>\n",
       "<style scoped>\n",
       "    .dataframe tbody tr th:only-of-type {\n",
       "        vertical-align: middle;\n",
       "    }\n",
       "\n",
       "    .dataframe tbody tr th {\n",
       "        vertical-align: top;\n",
       "    }\n",
       "\n",
       "    .dataframe thead th {\n",
       "        text-align: right;\n",
       "    }\n",
       "</style>\n",
       "<table border=\"1\" class=\"dataframe\">\n",
       "  <thead>\n",
       "    <tr style=\"text-align: right;\">\n",
       "      <th></th>\n",
       "      <th>COLLEGE_ID</th>\n",
       "      <th>NAME</th>\n",
       "      <th>UNDERGRAD_POP</th>\n",
       "      <th>PCT_FED_LOAN</th>\n",
       "      <th>MEDIAN_GRAD_DEBT</th>\n",
       "      <th>SETTING</th>\n",
       "    </tr>\n",
       "  </thead>\n",
       "  <tbody>\n",
       "    <tr>\n",
       "      <th>4261</th>\n",
       "      <td>1005200.0</td>\n",
       "      <td>Jefferson Lewis BOCES-Practical Nursing Program</td>\n",
       "      <td>77.0</td>\n",
       "      <td>68.18%</td>\n",
       "      <td>$7250</td>\n",
       "      <td>Rural</td>\n",
       "    </tr>\n",
       "    <tr>\n",
       "      <th>1604</th>\n",
       "      <td>2099700.0</td>\n",
       "      <td>Ross Medical Education Center-Flint</td>\n",
       "      <td>153.0</td>\n",
       "      <td>62.5%</td>\n",
       "      <td>$9500</td>\n",
       "      <td>Suburb</td>\n",
       "    </tr>\n",
       "    <tr>\n",
       "      <th>830</th>\n",
       "      <td>1113300.0</td>\n",
       "      <td>College of Eastern Idaho</td>\n",
       "      <td>698.0</td>\n",
       "      <td>34.04%</td>\n",
       "      <td>$9500</td>\n",
       "      <td>Urban</td>\n",
       "    </tr>\n",
       "    <tr>\n",
       "      <th>6031</th>\n",
       "      <td>4241500.0</td>\n",
       "      <td>Wave Leadership College</td>\n",
       "      <td>52.0</td>\n",
       "      <td>53.23%</td>\n",
       "      <td>PrivacySuppressed</td>\n",
       "      <td>Urban</td>\n",
       "    </tr>\n",
       "    <tr>\n",
       "      <th>4814</th>\n",
       "      <td>3855300.0</td>\n",
       "      <td>Ecclesia College</td>\n",
       "      <td>229.0</td>\n",
       "      <td>51.29%</td>\n",
       "      <td>$16500</td>\n",
       "      <td>Rural</td>\n",
       "    </tr>\n",
       "  </tbody>\n",
       "</table>\n",
       "</div>"
      ],
      "text/plain": [
       "      COLLEGE_ID                                             NAME  \\\n",
       "4261   1005200.0  Jefferson Lewis BOCES-Practical Nursing Program   \n",
       "1604   2099700.0              Ross Medical Education Center-Flint   \n",
       "830    1113300.0                         College of Eastern Idaho   \n",
       "6031   4241500.0                          Wave Leadership College   \n",
       "4814   3855300.0                                 Ecclesia College   \n",
       "\n",
       "      UNDERGRAD_POP PCT_FED_LOAN   MEDIAN_GRAD_DEBT SETTING  \n",
       "4261           77.0       68.18%              $7250   Rural  \n",
       "1604          153.0        62.5%              $9500  Suburb  \n",
       "830           698.0       34.04%              $9500   Urban  \n",
       "6031           52.0       53.23%  PrivacySuppressed   Urban  \n",
       "4814          229.0       51.29%             $16500   Rural  "
      ]
     },
     "execution_count": 403,
     "metadata": {},
     "output_type": "execute_result"
    }
   ],
   "source": [
    "colleges = pd.read_csv('data/colleges.csv')\n",
    "colleges.sample(5)"
   ]
  },
  {
   "cell_type": "markdown",
   "metadata": {},
   "source": [
    "The previous code written for cleaning `MEDIAN_GRAD_DEBT` no longer works in this larger dataset (check this code throws an exception), as some values don't conform to the standard representation of US dollars. Before generalizing the cleaning code to the larger dataset, it's necessary to understand the extent to which these \"unusual values\" are present."
   ]
  },
  {
   "cell_type": "code",
   "execution_count": 404,
   "metadata": {},
   "outputs": [],
   "source": [
    "def check_float(x):\n",
    "    '''returns true if a value is coercible to a float;\n",
    "    otherwise returns false'''\n",
    "    try:\n",
    "        float(x)\n",
    "        return True\n",
    "    except ValueError:\n",
    "        return False"
   ]
  },
  {
   "cell_type": "markdown",
   "metadata": {},
   "source": [
    "Print the distribution of values that aren't of the the form `$` followed by a string coercible to a float value:"
   ]
  },
  {
   "cell_type": "code",
   "execution_count": 405,
   "metadata": {},
   "outputs": [
    {
     "data": {
      "text/plain": [
       "PrivacySuppressed    1175\n",
       "Name: MEDIAN_GRAD_DEBT, dtype: int64"
      ]
     },
     "execution_count": 405,
     "metadata": {},
     "output_type": "execute_result"
    }
   ],
   "source": [
    "nonnums = (\n",
    "    colleges['MEDIAN_GRAD_DEBT']\n",
    "    .str.strip('$')\n",
    "    .apply(check_float)\n",
    ")\n",
    "\n",
    "colleges.loc[~nonnums, 'MEDIAN_GRAD_DEBT'].value_counts()"
   ]
  },
  {
   "cell_type": "markdown",
   "metadata": {},
   "source": [
    "In the larger dataset, the only value that doesn't represent dollar amounts is 'PrivacySuppressed'. The meaning of this value is explained in the [dataset documentation](https://collegescorecard.ed.gov/data/documentation/):\n",
    "\n",
    "> any data not reported in order to protect an individual's privacy are shown as PrivacySuppressed.\n",
    "\n",
    "Thus, it seems reasonable to interpret this value as a missing value and replace it with NULL."
   ]
  },
  {
   "cell_type": "code",
   "execution_count": 406,
   "metadata": {},
   "outputs": [],
   "source": [
    "def median_grad_debt_cleaner(ser):\n",
    "    return ser.replace('PrivacySuppressed', np.NaN).str.strip('$')"
   ]
  },
  {
   "cell_type": "code",
   "execution_count": 407,
   "metadata": {},
   "outputs": [],
   "source": [
    "colleges_cleaned = colleges.agg(csc_cleaning_map)"
   ]
  },
  {
   "cell_type": "code",
   "execution_count": 409,
   "metadata": {},
   "outputs": [
    {
     "data": {
      "text/html": [
       "<div>\n",
       "<style scoped>\n",
       "    .dataframe tbody tr th:only-of-type {\n",
       "        vertical-align: middle;\n",
       "    }\n",
       "\n",
       "    .dataframe tbody tr th {\n",
       "        vertical-align: top;\n",
       "    }\n",
       "\n",
       "    .dataframe thead th {\n",
       "        text-align: right;\n",
       "    }\n",
       "</style>\n",
       "<table border=\"1\" class=\"dataframe\">\n",
       "  <thead>\n",
       "    <tr style=\"text-align: right;\">\n",
       "      <th></th>\n",
       "      <th>COLLEGE_ID</th>\n",
       "      <th>NAME</th>\n",
       "      <th>UNDERGRAD_POP</th>\n",
       "      <th>PCT_FED_LOAN</th>\n",
       "      <th>MEDIAN_GRAD_DEBT</th>\n",
       "      <th>SETTING</th>\n",
       "    </tr>\n",
       "  </thead>\n",
       "  <tbody>\n",
       "    <tr>\n",
       "      <th>0</th>\n",
       "      <td>100200</td>\n",
       "      <td>Alabama A &amp; M University</td>\n",
       "      <td>4824.0</td>\n",
       "      <td>0.7697</td>\n",
       "      <td>32750.0</td>\n",
       "      <td>Urban</td>\n",
       "    </tr>\n",
       "    <tr>\n",
       "      <th>1</th>\n",
       "      <td>105200</td>\n",
       "      <td>University of Alabama at Birmingham</td>\n",
       "      <td>12866.0</td>\n",
       "      <td>0.5207</td>\n",
       "      <td>21833.0</td>\n",
       "      <td>Urban</td>\n",
       "    </tr>\n",
       "    <tr>\n",
       "      <th>2</th>\n",
       "      <td>2503400</td>\n",
       "      <td>Amridge University</td>\n",
       "      <td>322.0</td>\n",
       "      <td>0.8741</td>\n",
       "      <td>22890.0</td>\n",
       "      <td>Urban</td>\n",
       "    </tr>\n",
       "    <tr>\n",
       "      <th>...</th>\n",
       "      <td>...</td>\n",
       "      <td>...</td>\n",
       "      <td>...</td>\n",
       "      <td>...</td>\n",
       "      <td>...</td>\n",
       "      <td>...</td>\n",
       "    </tr>\n",
       "    <tr>\n",
       "      <th>6175</th>\n",
       "      <td>4106301</td>\n",
       "      <td>Palm Beach Academy of Health &amp; Beauty-Distinct...</td>\n",
       "      <td>5.0</td>\n",
       "      <td>0.0714</td>\n",
       "      <td>6333.0</td>\n",
       "      <td>NaN</td>\n",
       "    </tr>\n",
       "    <tr>\n",
       "      <th>6176</th>\n",
       "      <td>295600</td>\n",
       "      <td>Piedmont International University</td>\n",
       "      <td>336.0</td>\n",
       "      <td>0.4847</td>\n",
       "      <td>12498.0</td>\n",
       "      <td>Urban</td>\n",
       "    </tr>\n",
       "    <tr>\n",
       "      <th>6177</th>\n",
       "      <td>4250501</td>\n",
       "      <td>National Personal Training Institute-Tampa</td>\n",
       "      <td>32.0</td>\n",
       "      <td>0.2982</td>\n",
       "      <td>NaN</td>\n",
       "      <td>NaN</td>\n",
       "    </tr>\n",
       "  </tbody>\n",
       "</table>\n",
       "<p>6178 rows × 6 columns</p>\n",
       "</div>"
      ],
      "text/plain": [
       "      COLLEGE_ID                                               NAME  \\\n",
       "0         100200                           Alabama A & M University   \n",
       "1         105200                University of Alabama at Birmingham   \n",
       "2        2503400                                 Amridge University   \n",
       "...          ...                                                ...   \n",
       "6175     4106301  Palm Beach Academy of Health & Beauty-Distinct...   \n",
       "6176      295600                  Piedmont International University   \n",
       "6177     4250501         National Personal Training Institute-Tampa   \n",
       "\n",
       "      UNDERGRAD_POP  PCT_FED_LOAN  MEDIAN_GRAD_DEBT SETTING  \n",
       "0            4824.0        0.7697           32750.0   Urban  \n",
       "1           12866.0        0.5207           21833.0   Urban  \n",
       "2             322.0        0.8741           22890.0   Urban  \n",
       "...             ...           ...               ...     ...  \n",
       "6175            5.0        0.0714            6333.0     NaN  \n",
       "6176          336.0        0.4847           12498.0   Urban  \n",
       "6177           32.0        0.2982               NaN     NaN  \n",
       "\n",
       "[6178 rows x 6 columns]"
      ]
     },
     "execution_count": 409,
     "metadata": {},
     "output_type": "execute_result"
    }
   ],
   "source": [
    "colleges_cleaned"
   ]
  },
  {
   "cell_type": "markdown",
   "metadata": {},
   "source": [
    "### Unfaithful data\n",
    "\n",
    "The provenance of a dataset, from a real-world event to a dataset displayed in a notebook, is often long and complicated.  However, for this data to be of any use, one must assess how well it captures the \"reality\" it's meant to describe. Once a dataset is properly typed, it should be assessed for its faithfulness to the data generating process.\n",
    "\n",
    "Generally, such an assessment involves asking if the data contain unrealistic or \"incorrect\" values? For example:\n",
    "- Are there dates in the future for events that occurred the past?\n",
    "- Are there locations in the dataset that don't exist?\n",
    "- Are there negative counts? (is that a missing value?)\n",
    "- Are names misspelled? Do single names have variants such as nicknames?\n",
    "- Are there unreasonably large outliers?\n",
    "\n",
    "Assessing for faithfulness involves being skeptical of the data known data provenance and doing research into the assumptions on how the data were generated. This assessment generally involves understanding and identifying problems with the data, then attempting to \"fix\" the problem. How to fix unfaithful data depends on the context:\n",
    "\n",
    "- Poor quality observations may be dropped if there are very few or sufficient random.\n",
    "- The likely values might be (approximately) inferable from either researching into data provenance, or from other values in the dataset.\n",
    "- The source of problem might be fixed through changes in the experimental design, instrumentation, or data collection.\n",
    "\n",
    "Assessing the faithfulness of the data to the data generating process involves interpreting exploratory data analyses of the attributes. \n",
    "\n",
    "**Example:** The 'UNDERGRAD_POP' attribute represents the count of undergraduates at colleges in the dataset. An initial assessment of this attribute involves plotting the distribution of undergraduates and analyzing the values and their proportions:"
   ]
  },
  {
   "cell_type": "code",
   "execution_count": 410,
   "metadata": {},
   "outputs": [
    {
     "data": {
      "image/png": "[encoded data removed]",
      "text/plain": [
       "<Figure size 432x288 with 1 Axes>"
      ]
     },
     "metadata": {
      "filenames": {
       "image/png": "/home/afraenkel/Software-Teaching/ds-in-practice/book/_build/jupyter_execute/content/04/cleaning_46_0.png"
      },
      "needs_background": "light"
     },
     "output_type": "display_data"
    }
   ],
   "source": [
    "colleges_cleaned['UNDERGRAD_POP'].plot(\n",
    "    kind='hist', bins=25, logy=True, \n",
    "    title='distrubtion of college population (undergraduate)'\n",
    ");"
   ]
  },
  {
   "cell_type": "markdown",
   "metadata": {},
   "source": [
    "One interesting observation is how *many* small colleges are in the dataset (note the log-scale!). How small are they? Are the values ever negative?\n",
    "\n",
    "Plotting colleges with fewer than 1 student reveals six colleges with an undergraduate population of size 0 and no colleges with negative student populations:"
   ]
  },
  {
   "cell_type": "code",
   "execution_count": 411,
   "metadata": {},
   "outputs": [
    {
     "data": {
      "text/html": [
       "<div>\n",
       "<style scoped>\n",
       "    .dataframe tbody tr th:only-of-type {\n",
       "        vertical-align: middle;\n",
       "    }\n",
       "\n",
       "    .dataframe tbody tr th {\n",
       "        vertical-align: top;\n",
       "    }\n",
       "\n",
       "    .dataframe thead th {\n",
       "        text-align: right;\n",
       "    }\n",
       "</style>\n",
       "<table border=\"1\" class=\"dataframe\">\n",
       "  <thead>\n",
       "    <tr style=\"text-align: right;\">\n",
       "      <th></th>\n",
       "      <th>COLLEGE_ID</th>\n",
       "      <th>NAME</th>\n",
       "      <th>UNDERGRAD_POP</th>\n",
       "      <th>PCT_FED_LOAN</th>\n",
       "      <th>MEDIAN_GRAD_DEBT</th>\n",
       "      <th>SETTING</th>\n",
       "    </tr>\n",
       "  </thead>\n",
       "  <tbody>\n",
       "    <tr>\n",
       "      <th>2702</th>\n",
       "      <td>2154402</td>\n",
       "      <td>Beau Monde College of Hair Design</td>\n",
       "      <td>0.0</td>\n",
       "      <td>0.0962</td>\n",
       "      <td>8973.0</td>\n",
       "      <td>Urban</td>\n",
       "    </tr>\n",
       "    <tr>\n",
       "      <th>3107</th>\n",
       "      <td>2188300</td>\n",
       "      <td>Pentecostal Theological Seminary</td>\n",
       "      <td>0.0</td>\n",
       "      <td>0.0000</td>\n",
       "      <td>NaN</td>\n",
       "      <td>Urban</td>\n",
       "    </tr>\n",
       "    <tr>\n",
       "      <th>4934</th>\n",
       "      <td>489812</td>\n",
       "      <td>Miami-Jacobs Career College-Springboro</td>\n",
       "      <td>0.0</td>\n",
       "      <td>0.9706</td>\n",
       "      <td>24549.5</td>\n",
       "      <td>NaN</td>\n",
       "    </tr>\n",
       "    <tr>\n",
       "      <th>5164</th>\n",
       "      <td>469205</td>\n",
       "      <td>Dorsey Business Schools-Farmington Hills</td>\n",
       "      <td>0.0</td>\n",
       "      <td>1.0000</td>\n",
       "      <td>12986.0</td>\n",
       "      <td>Urban</td>\n",
       "    </tr>\n",
       "    <tr>\n",
       "      <th>5574</th>\n",
       "      <td>1091302</td>\n",
       "      <td>Minneapolis Media Institute</td>\n",
       "      <td>0.0</td>\n",
       "      <td>0.8706</td>\n",
       "      <td>14438.0</td>\n",
       "      <td>NaN</td>\n",
       "    </tr>\n",
       "    <tr>\n",
       "      <th>6155</th>\n",
       "      <td>405740</td>\n",
       "      <td>National American University-Westwood Teach-Ou...</td>\n",
       "      <td>0.0</td>\n",
       "      <td>0.7027</td>\n",
       "      <td>30223.0</td>\n",
       "      <td>Urban</td>\n",
       "    </tr>\n",
       "  </tbody>\n",
       "</table>\n",
       "</div>"
      ],
      "text/plain": [
       "      COLLEGE_ID                                               NAME  \\\n",
       "2702     2154402                  Beau Monde College of Hair Design   \n",
       "3107     2188300                   Pentecostal Theological Seminary   \n",
       "4934      489812             Miami-Jacobs Career College-Springboro   \n",
       "5164      469205           Dorsey Business Schools-Farmington Hills   \n",
       "5574     1091302                        Minneapolis Media Institute   \n",
       "6155      405740  National American University-Westwood Teach-Ou...   \n",
       "\n",
       "      UNDERGRAD_POP  PCT_FED_LOAN  MEDIAN_GRAD_DEBT SETTING  \n",
       "2702            0.0        0.0962            8973.0   Urban  \n",
       "3107            0.0        0.0000               NaN   Urban  \n",
       "4934            0.0        0.9706           24549.5     NaN  \n",
       "5164            0.0        1.0000           12986.0   Urban  \n",
       "5574            0.0        0.8706           14438.0     NaN  \n",
       "6155            0.0        0.7027           30223.0   Urban  "
      ]
     },
     "execution_count": 411,
     "metadata": {},
     "output_type": "execute_result"
    }
   ],
   "source": [
    "# What could this possibly mean?\n",
    "colleges_cleaned.loc[(colleges_cleaned.UNDERGRAD_POP <= 0)]"
   ]
  },
  {
   "cell_type": "markdown",
   "metadata": {},
   "source": [
    "How might a school have an undergraduate population of size zero? Is this a mistake or reality? \n",
    "\n",
    "The answer may be in how the government defines an undergraduate student. It's reasonable to assume that certain schools, like beauty schools or theological seminaries, might service populations outside of an undergraduate program. However, this also brings up the question of why there aren't *more* colleges with an undergraduate population of zero! More research is necessary to understand the reasonableness of a zero value in this column."
   ]
  },
  {
   "cell_type": "markdown",
   "metadata": {},
   "source": [
    "**Example:** The college NAME attribute contains the name of each college in the dataset. One might expect this column to uniquely represent a college; computing the head of the empirical distribution of college names reveals this is not the case:"
   ]
  },
  {
   "cell_type": "code",
   "execution_count": 412,
   "metadata": {},
   "outputs": [
    {
     "data": {
      "text/plain": [
       "Stevens-Henager College                   7\n",
       "Columbia College                          5\n",
       "McCann School of Business & Technology    5\n",
       "                                         ..\n",
       "Greensboro College                        1\n",
       "Austin Kade Academy                       1\n",
       "University of California-Davis            1\n",
       "Name: NAME, Length: 6068, dtype: int64"
      ]
     },
     "execution_count": 412,
     "metadata": {},
     "output_type": "execute_result"
    }
   ],
   "source": [
    "colleges_cleaned.NAME.value_counts()"
   ]
  },
  {
   "cell_type": "markdown",
   "metadata": {},
   "source": [
    "Among these 7 duplicate 'Stevens-Henager Colleges', are they:\n",
    "- Truly the same college? (e.g. an error in recording) \n",
    "- Are they different, but somehow related? (e.g. different branches of the same school)\n",
    "- Are they totally unrelated? (e.g. a total coincidence they have the same name)."
   ]
  },
  {
   "cell_type": "code",
   "execution_count": 413,
   "metadata": {},
   "outputs": [
    {
     "data": {
      "text/html": [
       "<div>\n",
       "<style scoped>\n",
       "    .dataframe tbody tr th:only-of-type {\n",
       "        vertical-align: middle;\n",
       "    }\n",
       "\n",
       "    .dataframe tbody tr th {\n",
       "        vertical-align: top;\n",
       "    }\n",
       "\n",
       "    .dataframe thead th {\n",
       "        text-align: right;\n",
       "    }\n",
       "</style>\n",
       "<table border=\"1\" class=\"dataframe\">\n",
       "  <thead>\n",
       "    <tr style=\"text-align: right;\">\n",
       "      <th></th>\n",
       "      <th>COLLEGE_ID</th>\n",
       "      <th>NAME</th>\n",
       "      <th>UNDERGRAD_POP</th>\n",
       "      <th>PCT_FED_LOAN</th>\n",
       "      <th>MEDIAN_GRAD_DEBT</th>\n",
       "      <th>SETTING</th>\n",
       "    </tr>\n",
       "  </thead>\n",
       "  <tbody>\n",
       "    <tr>\n",
       "      <th>3384</th>\n",
       "      <td>367400</td>\n",
       "      <td>Stevens-Henager College</td>\n",
       "      <td>205.0</td>\n",
       "      <td>0.8255</td>\n",
       "      <td>27139.0</td>\n",
       "      <td>NaN</td>\n",
       "    </tr>\n",
       "    <tr>\n",
       "      <th>3385</th>\n",
       "      <td>367401</td>\n",
       "      <td>Stevens-Henager College</td>\n",
       "      <td>143.0</td>\n",
       "      <td>0.7831</td>\n",
       "      <td>27139.0</td>\n",
       "      <td>Urban</td>\n",
       "    </tr>\n",
       "    <tr>\n",
       "      <th>4521</th>\n",
       "      <td>367403</td>\n",
       "      <td>Stevens-Henager College</td>\n",
       "      <td>563.0</td>\n",
       "      <td>0.7481</td>\n",
       "      <td>27139.0</td>\n",
       "      <td>NaN</td>\n",
       "    </tr>\n",
       "    <tr>\n",
       "      <th>4833</th>\n",
       "      <td>367405</td>\n",
       "      <td>Stevens-Henager College</td>\n",
       "      <td>72.0</td>\n",
       "      <td>0.7561</td>\n",
       "      <td>27139.0</td>\n",
       "      <td>Urban</td>\n",
       "    </tr>\n",
       "    <tr>\n",
       "      <th>5438</th>\n",
       "      <td>367406</td>\n",
       "      <td>Stevens-Henager College</td>\n",
       "      <td>259.0</td>\n",
       "      <td>0.7057</td>\n",
       "      <td>27139.0</td>\n",
       "      <td>Urban</td>\n",
       "    </tr>\n",
       "    <tr>\n",
       "      <th>5576</th>\n",
       "      <td>3120302</td>\n",
       "      <td>Stevens-Henager College</td>\n",
       "      <td>111.0</td>\n",
       "      <td>0.8455</td>\n",
       "      <td>25732.0</td>\n",
       "      <td>Rural</td>\n",
       "    </tr>\n",
       "    <tr>\n",
       "      <th>5681</th>\n",
       "      <td>367411</td>\n",
       "      <td>Stevens-Henager College</td>\n",
       "      <td>111.0</td>\n",
       "      <td>0.8281</td>\n",
       "      <td>27139.0</td>\n",
       "      <td>Urban</td>\n",
       "    </tr>\n",
       "  </tbody>\n",
       "</table>\n",
       "</div>"
      ],
      "text/plain": [
       "      COLLEGE_ID                     NAME  UNDERGRAD_POP  PCT_FED_LOAN  \\\n",
       "3384      367400  Stevens-Henager College          205.0        0.8255   \n",
       "3385      367401  Stevens-Henager College          143.0        0.7831   \n",
       "4521      367403  Stevens-Henager College          563.0        0.7481   \n",
       "4833      367405  Stevens-Henager College           72.0        0.7561   \n",
       "5438      367406  Stevens-Henager College          259.0        0.7057   \n",
       "5576     3120302  Stevens-Henager College          111.0        0.8455   \n",
       "5681      367411  Stevens-Henager College          111.0        0.8281   \n",
       "\n",
       "      MEDIAN_GRAD_DEBT SETTING  \n",
       "3384           27139.0     NaN  \n",
       "3385           27139.0   Urban  \n",
       "4521           27139.0     NaN  \n",
       "4833           27139.0   Urban  \n",
       "5438           27139.0   Urban  \n",
       "5576           25732.0   Rural  \n",
       "5681           27139.0   Urban  "
      ]
     },
     "execution_count": 413,
     "metadata": {},
     "output_type": "execute_result"
    }
   ],
   "source": [
    "colleges_cleaned[colleges_cleaned.NAME == 'Stevens-Henager College']"
   ]
  },
  {
   "cell_type": "markdown",
   "metadata": {},
   "source": [
    "Since the school statistics differ across the seven colleges, the observations are likely not true duplicates. However, they might be somehow related, as the COLLEGE_IDs are close. More research is necessary to answer this question fully. Next steps might include:\n",
    "- Retrieving the other attributes from the full college scorecard dataset (e.g. location),\n",
    "- Looking up the colleges from another source to match the schools in the table to outside information."
   ]
  },
  {
   "cell_type": "markdown",
   "metadata": {},
   "source": [
    "### Code Design\n",
    "\n",
    "The task of data cleaning can be complicated and ad-hoc. The decisions involved in developing data cleaning code often uses domain-specific judgment calls that are far from obvious to someone attempting to understand the process (including the developer themselves, not long after writing the code). Data Scientists should write organized, easy-to-read, easy-to-adapt data cleaning code.\n",
    "\n",
    "An reasonable approach to writing cleaning code that deals with one column at a time is to: \n",
    "1. create a cleaning function for each column,\n",
    "1. store the cleaning functions in a dictionary, keyed by the name of the column to be cleaned,\n",
    "1. apply the cleaning functions to the columns using `DataFrame.agg`.\n",
    "\n",
    "While it may seem overkill to write a separate function for each column, this boilerplate has several advantages over ad-hoc procedural code:\n",
    "* The docstring of each cleaning function can contain descriptions of both the cleaning itself as well as assumptions made in the development of the cleaning logic.\n",
    "* Organizing logic into separate functions reduces code complexity as columns are added/changed, or as the cleaning code evolves into more sophisticated logic.\n",
    "* Applying a dictionary of functions via `agg` allows same code structure to work with parallel processing library such as Spark and Dask.\n",
    "\n",
    "**Example:** Using this approach, the cleaning code for the College Scorecard data looks as follows:"
   ]
  },
  {
   "cell_type": "code",
   "execution_count": 414,
   "metadata": {},
   "outputs": [],
   "source": [
    "def college_id_cleaner(ser):\n",
    "    '''returns identifier COLLEGE_ID as an integer type'''\n",
    "    return ser.astype(int)\n",
    "\n",
    "def pct_fed_loan_cleaner(ser):\n",
    "    '''returns PCT_FED_LOAN as a proportion between 0 and 1.'''\n",
    "    return ser.str.strip('%').astype(float) / 100\n",
    "\n",
    "def median_grad_debt_cleaner(ser):\n",
    "    '''returns MEDIAN_GRAD_DEBT as a float (in USD)'''\n",
    "    return ser.replace('PrivacySuppressed', np.NaN).str.strip('$').astype(float)\n",
    "\n",
    "def setting_cleaner(ser):\n",
    "    '''returns SETTING column as a category data-type\n",
    "    ordered as RURAL < SUBURBAN < CITY < URBAN'''\n",
    "    return ser.astype(setting_dtype)"
   ]
  },
  {
   "cell_type": "code",
   "execution_count": 415,
   "metadata": {},
   "outputs": [],
   "source": [
    "csc_cleaning_map = {\n",
    "    'COLLEGE_ID': college_id_cleaner,\n",
    "    'PCT_FED_LOAN': pct_fed_loan_cleaner,\n",
    "    'MEDIAN_GRAD_DEBT': median_grad_debt_cleaner,\n",
    "    'SETTING': setting_cleaner\n",
    "}\n",
    "\n",
    "csc_cleaning_map = {x: csc_cleaning_map.get(x, lambda x:x) for x in colleges.columns}"
   ]
  },
  {
   "cell_type": "code",
   "execution_count": 416,
   "metadata": {},
   "outputs": [
    {
     "data": {
      "text/html": [
       "<div>\n",
       "<style scoped>\n",
       "    .dataframe tbody tr th:only-of-type {\n",
       "        vertical-align: middle;\n",
       "    }\n",
       "\n",
       "    .dataframe tbody tr th {\n",
       "        vertical-align: top;\n",
       "    }\n",
       "\n",
       "    .dataframe thead th {\n",
       "        text-align: right;\n",
       "    }\n",
       "</style>\n",
       "<table border=\"1\" class=\"dataframe\">\n",
       "  <thead>\n",
       "    <tr style=\"text-align: right;\">\n",
       "      <th></th>\n",
       "      <th>COLLEGE_ID</th>\n",
       "      <th>NAME</th>\n",
       "      <th>UNDERGRAD_POP</th>\n",
       "      <th>PCT_FED_LOAN</th>\n",
       "      <th>MEDIAN_GRAD_DEBT</th>\n",
       "      <th>SETTING</th>\n",
       "    </tr>\n",
       "  </thead>\n",
       "  <tbody>\n",
       "    <tr>\n",
       "      <th>0</th>\n",
       "      <td>100200</td>\n",
       "      <td>Alabama A &amp; M University</td>\n",
       "      <td>4824.0</td>\n",
       "      <td>0.7697</td>\n",
       "      <td>32750</td>\n",
       "      <td>Urban</td>\n",
       "    </tr>\n",
       "    <tr>\n",
       "      <th>1</th>\n",
       "      <td>105200</td>\n",
       "      <td>University of Alabama at Birmingham</td>\n",
       "      <td>12866.0</td>\n",
       "      <td>0.5207</td>\n",
       "      <td>21833</td>\n",
       "      <td>Urban</td>\n",
       "    </tr>\n",
       "    <tr>\n",
       "      <th>2</th>\n",
       "      <td>2503400</td>\n",
       "      <td>Amridge University</td>\n",
       "      <td>322.0</td>\n",
       "      <td>0.8741</td>\n",
       "      <td>22890</td>\n",
       "      <td>Urban</td>\n",
       "    </tr>\n",
       "    <tr>\n",
       "      <th>...</th>\n",
       "      <td>...</td>\n",
       "      <td>...</td>\n",
       "      <td>...</td>\n",
       "      <td>...</td>\n",
       "      <td>...</td>\n",
       "      <td>...</td>\n",
       "    </tr>\n",
       "    <tr>\n",
       "      <th>6175</th>\n",
       "      <td>4106301</td>\n",
       "      <td>Palm Beach Academy of Health &amp; Beauty-Distinct...</td>\n",
       "      <td>5.0</td>\n",
       "      <td>0.0714</td>\n",
       "      <td>6333</td>\n",
       "      <td>NaN</td>\n",
       "    </tr>\n",
       "    <tr>\n",
       "      <th>6176</th>\n",
       "      <td>295600</td>\n",
       "      <td>Piedmont International University</td>\n",
       "      <td>336.0</td>\n",
       "      <td>0.4847</td>\n",
       "      <td>12498</td>\n",
       "      <td>Urban</td>\n",
       "    </tr>\n",
       "    <tr>\n",
       "      <th>6177</th>\n",
       "      <td>4250501</td>\n",
       "      <td>National Personal Training Institute-Tampa</td>\n",
       "      <td>32.0</td>\n",
       "      <td>0.2982</td>\n",
       "      <td>NaN</td>\n",
       "      <td>NaN</td>\n",
       "    </tr>\n",
       "  </tbody>\n",
       "</table>\n",
       "<p>6178 rows × 6 columns</p>\n",
       "</div>"
      ],
      "text/plain": [
       "      COLLEGE_ID                                               NAME  \\\n",
       "0         100200                           Alabama A & M University   \n",
       "1         105200                University of Alabama at Birmingham   \n",
       "2        2503400                                 Amridge University   \n",
       "...          ...                                                ...   \n",
       "6175     4106301  Palm Beach Academy of Health & Beauty-Distinct...   \n",
       "6176      295600                  Piedmont International University   \n",
       "6177     4250501         National Personal Training Institute-Tampa   \n",
       "\n",
       "      UNDERGRAD_POP  PCT_FED_LOAN MEDIAN_GRAD_DEBT SETTING  \n",
       "0            4824.0        0.7697            32750   Urban  \n",
       "1           12866.0        0.5207            21833   Urban  \n",
       "2             322.0        0.8741            22890   Urban  \n",
       "...             ...           ...              ...     ...  \n",
       "6175            5.0        0.0714             6333     NaN  \n",
       "6176          336.0        0.4847            12498   Urban  \n",
       "6177           32.0        0.2982              NaN     NaN  \n",
       "\n",
       "[6178 rows x 6 columns]"
      ]
     },
     "execution_count": 416,
     "metadata": {},
     "output_type": "execute_result"
    }
   ],
   "source": [
    "colleges.agg(csc_cleaning_map)"
   ]
  },
  {
   "cell_type": "code",
   "execution_count": null,
   "metadata": {},
   "outputs": [],
   "source": []
  }
 ],
 "metadata": {
  "celltoolbar": "Tags",
  "kernelspec": {
   "display_name": "Python 3",
   "language": "python",
   "name": "python3"
  },
  "language_info": {
   "codemirror_mode": {
    "name": "ipython",
    "version": 3
   },
   "file_extension": ".py",
   "mimetype": "text/x-python",
   "name": "python",
   "nbconvert_exporter": "python",
   "pygments_lexer": "ipython3",
   "version": "3.7.1"
  }
 },
 "nbformat": 4,
 "nbformat_minor": 2
}