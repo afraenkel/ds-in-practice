{
 "cells": [
  {
   "cell_type": "code",
   "execution_count": 2,
   "metadata": {
    "tags": [
     "remove_cell"
    ]
   },
   "outputs": [],
   "source": [
    "%matplotlib inline\n",
    "\n",
    "import pandas as pd\n",
    "import numpy as np\n",
    "\n",
    "pd.set_option('display.max_rows', 7)\n",
    "\n",
    "inspections = pd.read_csv('data/inspections.csv')"
   ]
  },
  {
   "cell_type": "markdown",
   "metadata": {},
   "source": [
    "#  Categorical empirical distributions\n",
    "---\n"
   ]
  },
  {
   "cell_type": "markdown",
   "metadata": {},
   "source": [
    "The distribution of a categorical attribute is described by simply calculating the proportion of the whole made up by each value. Pandas provides a method called `value_counts` that calculates this quantity; the distribution is a series, indexed by the values of the attribute, with values given by each value's proportion.\n",
    "\n",
    "**Example:** The empirical distribution of the `risk_category` attribute in the inspections dataset is given by:"
   ]
  },
  {
   "cell_type": "code",
   "execution_count": 4,
   "metadata": {},
   "outputs": [
    {
     "data": {
      "text/plain": [
       "Low Risk         0.473200\n",
       "Moderate Risk    0.382112\n",
       "High Risk        0.144688\n",
       "Name: risk_category, dtype: float64"
      ]
     },
     "execution_count": 4,
     "metadata": {},
     "output_type": "execute_result"
    }
   ],
   "source": [
    "(\n",
    "    inspections['risk_category']\n",
    "    .value_counts(normalize=True)                    # empirical distribution\n",
    "    .loc[['Low Risk', 'Moderate Risk', 'High Risk']] # sort distribution by order of the values\n",
    ")"
   ]
  },
  {
   "cell_type": "code",
   "execution_count": 5,
   "metadata": {},
   "outputs": [
    {
     "data": {
      "image/png": "[encoded data removed]",
      "text/plain": [
       "<Figure size 432x288 with 1 Axes>"
      ]
     },
     "metadata": {
      "filenames": {
       "image/png": "/home/afraenkel/Software-Teaching/practical-data-science/book/_build/jupyter_execute/content/03/categorical-distributions_4_0.png"
      },
      "needs_background": "light"
     },
     "output_type": "display_data"
    }
   ],
   "source": [
    "(\n",
    "    inspections['risk_category']\n",
    "    .value_counts(normalize=True)\n",
    "    .plot(kind='barh', title='categorical distribution of inspection results')\n",
    ");"
   ]
  },
  {
   "cell_type": "markdown",
   "metadata": {},
   "source": [
    "*Remark 1:* As the  attribute is ordinal, the index of empirical distribution should be *sorted* to reflect the order of the values.\n",
    "\n",
    "*Remark 2:* A horizontal bar chart has better formatting of values with long descriptions. Create vertical bar charts using the keyword `kind='bar'`."
   ]
  },
  {
   "cell_type": "markdown",
   "metadata": {},
   "source": [
    "**Example:** The empirical distribution of the postal code attribute in the inspections dataset is given by:"
   ]
  },
  {
   "cell_type": "code",
   "execution_count": 70,
   "metadata": {},
   "outputs": [
    {
     "data": {
      "text/plain": [
       "94110    0.119878\n",
       "94103    0.089250\n",
       "94109    0.071136\n",
       "           ...   \n",
       "95117    0.000027\n",
       "94188    0.000027\n",
       "95122    0.000027\n",
       "Name: business_postal_code, Length: 44, dtype: float64"
      ]
     },
     "execution_count": 70,
     "metadata": {},
     "output_type": "execute_result"
    }
   ],
   "source": [
    "inspections['business_postal_code'].value_counts(normalize=True)"
   ]
  },
  {
   "cell_type": "markdown",
   "metadata": {},
   "source": [
    "*Remark 1:* The ordering of the index of the empirical distribution is arbitrary, as the `business_postal_code` attribute is nominal.\n",
    "\n",
    "*Remark 2:* This distribution reveals that 7 postal codes contain the majority of the health inspections in this dataset. Verify this! Why is this? Is it because health inspectors inspect restaurants in those areas more often? Or is it because there are more restaurants in those postal codes? Questions like these are the focus of the next chapter."
   ]
  },
  {
   "cell_type": "code",
   "execution_count": 6,
   "metadata": {},
   "outputs": [
    {
     "data": {
      "image/png": "[encoded data removed]",
      "text/plain": [
       "<Figure size 432x288 with 1 Axes>"
      ]
     },
     "metadata": {
      "filenames": {
       "image/png": "/home/afraenkel/Software-Teaching/practical-data-science/book/_build/jupyter_execute/content/03/categorical-distributions_9_0.png"
      },
      "needs_background": "light"
     },
     "output_type": "display_data"
    }
   ],
   "source": [
    "(\n",
    "    inspections['month']\n",
    "    .value_counts(normalize=True)\n",
    "    .sort_index()\n",
    "    .plot(kind='bar', title='categorical distribution of inspection months')\n",
    ");"
   ]
  },
  {
   "cell_type": "markdown",
   "metadata": {},
   "source": [
    "### Cumulative Distribution Functions\n",
    "\n",
    "Cumulative distribution functions (CDF) are useful for understanding ordinal attributes within a range values. \n",
    "\n",
    "**Definition:** The CDF of an attribute at a value $x$ is the likelihood that an observed value is at most $x$.\n",
    "\n",
    "**Example:** The letter grades assigned in a course order from A (highest) through F (lowest). The table below gives both \n",
    "1. the distribution of the letter grades of students (pdf) describes the proportion of the class that received each letter grade,\n",
    "1. the cumulative distribution of the letter grades of students (cdf) describes the proportion of the class that received at most a given grade.\n",
    "\n",
    "|Grade|count|pdf|cdf|\n",
    "|---|---|---|---|\n",
    "|F|2|0.03|0.03|\n",
    "|D|5|0.07|0.10|\n",
    "|C|25|0.43|0.53|\n",
    "|B|23|0.33|0.86|\n",
    "|A|10|0.14|1.00|\n",
    "\n",
    "For example, 53% of the class received a C or lower.\n",
    "\n",
    "In Pandas, the CDF is calculated from the distribution using the 'cumulative sum' (`cumsum`) method:\n",
    "```\n",
    "distribution = grades.value_counts(normalize=True)\n",
    "cdf = distribution.sort_index(ascending=False).cumsum()\n",
    "```\n",
    "\n",
    "*Remark:* The use of `sort_index` is particular to this example, as the ordering of letter grades coincides with the reverse of python's default string sorting."
   ]
  },
  {
   "cell_type": "code",
   "execution_count": null,
   "metadata": {},
   "outputs": [],
   "source": []
  }
 ],
 "metadata": {
  "celltoolbar": "Tags",
  "kernelspec": {
   "display_name": "Python 3",
   "language": "python",
   "name": "python3"
  },
  "language_info": {
   "codemirror_mode": {
    "name": "ipython",
    "version": 3
   },
   "file_extension": ".py",
   "mimetype": "text/x-python",
   "name": "python",
   "nbconvert_exporter": "python",
   "pygments_lexer": "ipython3",
   "version": "3.7.1"
  }
 },
 "nbformat": 4,
 "nbformat_minor": 2
}