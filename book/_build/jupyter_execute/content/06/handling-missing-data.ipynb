{
 "cells": [
  {
   "cell_type": "code",
   "execution_count": 153,
   "metadata": {
    "tags": [
     "remove_cell"
    ]
   },
   "outputs": [],
   "source": [
    "%matplotlib inline\n",
    "import numpy as np\n",
    "import pandas as pd\n",
    "import seaborn as sns\n",
    "\n",
    "pd.set_option('display.max_rows', 7)\n",
    "\n",
    "coffee = pd.read_csv('data/coffee.csv', index_col=0)\n",
    "\n",
    "true = pd.read_csv('data/missing_true.csv')\n",
    "unif = pd.read_csv('data/missing_unif.csv')\n",
    "depd = pd.read_csv('data/missing_depd.csv')\n",
    "\n",
    "def plot_distributions(**kwargs):\n",
    "    '''plot two series/'''\n",
    "    L = [v.assign(missing=k) for (k, v) in kwargs.items()]\n",
    "    title = 'distribution of value'\n",
    "    G = pd.concat(L).groupby('missing')['value']\n",
    "    return G.plot(kind='kde', legend=True, title=title)"
   ]
  },
  {
   "cell_type": "markdown",
   "metadata": {},
   "source": [
    "# Handling Missing Data\n",
    "---"
   ]
  },
  {
   "cell_type": "markdown",
   "metadata": {},
   "source": [
    "Determining the nature of missing data naturally leads to the question of *what to do with the missing data*. The possibilities for handling missing data are influenced by \n",
    "* the kind of data being considered,\n",
    "* the mechanism of missingness identified in the generation of the data,\n",
    "* the type of model being fit on the data (and what it's used for).\n",
    "\n",
    "Generally, techniques for handling missing data fall into three categories: \n",
    "1. working with the NULL values directly, as values themselves,\n",
    "1. ignoring NULL values by 'dropping them' from the dataset,\n",
    "1. imputing, or filling in, NULL values with their likely true value.\n",
    "\n",
    "These techniques are not always clearly divided; use a combination of the above is often useful when dealing with multiple columns of a dataset. Understanding the strengths of each is an important piece of successfully cleaning a dataset for both descriptive and modeling tasks."
   ]
  },
  {
   "cell_type": "markdown",
   "metadata": {},
   "source": [
    "## Null values as values themselves\n",
    "\n",
    "Working with NULL values directly has the advantage of being straightforward and transparent.\n",
    "\n",
    "### Categorical Attributes\n",
    "\n",
    "When an attribute is categorical, a NULL value can be represented as a category in its own right. If the attribute is stored as string values, then `NaN` can simply be represented by the string value `'NULL'` and considered a value like any other.\n",
    "\n",
    "**Example:** A Data Scientist sat a local coffee shop and recorded the orders she observed (drink type, drink size, and tip amount). There are missing values in the dataset, due to a combination of factors, including noise and foot-traffic that made it hard to observe each transaction carefully. This dataset is saved in the dataframe `coffee`.\n",
    "\n",
    "To compute the empirical distribution of coffee types, including `NaN` as a value itself, one must pass `dropna=False` to the `value_counts` method:"
   ]
  },
  {
   "cell_type": "code",
   "execution_count": 123,
   "metadata": {},
   "outputs": [
    {
     "data": {
      "image/png": "[encoded data removed]",
      "text/plain": [
       "<Figure size 432x288 with 1 Axes>"
      ]
     },
     "metadata": {
      "filenames": {
       "image/png": "/home/afraenkel/Software-Teaching/practical-data-science/book/_build/jupyter_execute/content/06/handling-missing-data_4_0.png"
      },
      "needs_background": "light"
     },
     "output_type": "display_data"
    }
   ],
   "source": [
    "title = 'Empirical Distribution of Coffee Types'\n",
    "coffee['Coffee'].value_counts(normalize=True, dropna=False).plot(kind='barh', title=title);"
   ]
  },
  {
   "cell_type": "markdown",
   "metadata": {},
   "source": [
    "While this plot clearly shows that over 30% of the attribute is missing, it hides the fact that the 'nan' value is actually composed of the other values in the distribution. For example, if the 'nan' value is made up entirely of 'Espresso' drinks, the this distribution is very misleading!\n",
    "\n",
    "Certain predictive models handle missing values represented this way very well; certain model implicitly learn mechanism of missingness (i.e. the disibtribution of true values behind the missing values) through correlations in the dataset. Of course, the effectiveness of this still depends on the missing data being *ignorable*."
   ]
  },
  {
   "cell_type": "markdown",
   "metadata": {},
   "source": [
    "### Missing Indicator Variables\n",
    "\n",
    "The missingness of a column may be represented by an additional column that merely *indicates* if a particular value is missing from the dataset. Such a column is called a *missing indicator variable*.\n",
    "\n",
    "**Example:** In the coffee shop data, indicator variables for the given columns are new columns that denote whether a given value is missing:"
   ]
  },
  {
   "cell_type": "code",
   "execution_count": 124,
   "metadata": {},
   "outputs": [
    {
     "data": {
      "text/html": [
       "<div>\n",
       "<style scoped>\n",
       "    .dataframe tbody tr th:only-of-type {\n",
       "        vertical-align: middle;\n",
       "    }\n",
       "\n",
       "    .dataframe tbody tr th {\n",
       "        vertical-align: top;\n",
       "    }\n",
       "\n",
       "    .dataframe thead th {\n",
       "        text-align: right;\n",
       "    }\n",
       "</style>\n",
       "<table border=\"1\" class=\"dataframe\">\n",
       "  <thead>\n",
       "    <tr style=\"text-align: right;\">\n",
       "      <th></th>\n",
       "      <th>Coffee</th>\n",
       "      <th>Size</th>\n",
       "      <th>Tip</th>\n",
       "      <th>Coffee_ismissing</th>\n",
       "      <th>Size_ismissing</th>\n",
       "      <th>Tip_ismissing</th>\n",
       "    </tr>\n",
       "  </thead>\n",
       "  <tbody>\n",
       "    <tr>\n",
       "      <th>0</th>\n",
       "      <td>NaN</td>\n",
       "      <td>Sm</td>\n",
       "      <td>2.45</td>\n",
       "      <td>True</td>\n",
       "      <td>False</td>\n",
       "      <td>False</td>\n",
       "    </tr>\n",
       "    <tr>\n",
       "      <th>1</th>\n",
       "      <td>Macchiato</td>\n",
       "      <td>Sm</td>\n",
       "      <td>0.40</td>\n",
       "      <td>False</td>\n",
       "      <td>False</td>\n",
       "      <td>False</td>\n",
       "    </tr>\n",
       "    <tr>\n",
       "      <th>2</th>\n",
       "      <td>Cappuccino</td>\n",
       "      <td>Sm</td>\n",
       "      <td>NaN</td>\n",
       "      <td>False</td>\n",
       "      <td>False</td>\n",
       "      <td>True</td>\n",
       "    </tr>\n",
       "    <tr>\n",
       "      <th>...</th>\n",
       "      <td>...</td>\n",
       "      <td>...</td>\n",
       "      <td>...</td>\n",
       "      <td>...</td>\n",
       "      <td>...</td>\n",
       "      <td>...</td>\n",
       "    </tr>\n",
       "    <tr>\n",
       "      <th>997</th>\n",
       "      <td>Cappuccino</td>\n",
       "      <td>Md</td>\n",
       "      <td>NaN</td>\n",
       "      <td>False</td>\n",
       "      <td>False</td>\n",
       "      <td>True</td>\n",
       "    </tr>\n",
       "    <tr>\n",
       "      <th>998</th>\n",
       "      <td>Espresso</td>\n",
       "      <td>Lg</td>\n",
       "      <td>1.94</td>\n",
       "      <td>False</td>\n",
       "      <td>False</td>\n",
       "      <td>False</td>\n",
       "    </tr>\n",
       "    <tr>\n",
       "      <th>999</th>\n",
       "      <td>Cappuccino</td>\n",
       "      <td>Md</td>\n",
       "      <td>0.60</td>\n",
       "      <td>False</td>\n",
       "      <td>False</td>\n",
       "      <td>False</td>\n",
       "    </tr>\n",
       "  </tbody>\n",
       "</table>\n",
       "<p>1000 rows × 6 columns</p>\n",
       "</div>"
      ],
      "text/plain": [
       "         Coffee Size   Tip  Coffee_ismissing  Size_ismissing  Tip_ismissing\n",
       "0           NaN   Sm  2.45              True           False          False\n",
       "1     Macchiato   Sm  0.40             False           False          False\n",
       "2    Cappuccino   Sm   NaN             False           False           True\n",
       "..          ...  ...   ...               ...             ...            ...\n",
       "997  Cappuccino   Md   NaN             False           False           True\n",
       "998    Espresso   Lg  1.94             False           False          False\n",
       "999  Cappuccino   Md  0.60             False           False          False\n",
       "\n",
       "[1000 rows x 6 columns]"
      ]
     },
     "execution_count": 124,
     "metadata": {},
     "output_type": "execute_result"
    }
   ],
   "source": [
    "coffee.assign(\n",
    "    Coffee_ismissing=coffee['Coffee'].isnull(),\n",
    "    Size_ismissing=coffee['Size'].isnull(),\n",
    "    Tip_ismissing=coffee['Tip'].isnull()\n",
    ")"
   ]
  },
  {
   "cell_type": "markdown",
   "metadata": {},
   "source": [
    "While this method has the advantage of only adding information to the dataset, it requires an additional step to remove the missing values in numeric data. However, this 'correctness' of the removal of the missing data is less important when doing multivariate analyses, due to its correlation with missing-indicator column."
   ]
  },
  {
   "cell_type": "markdown",
   "metadata": {},
   "source": [
    "## Dropping Missing Data\n",
    "\n",
    "### List-wise Deletion\n",
    "\n",
    "The most straight-forward way to deal with missing data is to just drop those observations with missing values. However, this method is riddled with issues:\n",
    "\n",
    "* Dropping an observation with even a single missing value loses too much information. In the extreme case, a dataset with a single empty column would cause every observation to be dropped. It's better to only drop values when absolutely needed.\n",
    "* In all cases but MCAR data, dropping missing observations will bias the data. When the likelihood an attribute is missing depends on another column, dropping missing observations will disproportionately affect the associated values in that column.\n",
    "\n",
    "**Example:** In the coffee dataset, individually, each attribute has no more than 31.8% of the values missing. However, after list-wise deletion, the resulting dataset only contains 47.1% of the original observations -- this method loses over half the data!"
   ]
  },
  {
   "cell_type": "code",
   "execution_count": 125,
   "metadata": {},
   "outputs": [
    {
     "data": {
      "text/html": [
       "<div>\n",
       "<style scoped>\n",
       "    .dataframe tbody tr th:only-of-type {\n",
       "        vertical-align: middle;\n",
       "    }\n",
       "\n",
       "    .dataframe tbody tr th {\n",
       "        vertical-align: top;\n",
       "    }\n",
       "\n",
       "    .dataframe thead th {\n",
       "        text-align: right;\n",
       "    }\n",
       "</style>\n",
       "<table border=\"1\" class=\"dataframe\">\n",
       "  <thead>\n",
       "    <tr style=\"text-align: right;\">\n",
       "      <th></th>\n",
       "      <th>Proportion Missing</th>\n",
       "    </tr>\n",
       "  </thead>\n",
       "  <tbody>\n",
       "    <tr>\n",
       "      <th>Coffee</th>\n",
       "      <td>0.318</td>\n",
       "    </tr>\n",
       "    <tr>\n",
       "      <th>Size</th>\n",
       "      <td>0.158</td>\n",
       "    </tr>\n",
       "    <tr>\n",
       "      <th>Tip</th>\n",
       "      <td>0.205</td>\n",
       "    </tr>\n",
       "  </tbody>\n",
       "</table>\n",
       "</div>"
      ],
      "text/plain": [
       "        Proportion Missing\n",
       "Coffee               0.318\n",
       "Size                 0.158\n",
       "Tip                  0.205"
      ]
     },
     "execution_count": 125,
     "metadata": {},
     "output_type": "execute_result"
    }
   ],
   "source": [
    "coffee.isnull().mean().rename('Proportion Missing').to_frame()"
   ]
  },
  {
   "cell_type": "markdown",
   "metadata": {},
   "source": [
    "The proportion of the dataset remaining after list-wise deletion:"
   ]
  },
  {
   "cell_type": "code",
   "execution_count": 126,
   "metadata": {},
   "outputs": [
    {
     "data": {
      "text/plain": [
       "0.471"
      ]
     },
     "execution_count": 126,
     "metadata": {},
     "output_type": "execute_result"
    }
   ],
   "source": [
    "coffee.dropna().shape[0] / coffee.shape[0]"
   ]
  },
  {
   "cell_type": "markdown",
   "metadata": {},
   "source": [
    "### Pairwise Deletion\n",
    "\n",
    "Pairwise deletion drops only those observations with missing values that affect the computation being performed. While this fixes the issue of dropping too many observations, it still suffers from bias. This method also has strange side-effects due to the fact that different statistics may be calculated using a different number of observations.\n",
    "\n",
    "**Example:** While list-wise deletion drops over half of the observations in `coffee` dataset, pairwise deletion drops much fewer. For example computing the mean tip involves only dropping those observations for which the tip is missing (20.5%).\n",
    "\n",
    "*Remark:* The term 'pairwise deletion' comes from calculating correlation coefficients. To calculate the correlation matrix for a dataset, using pairwise deletion, loop through *pairs* of columns $(c_1, c_2)$:\n",
    "1. drop missing values in the columns $c_1$ and $c_2$,\n",
    "1. calculate the correlation coefficient between the two columns\n",
    "\n",
    "Thus, each correlation coefficient is computed with the *maximal amount of data*.\n"
   ]
  },
  {
   "cell_type": "markdown",
   "metadata": {},
   "source": [
    "### Dropping observations: an illustration"
   ]
  },
  {
   "cell_type": "markdown",
   "metadata": {},
   "source": [
    "This example will use a table of synthetically generated data to understand imputation:\n",
    "* The true population is defined in the DataFrame `true`, \n",
    "* `unif` is created from `true` by unconditionally erasing observations (MCAR), \n",
    "* `depd` is created from `true` by erasing observations dependent on `label`.\n",
    "\n",
    "The DataFrames have two columns, 'label' and 'value'. Below is a summary of the true population:"
   ]
  },
  {
   "cell_type": "code",
   "execution_count": 140,
   "metadata": {},
   "outputs": [
    {
     "data": {
      "text/html": [
       "<div>\n",
       "<style scoped>\n",
       "    .dataframe tbody tr th:only-of-type {\n",
       "        vertical-align: middle;\n",
       "    }\n",
       "\n",
       "    .dataframe tbody tr th {\n",
       "        vertical-align: top;\n",
       "    }\n",
       "\n",
       "    .dataframe thead th {\n",
       "        text-align: right;\n",
       "    }\n",
       "</style>\n",
       "<table border=\"1\" class=\"dataframe\">\n",
       "  <thead>\n",
       "    <tr style=\"text-align: right;\">\n",
       "      <th></th>\n",
       "      <th>label</th>\n",
       "      <th>value</th>\n",
       "    </tr>\n",
       "  </thead>\n",
       "  <tbody>\n",
       "    <tr>\n",
       "      <th>0</th>\n",
       "      <td>C</td>\n",
       "      <td>-0.472871</td>\n",
       "    </tr>\n",
       "    <tr>\n",
       "      <th>1</th>\n",
       "      <td>B</td>\n",
       "      <td>1.725308</td>\n",
       "    </tr>\n",
       "    <tr>\n",
       "      <th>2</th>\n",
       "      <td>C</td>\n",
       "      <td>-0.838320</td>\n",
       "    </tr>\n",
       "    <tr>\n",
       "      <th>...</th>\n",
       "      <td>...</td>\n",
       "      <td>...</td>\n",
       "    </tr>\n",
       "    <tr>\n",
       "      <th>997</th>\n",
       "      <td>C</td>\n",
       "      <td>-0.584425</td>\n",
       "    </tr>\n",
       "    <tr>\n",
       "      <th>998</th>\n",
       "      <td>B</td>\n",
       "      <td>1.679058</td>\n",
       "    </tr>\n",
       "    <tr>\n",
       "      <th>999</th>\n",
       "      <td>B</td>\n",
       "      <td>1.373065</td>\n",
       "    </tr>\n",
       "  </tbody>\n",
       "</table>\n",
       "<p>1000 rows × 2 columns</p>\n",
       "</div>"
      ],
      "text/plain": [
       "    label     value\n",
       "0       C -0.472871\n",
       "1       B  1.725308\n",
       "2       C -0.838320\n",
       "..    ...       ...\n",
       "997     C -0.584425\n",
       "998     B  1.679058\n",
       "999     B  1.373065\n",
       "\n",
       "[1000 rows x 2 columns]"
      ]
     },
     "execution_count": 140,
     "metadata": {},
     "output_type": "execute_result"
    }
   ],
   "source": [
    "true"
   ]
  },
  {
   "cell_type": "code",
   "execution_count": 144,
   "metadata": {},
   "outputs": [
    {
     "data": {
      "text/html": [
       "<div>\n",
       "<style scoped>\n",
       "    .dataframe tbody tr th:only-of-type {\n",
       "        vertical-align: middle;\n",
       "    }\n",
       "\n",
       "    .dataframe tbody tr th {\n",
       "        vertical-align: top;\n",
       "    }\n",
       "\n",
       "    .dataframe thead th {\n",
       "        text-align: right;\n",
       "    }\n",
       "</style>\n",
       "<table border=\"1\" class=\"dataframe\">\n",
       "  <thead>\n",
       "    <tr style=\"text-align: right;\">\n",
       "      <th></th>\n",
       "      <th>Distribution of Labels</th>\n",
       "    </tr>\n",
       "  </thead>\n",
       "  <tbody>\n",
       "    <tr>\n",
       "      <th>A</th>\n",
       "      <td>0.113</td>\n",
       "    </tr>\n",
       "    <tr>\n",
       "      <th>B</th>\n",
       "      <td>0.397</td>\n",
       "    </tr>\n",
       "    <tr>\n",
       "      <th>C</th>\n",
       "      <td>0.490</td>\n",
       "    </tr>\n",
       "  </tbody>\n",
       "</table>\n",
       "</div>"
      ],
      "text/plain": [
       "   Distribution of Labels\n",
       "A                   0.113\n",
       "B                   0.397\n",
       "C                   0.490"
      ]
     },
     "execution_count": 144,
     "metadata": {},
     "output_type": "execute_result"
    }
   ],
   "source": [
    "true['label'].value_counts(normalize=True).sort_index().rename('Distribution of Labels').to_frame()"
   ]
  },
  {
   "cell_type": "code",
   "execution_count": 145,
   "metadata": {},
   "outputs": [
    {
     "data": {
      "image/png": "[encoded data removed]",
      "text/plain": [
       "<Figure size 432x288 with 1 Axes>"
      ]
     },
     "metadata": {
      "filenames": {
       "image/png": "/home/afraenkel/Software-Teaching/practical-data-science/book/_build/jupyter_execute/content/06/handling-missing-data_18_0.png"
      },
      "needs_background": "light"
     },
     "output_type": "display_data"
    }
   ],
   "source": [
    "true['value'].plot(kind='kde', title='Distribution of Value');"
   ]
  },
  {
   "cell_type": "code",
   "execution_count": 148,
   "metadata": {},
   "outputs": [
    {
     "data": {
      "image/png": "[encoded data removed]",
      "text/plain": [
       "<Figure size 432x288 with 1 Axes>"
      ]
     },
     "metadata": {
      "filenames": {
       "image/png": "/home/afraenkel/Software-Teaching/practical-data-science/book/_build/jupyter_execute/content/06/handling-missing-data_19_0.png"
      },
      "needs_background": "light"
     },
     "output_type": "display_data"
    }
   ],
   "source": [
    "true.groupby('label')['value'].plot(kind='kde', legend=True, title='distribution of value by labels');"
   ]
  },
  {
   "cell_type": "markdown",
   "metadata": {},
   "source": [
    "**Example:** The dataset `unif` simulates the observed data as being unconditionally missing (MCAR). The plot below compares these two distributions:"
   ]
  },
  {
   "cell_type": "code",
   "execution_count": 168,
   "metadata": {},
   "outputs": [
    {
     "data": {
      "image/png": "[encoded data removed]",
      "text/plain": [
       "<Figure size 432x288 with 1 Axes>"
      ]
     },
     "metadata": {
      "filenames": {
       "image/png": "/home/afraenkel/Software-Teaching/practical-data-science/book/_build/jupyter_execute/content/06/handling-missing-data_21_0.png"
      },
      "needs_background": "light"
     },
     "output_type": "display_data"
    }
   ],
   "source": [
    "plot_distributions(**{'True Population': true, 'Dropped (MCAR)': unif});"
   ]
  },
  {
   "cell_type": "markdown",
   "metadata": {},
   "source": [
    "The distributions look near identical, because the observed data is uniformly sampled from the true population. This is a verification that MCAR data look like a representative sample!"
   ]
  },
  {
   "cell_type": "markdown",
   "metadata": {},
   "source": [
    "**Example:** The dataset `depd` simulates the observed data as being conditionally missing (MAR) dependent on the value of `label`. As the 'value' column varies with 'label', dropping the missing observations heavily biases the data."
   ]
  },
  {
   "cell_type": "code",
   "execution_count": 169,
   "metadata": {},
   "outputs": [
    {
     "data": {
      "image/png": "[encoded data removed]",
      "text/plain": [
       "<Figure size 432x288 with 1 Axes>"
      ]
     },
     "metadata": {
      "filenames": {
       "image/png": "/home/afraenkel/Software-Teaching/practical-data-science/book/_build/jupyter_execute/content/06/handling-missing-data_24_0.png"
      },
      "needs_background": "light"
     },
     "output_type": "display_data"
    }
   ],
   "source": [
    "plot_distributions(**{'True Population': true, 'Dropped (MAR)': depd});"
   ]
  },
  {
   "cell_type": "markdown",
   "metadata": {},
   "source": [
    "Comparing the two distributions shows that the values in the observed distribution skews toward smaller values. Computing the mean by dropping the observations in `depd` yields a downward bias:"
   ]
  },
  {
   "cell_type": "code",
   "execution_count": 173,
   "metadata": {},
   "outputs": [
    {
     "name": "stdout",
     "output_type": "stream",
     "text": [
      "true mean: 0.407980\n",
      "dropped mean: 0.335408\n"
     ]
    }
   ],
   "source": [
    "print(\n",
    "    'true mean: %f' %true['value'].mean(),\n",
    "    'dropped mean: %f' % depd['value'].mean(),\n",
    "    sep='\\n'\n",
    ")"
   ]
  }
 ],
 "metadata": {
  "kernelspec": {
   "display_name": "Python 3",
   "language": "python",
   "name": "python3"
  },
  "language_info": {
   "codemirror_mode": {
    "name": "ipython",
    "version": 3
   },
   "file_extension": ".py",
   "mimetype": "text/x-python",
   "name": "python",
   "nbconvert_exporter": "python",
   "pygments_lexer": "ipython3",
   "version": "3.7.1"
  }
 },
 "nbformat": 4,
 "nbformat_minor": 2
}