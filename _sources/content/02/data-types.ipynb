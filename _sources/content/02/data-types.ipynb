{
 "cells": [
  {
   "cell_type": "code",
   "execution_count": 2,
   "metadata": {
    "tags": [
     "remove_cell"
    ]
   },
   "outputs": [],
   "source": [
    "import pandas as pd\n",
    "import numpy as np\n",
    "pd.set_option('display.max_rows', 7)"
   ]
  },
  {
   "cell_type": "markdown",
   "metadata": {},
   "source": [
    "# Pandas Data Types and Performance Considerations\n",
    "---\n",
    "\n",
    "While the rest of the chapter emphasized learning to work with tabular data in Pandas, this section focuses on details of how Pandas implements these data structures. Understanding these details is an necessary if using Pandas as the primary library for tabular manipulation.\n",
    "\n",
    "While the Pandas library performs many computations very fast, the Pandas library is *not* developed to be optimized for speed. Instead, *Pandas optimizes developer ease*. Writing code in Pandas should be easy, fast, and require little overhead. Pandas embraces the Donald Knuth truism that:\n",
    "\n",
    "> The real problem is that programmers have spent far too much time worrying about efficiency in the wrong places and at the wrong times; premature optimization is the root of all evil (or at least most of it) in programming.\n",
    "\n",
    "Pandas emphasizes faster-to-code yet slower-to-run design patterns under the assumptions that:\n",
    "* The data scientist iteratively performs analyses; to start there's no clear computational goal.\n",
    "* What may be slower to run on a single laptop, may distribute well to a large cluster of servers using a distributed framework like Spark or Dask.\n",
    "* Datasets are often small and easily handled with (somewhat) inefficient code (and a sample of the data may help start the analysis).\n",
    "\n",
    "However, it's equally important to know the drawbacks and strengths of the library, as it often becomes necessary to push Pandas to the limits of what it can handle. In particular, \n",
    "* Resource constraints (e.g. a small laptop) shouldn't make a complete analysis of a large dataset impossible.\n",
    "* Moving from Pandas to a more performant library involves significant developer time. The larger the dataset one can process with Pandas, the faster one can do the work.\n",
    "\n",
    "## Pandas is built upon Numpy\n",
    "\n",
    "The C-optimized libraries powering Pandas is thanks to the Numpy library (which stands for '*Num*erical *py*thon'). The Pandas DataFrame is a columnar collection of Numpy arrays and thus many built-in DataFrame methods are fast Numpy methods applied across the column(s) of a DataFrame. \n",
    "\n",
    "Pandas is written to take advantage of Numpy performance, which leverages *vectorized code*. As such, it relies on the python interpreter knowing:\n",
    "1. the plan of execution ahead of time.\n",
    "1. the type of possible inputs and outputs that methods will use.\n",
    "1. the size of possible inputs and outputs.\n",
    "\n",
    "**Tip:** These needs translate to a few practical habits that lead to faster and more efficient Pandas code:\n",
    "1. Never loop over the rows of a DataFrame (operations over columns are vectorized by Numpy array calculations).\n",
    "1. Use built-in DataFrame methods on columns, over custom python functions, whenever possible (these functions are C-optimized Numpy methods).\n",
    "1. Explicitly type the data if memory is an issue (more on that later!).\n",
    "\n",
    "**Example:** Use the `%timeit` magic in Jupyter Notebooks to assess the difference in execution time. The DataFrame below contains one million observations containing five attributes, each with a value between 0 and 10. Using `%timeit`, one compares the execution time of taking the average of each of the columns via:\n",
    "* the built-in `Numpy` method,\n",
    "* a 'user-defined' average function, applied using the `apply` method,\n",
    "* looping through the rows and columns of the data to compute the mean in pure python."
   ]
  },
  {
   "cell_type": "code",
   "execution_count": 3,
   "metadata": {},
   "outputs": [
    {
     "data": {
      "text/html": [
       "<div>\n",
       "<style scoped>\n",
       "    .dataframe tbody tr th:only-of-type {\n",
       "        vertical-align: middle;\n",
       "    }\n",
       "\n",
       "    .dataframe tbody tr th {\n",
       "        vertical-align: top;\n",
       "    }\n",
       "\n",
       "    .dataframe thead th {\n",
       "        text-align: right;\n",
       "    }\n",
       "</style>\n",
       "<table border=\"1\" class=\"dataframe\">\n",
       "  <thead>\n",
       "    <tr style=\"text-align: right;\">\n",
       "      <th></th>\n",
       "      <th>a</th>\n",
       "      <th>b</th>\n",
       "      <th>c</th>\n",
       "      <th>d</th>\n",
       "      <th>e</th>\n",
       "    </tr>\n",
       "  </thead>\n",
       "  <tbody>\n",
       "    <tr>\n",
       "      <th>0</th>\n",
       "      <td>0</td>\n",
       "      <td>0</td>\n",
       "      <td>7</td>\n",
       "      <td>4</td>\n",
       "      <td>6</td>\n",
       "    </tr>\n",
       "    <tr>\n",
       "      <th>1</th>\n",
       "      <td>5</td>\n",
       "      <td>9</td>\n",
       "      <td>4</td>\n",
       "      <td>1</td>\n",
       "      <td>6</td>\n",
       "    </tr>\n",
       "    <tr>\n",
       "      <th>2</th>\n",
       "      <td>3</td>\n",
       "      <td>1</td>\n",
       "      <td>5</td>\n",
       "      <td>3</td>\n",
       "      <td>8</td>\n",
       "    </tr>\n",
       "    <tr>\n",
       "      <th>...</th>\n",
       "      <td>...</td>\n",
       "      <td>...</td>\n",
       "      <td>...</td>\n",
       "      <td>...</td>\n",
       "      <td>...</td>\n",
       "    </tr>\n",
       "    <tr>\n",
       "      <th>999997</th>\n",
       "      <td>1</td>\n",
       "      <td>4</td>\n",
       "      <td>7</td>\n",
       "      <td>6</td>\n",
       "      <td>2</td>\n",
       "    </tr>\n",
       "    <tr>\n",
       "      <th>999998</th>\n",
       "      <td>2</td>\n",
       "      <td>0</td>\n",
       "      <td>4</td>\n",
       "      <td>9</td>\n",
       "      <td>1</td>\n",
       "    </tr>\n",
       "    <tr>\n",
       "      <th>999999</th>\n",
       "      <td>6</td>\n",
       "      <td>7</td>\n",
       "      <td>5</td>\n",
       "      <td>1</td>\n",
       "      <td>5</td>\n",
       "    </tr>\n",
       "  </tbody>\n",
       "</table>\n",
       "<p>1000000 rows × 5 columns</p>\n",
       "</div>"
      ],
      "text/plain": [
       "        a  b  c  d  e\n",
       "0       0  0  7  4  6\n",
       "1       5  9  4  1  6\n",
       "2       3  1  5  3  8\n",
       "...    .. .. .. .. ..\n",
       "999997  1  4  7  6  2\n",
       "999998  2  0  4  9  1\n",
       "999999  6  7  5  1  5\n",
       "\n",
       "[1000000 rows x 5 columns]"
      ]
     },
     "execution_count": 3,
     "metadata": {},
     "output_type": "execute_result"
    }
   ],
   "source": [
    "data = pd.DataFrame(np.random.randint(0,10,size=(10**6,5)), columns='a b c d e'.split())\n",
    "data"
   ]
  },
  {
   "cell_type": "code",
   "execution_count": 12,
   "metadata": {},
   "outputs": [
    {
     "name": "stdout",
     "output_type": "stream",
     "text": [
      "17 ms ± 962 µs per loop (mean ± std. dev. of 7 runs, 10 loops each)\n"
     ]
    }
   ],
   "source": [
    "%timeit data.mean()"
   ]
  },
  {
   "cell_type": "code",
   "execution_count": 11,
   "metadata": {},
   "outputs": [
    {
     "name": "stdout",
     "output_type": "stream",
     "text": [
      "601 ms ± 24.9 ms per loop (mean ± std. dev. of 7 runs, 1 loop each)\n"
     ]
    }
   ],
   "source": [
    "%timeit data.apply(lambda x:sum(x) / len(x))"
   ]
  },
  {
   "cell_type": "code",
   "execution_count": 13,
   "metadata": {},
   "outputs": [
    {
     "name": "stdout",
     "output_type": "stream",
     "text": [
      "857 ms ± 11.6 ms per loop (mean ± std. dev. of 7 runs, 1 loop each)\n"
     ]
    }
   ],
   "source": [
    "%%timeit \n",
    "\n",
    "means = []\n",
    "for c in data.columns:\n",
    "    s = 0\n",
    "    for x in data[c]:\n",
    "        s += x\n",
    "    means.append(s / len(data[c]))"
   ]
  },
  {
   "cell_type": "markdown",
   "metadata": {},
   "source": [
    "Notice that the built-in mean method is faster by a 30!\n",
    "\n",
    "*Remark:* The `%timeit` times a single line of code, while `%%timeit` times the execution of an entire cell."
   ]
  },
  {
   "cell_type": "markdown",
   "metadata": {},
   "source": [
    "**Example:** The DataFrame method `DataFrame.info()` displays the column types, along with memory consumption:"
   ]
  },
  {
   "cell_type": "code",
   "execution_count": 17,
   "metadata": {},
   "outputs": [
    {
     "name": "stdout",
     "output_type": "stream",
     "text": [
      "<class 'pandas.core.frame.DataFrame'>\n",
      "RangeIndex: 1000000 entries, 0 to 999999\n",
      "Data columns (total 5 columns):\n",
      "a    1000000 non-null int64\n",
      "b    1000000 non-null int64\n",
      "c    1000000 non-null int64\n",
      "d    1000000 non-null int64\n",
      "e    1000000 non-null int64\n",
      "dtypes: int64(5)\n",
      "memory usage: 38.1 MB\n"
     ]
    }
   ],
   "source": [
    "data.info()"
   ]
  },
  {
   "cell_type": "markdown",
   "metadata": {},
   "source": [
    "## Data Types\n",
    "\n",
    "In Pandas, a **Data Type** is a classification that specifies the type of the values of a column. Understanding data types in Pandas leads to cleaner, better optimized (in both space and time), less error-prone code. In particular, Pandas handling of data types lends itself to the creation of hard-to-spot computational errors.\n",
    "\n",
    "The data types Pandas stores in its DataFrames are roughly the same as the Numpy data types. However, Pandas diverges from Numpy in a few ways:\n",
    "* Pandas infers the correct data types from pure python types, or types on disk (and is sometimes wrong!).\n",
    "* Pandas allocates large amounts of memory for data types by default (prioritizes correctness over efficiency).\n",
    "* A column's data type determines which operations can be applied to it:\n",
    "    - Numpy arrays are by default of homogeneous data type.\n",
    "    - Pandas DataFrames are heterogeneous, column oriented tables. The columns are homogeneous, implying that column methods are fast.\n",
    "* Pandas makes heavy use of the `object` data-type, which contains generic 'object' values that may be of mixed type. Performing operations on these columns is slow."
   ]
  },
  {
   "cell_type": "markdown",
   "metadata": {},
   "source": [
    "The DataFrame attribute `dtypes` returns a Series of data-types of each column, indexed by column name:"
   ]
  },
  {
   "cell_type": "code",
   "execution_count": 22,
   "metadata": {},
   "outputs": [
    {
     "data": {
      "text/plain": [
       "a    int64\n",
       "b    int64\n",
       "c    int64\n",
       "d    int64\n",
       "e    int64\n",
       "dtype: object"
      ]
     },
     "execution_count": 22,
     "metadata": {},
     "output_type": "execute_result"
    }
   ],
   "source": [
    "data.dtypes"
   ]
  },
  {
   "cell_type": "markdown",
   "metadata": {},
   "source": [
    "The table below contains a list of Pandas data types and their equivalents in other common scenarios:\n",
    "\n",
    "|Pandas dtype|Python type|NumPy type|SQL type|Usage|\n",
    "|---|---|---|---|---|\n",
    "|object|NA|object|NA|Mixed types|\n",
    "|object|str|string, unicode|NA|Text|\n",
    "|int64|int|int_, int8,...,int64, uint8,...,uint64|INT, BIGINT| Integer numbers|\n",
    "|float64|float|float_, float16, float32, float64|FLOAT| Floating point numbers|\n",
    "|bool|bool|bool_|BOOL|True/False values|\n",
    "|datetime64|datetime|datetime64[ns]|DATETIME|Date and time values|\n",
    "|timedelta[ns]|timedelta|NA|NA|Differences between two datetimes|\n",
    "|category|NA|NA|ENUM|Finite list of text values|\n",
    "\n",
    "*Remark:* Numpy improves performance by explicitly controlling the precision of the values contained in an array. While great for speed and space, these options are a hassle to constantly specify; Pandas always defaults to 64 bits."
   ]
  },
  {
   "cell_type": "markdown",
   "metadata": {},
   "source": [
    "**Example:** Numpy and Pandas follow different conventions for data type inference. Numpy coerces array values to a homogeneous type, whereas Pandas defaults to using a mixed 'object' type.\n",
    "\n",
    "The data define below consists of a single observation with two attributes: a single character (string) and a single integer.\n",
    "1. By default, Numpy coerces the integer to a string, resulting in an array of type `<U1` (unicode string of length 1).\n",
    "1. Pandas stores each column in its own array, each of a different type.\n",
    "1. The dtype can be explicitly when defining the array."
   ]
  },
  {
   "cell_type": "code",
   "execution_count": 35,
   "metadata": {},
   "outputs": [],
   "source": [
    "data = [['a', 1]]"
   ]
  },
  {
   "cell_type": "code",
   "execution_count": 36,
   "metadata": {},
   "outputs": [
    {
     "data": {
      "text/plain": [
       "array([['a', '1']], dtype='<U1')"
      ]
     },
     "execution_count": 36,
     "metadata": {},
     "output_type": "execute_result"
    }
   ],
   "source": [
    "np.array(data)"
   ]
  },
  {
   "cell_type": "code",
   "execution_count": 37,
   "metadata": {},
   "outputs": [
    {
     "name": "stdout",
     "output_type": "stream",
     "text": [
      "<class 'pandas.core.frame.DataFrame'>\n",
      "RangeIndex: 1 entries, 0 to 0\n",
      "Data columns (total 2 columns):\n",
      "0    1 non-null object\n",
      "1    1 non-null int64\n",
      "dtypes: int64(1), object(1)\n",
      "memory usage: 96.0+ bytes\n"
     ]
    }
   ],
   "source": [
    "pd.DataFrame(data).info()"
   ]
  },
  {
   "cell_type": "code",
   "execution_count": 38,
   "metadata": {},
   "outputs": [
    {
     "data": {
      "text/plain": [
       "array([['a', 1]], dtype=object)"
      ]
     },
     "execution_count": 38,
     "metadata": {},
     "output_type": "execute_result"
    }
   ],
   "source": [
    "np.array(data, dtype=np.object)"
   ]
  },
  {
   "cell_type": "markdown",
   "metadata": {},
   "source": [
    "### Representing missing data\n",
    "\n",
    "Missing Data in Pandas is represented by a special value `NaN` that stands for 'Not a Number'. These values are common to many programming languages and share a common specification. In particular, `NaN` values are floating point numbers that behave in peculiar ways shared with other unusual mathematical objects like $\\infty$. For example, it is often the output of methods returning a value for a zero-division.\n",
    "\n",
    "A `NaN` value can be defined by hand using Numpy's implementation: `np.NaN`."
   ]
  },
  {
   "cell_type": "markdown",
   "metadata": {},
   "source": [
    "The behavior of `NaN` with respect to comparisons is unusual, and is summarized in the following table:\n",
    "\n",
    "|Comparison|\t`NaN ≥ x`|\t`NaN ≤ x`|\t`NaN > x`\t|`NaN < x`\t|`NaN = x`|\t`NaN ≠ x`|\n",
    "|---|---|---|---|---|---|---|\n",
    "|Result|\tAlways False|\tAlways False|\tAlways False|\tAlways False|\tAlways False|\tAlways True|\n",
    "\n",
    "Thus, when checking when a given value is `NaN`, one should always use a function or method implemented for such comparisons:"
   ]
  },
  {
   "cell_type": "code",
   "execution_count": 14,
   "metadata": {},
   "outputs": [
    {
     "data": {
      "text/plain": [
       "[0, 1, nan, 3, 4, nan, 6]"
      ]
     },
     "execution_count": 14,
     "metadata": {},
     "output_type": "execute_result"
    }
   ],
   "source": [
    "list_of_values = [0, 1, np.NaN, 3, 4, np.NaN, 6]\n",
    "list_of_values"
   ]
  },
  {
   "cell_type": "markdown",
   "metadata": {},
   "source": [
    "The following code intends to loop through the elements of the list, stating when a value is present or missing. Since it uses a `==` comparison to `np.NaN`, the code incorrectly states that every element is there!"
   ]
  },
  {
   "cell_type": "code",
   "execution_count": 19,
   "metadata": {},
   "outputs": [
    {
     "name": "stdout",
     "output_type": "stream",
     "text": [
      "index 0 is present\n",
      "index 1 is present\n",
      "index 2 is present\n",
      "index 3 is present\n",
      "index 4 is present\n",
      "index 5 is present\n",
      "index 6 is present\n"
     ]
    }
   ],
   "source": [
    "for k, x in enumerate(list_of_values):\n",
    "    if x == np.NaN:\n",
    "        print('index %d is missing' % k)\n",
    "    else:\n",
    "        print('index %d is present' % k)"
   ]
  },
  {
   "cell_type": "markdown",
   "metadata": {},
   "source": [
    "Using the function `pd.isnull` returns the correct result:"
   ]
  },
  {
   "cell_type": "code",
   "execution_count": 9,
   "metadata": {},
   "outputs": [
    {
     "name": "stdout",
     "output_type": "stream",
     "text": [
      "index 0 is present\n",
      "index 1 is present\n",
      "index 2 is missing\n",
      "index 3 is present\n",
      "index 4 is present\n",
      "index 5 is missing\n",
      "index 6 is present\n"
     ]
    }
   ],
   "source": [
    "for k, x in enumerate(list_of_values):\n",
    "    if pd.isnull(x):\n",
    "        print('index %d is missing' % k)\n",
    "    else:\n",
    "        print('index %d is present' % k)"
   ]
  },
  {
   "cell_type": "markdown",
   "metadata": {},
   "source": [
    "The Pandas Series and DataFrame method `isnull()` returns a boolean array that indicates whether a given entry is missing."
   ]
  },
  {
   "cell_type": "code",
   "execution_count": 22,
   "metadata": {},
   "outputs": [
    {
     "data": {
      "text/plain": [
       "0    False\n",
       "1    False\n",
       "2     True\n",
       "3    False\n",
       "4    False\n",
       "5     True\n",
       "6    False\n",
       "dtype: bool"
      ]
     },
     "execution_count": 22,
     "metadata": {},
     "output_type": "execute_result"
    }
   ],
   "source": [
    "pd.Series(list_of_values).isnull()"
   ]
  },
  {
   "cell_type": "markdown",
   "metadata": {},
   "source": [
    "This boolean array, for example, can select all non-missing rows of a DataFrame.\n",
    "\n",
    "*Remark:* There is also a `nan` value that is implemented in pure python. While similar to Numpy's version, it differs in one significant way: Numpy's `NaN` is behaves like a single value, that always occupies the same location in memory; Python's `nan` values are objects that occupy different locations in memory whenever a new object is instantiated. As Numpy's implementation is more performant, always fall back to using `np.NaN` when possible.\n",
    "\n",
    "The example below illustrates this observation. A python `nan` value is instantiated by `float('nan')`.\n",
    "\n",
    "The variables `a,b` are two different instances of python's `nan` object, whereas `c,d` both represent `np.NaN`. Notice all of them have the same string representation:"
   ]
  },
  {
   "cell_type": "code",
   "execution_count": 27,
   "metadata": {},
   "outputs": [
    {
     "data": {
      "text/plain": [
       "(nan, nan, nan, nan)"
      ]
     },
     "execution_count": 27,
     "metadata": {},
     "output_type": "execute_result"
    }
   ],
   "source": [
    "a, b, c, d = float('nan'), float('nan'), np.NaN, np.NaN\n",
    "a, b, c, d"
   ]
  },
  {
   "cell_type": "markdown",
   "metadata": {},
   "source": [
    "Using the deep comparison operator `is`, the observation above becomes clear:\n",
    "* The same python `nan` value verifies as occupying the same location in memory,\n",
    "* The two different python `nan` values occupy different locations in memory,\n",
    "* The two different `np.NaN` values occupy the same location in memory."
   ]
  },
  {
   "cell_type": "code",
   "execution_count": 33,
   "metadata": {},
   "outputs": [
    {
     "data": {
      "text/plain": [
       "(True, False, True)"
      ]
     },
     "execution_count": 33,
     "metadata": {},
     "output_type": "execute_result"
    }
   ],
   "source": [
    "a is a, a is b, c is d"
   ]
  },
  {
   "cell_type": "markdown",
   "metadata": {},
   "source": [
    "## Copies and Views in Pandas\n",
    "\n",
    "The `values` DataFrame attribute accesses the underlying Numpy array of a DataFrame. Accessing the underlying Numpy data structure allows one to resort to (in-place) Numpy operations when performance becomes an issue. However, it's unfortunately quite complicated and unpredictable to understand exactly how the underlying Numpy array is being stored and used by Pandas. \n",
    "\n",
    "In particular, Pandas stores a DataFrame in two different ways, depending on the context:\n",
    "1. Pandas will create a DataFrame from a *copy* of an array in most situations. For such an array, the `.values` attribute, along with all DataFrame methods, will also return a copy.\n",
    "1. Pandas will sometimes create a DataFrame as a *view* (or reference) of an existing array. This results in huge performance gains, at the expense of possible side-effects from in-place modifications. The most common situation for which this occurs is when a DataFrame contains homogeneous data (and thus can store an unmodified multidimensional Numpy array). However, such situations are not guaranteed and should *never* be depended upon!\n",
    "\n",
    "**Example:** The follow example illustrates that an in-place modification of a DataFrame works in some cases (homogeneous data) and not others. The table `homogeneous` consists only of integers and `.values` returns a reference to an existing array:"
   ]
  },
  {
   "cell_type": "code",
   "execution_count": 40,
   "metadata": {},
   "outputs": [
    {
     "data": {
      "text/html": [
       "<div>\n",
       "<style scoped>\n",
       "    .dataframe tbody tr th:only-of-type {\n",
       "        vertical-align: middle;\n",
       "    }\n",
       "\n",
       "    .dataframe tbody tr th {\n",
       "        vertical-align: top;\n",
       "    }\n",
       "\n",
       "    .dataframe thead th {\n",
       "        text-align: right;\n",
       "    }\n",
       "</style>\n",
       "<table border=\"1\" class=\"dataframe\">\n",
       "  <thead>\n",
       "    <tr style=\"text-align: right;\">\n",
       "      <th></th>\n",
       "      <th>a</th>\n",
       "      <th>b</th>\n",
       "      <th>c</th>\n",
       "    </tr>\n",
       "  </thead>\n",
       "  <tbody>\n",
       "    <tr>\n",
       "      <th>0</th>\n",
       "      <td>0</td>\n",
       "      <td>1</td>\n",
       "      <td>2</td>\n",
       "    </tr>\n",
       "    <tr>\n",
       "      <th>1</th>\n",
       "      <td>3</td>\n",
       "      <td>4</td>\n",
       "      <td>5</td>\n",
       "    </tr>\n",
       "  </tbody>\n",
       "</table>\n",
       "</div>"
      ],
      "text/plain": [
       "   a  b  c\n",
       "0  0  1  2\n",
       "1  3  4  5"
      ]
     },
     "execution_count": 40,
     "metadata": {},
     "output_type": "execute_result"
    }
   ],
   "source": [
    "homogeneous = pd.DataFrame([[0,1,2],[3,4,5]], columns='a b c'.split())\n",
    "homogeneous"
   ]
  },
  {
   "cell_type": "code",
   "execution_count": 41,
   "metadata": {},
   "outputs": [
    {
     "data": {
      "text/plain": [
       "array([[0, 1, 2],\n",
       "       [3, 4, 5]])"
      ]
     },
     "execution_count": 41,
     "metadata": {},
     "output_type": "execute_result"
    }
   ],
   "source": [
    "homogeneous.values"
   ]
  },
  {
   "cell_type": "markdown",
   "metadata": {},
   "source": [
    "An in-place reassignment of the upper-left value of the array `homogeneous.values` results in a changed DataFrame:"
   ]
  },
  {
   "cell_type": "code",
   "execution_count": 42,
   "metadata": {},
   "outputs": [
    {
     "data": {
      "text/html": [
       "<div>\n",
       "<style scoped>\n",
       "    .dataframe tbody tr th:only-of-type {\n",
       "        vertical-align: middle;\n",
       "    }\n",
       "\n",
       "    .dataframe tbody tr th {\n",
       "        vertical-align: top;\n",
       "    }\n",
       "\n",
       "    .dataframe thead th {\n",
       "        text-align: right;\n",
       "    }\n",
       "</style>\n",
       "<table border=\"1\" class=\"dataframe\">\n",
       "  <thead>\n",
       "    <tr style=\"text-align: right;\">\n",
       "      <th></th>\n",
       "      <th>a</th>\n",
       "      <th>b</th>\n",
       "      <th>c</th>\n",
       "    </tr>\n",
       "  </thead>\n",
       "  <tbody>\n",
       "    <tr>\n",
       "      <th>0</th>\n",
       "      <td>1</td>\n",
       "      <td>1</td>\n",
       "      <td>2</td>\n",
       "    </tr>\n",
       "    <tr>\n",
       "      <th>1</th>\n",
       "      <td>3</td>\n",
       "      <td>4</td>\n",
       "      <td>5</td>\n",
       "    </tr>\n",
       "  </tbody>\n",
       "</table>\n",
       "</div>"
      ],
      "text/plain": [
       "   a  b  c\n",
       "0  1  1  2\n",
       "1  3  4  5"
      ]
     },
     "execution_count": 42,
     "metadata": {},
     "output_type": "execute_result"
    }
   ],
   "source": [
    "homogeneous.values[0][0] = 1\n",
    "homogeneous"
   ]
  },
  {
   "cell_type": "markdown",
   "metadata": {},
   "source": [
    "On the other hand, the table `heterogeneous` contains a column of strings alongside the *same DataFrame as before*. In this case, `.values` returns a copy that cannot be modified in-place!"
   ]
  },
  {
   "cell_type": "code",
   "execution_count": 43,
   "metadata": {},
   "outputs": [
    {
     "data": {
      "text/html": [
       "<div>\n",
       "<style scoped>\n",
       "    .dataframe tbody tr th:only-of-type {\n",
       "        vertical-align: middle;\n",
       "    }\n",
       "\n",
       "    .dataframe tbody tr th {\n",
       "        vertical-align: top;\n",
       "    }\n",
       "\n",
       "    .dataframe thead th {\n",
       "        text-align: right;\n",
       "    }\n",
       "</style>\n",
       "<table border=\"1\" class=\"dataframe\">\n",
       "  <thead>\n",
       "    <tr style=\"text-align: right;\">\n",
       "      <th></th>\n",
       "      <th>a</th>\n",
       "      <th>b</th>\n",
       "      <th>c</th>\n",
       "      <th>d</th>\n",
       "    </tr>\n",
       "  </thead>\n",
       "  <tbody>\n",
       "    <tr>\n",
       "      <th>0</th>\n",
       "      <td>0</td>\n",
       "      <td>1</td>\n",
       "      <td>2</td>\n",
       "      <td>a</td>\n",
       "    </tr>\n",
       "    <tr>\n",
       "      <th>1</th>\n",
       "      <td>3</td>\n",
       "      <td>4</td>\n",
       "      <td>5</td>\n",
       "      <td>b</td>\n",
       "    </tr>\n",
       "  </tbody>\n",
       "</table>\n",
       "</div>"
      ],
      "text/plain": [
       "   a  b  c  d\n",
       "0  0  1  2  a\n",
       "1  3  4  5  b"
      ]
     },
     "execution_count": 43,
     "metadata": {},
     "output_type": "execute_result"
    }
   ],
   "source": [
    "heterogeneous = pd.DataFrame([[0,1,2,'a'],[3,4,5,'b']], columns='a b c d'.split())\n",
    "heterogeneous"
   ]
  },
  {
   "cell_type": "code",
   "execution_count": 44,
   "metadata": {},
   "outputs": [
    {
     "data": {
      "text/plain": [
       "array([[0, 1, 2, 'a'],\n",
       "       [3, 4, 5, 'b']], dtype=object)"
      ]
     },
     "execution_count": 44,
     "metadata": {},
     "output_type": "execute_result"
    }
   ],
   "source": [
    "heterogeneous.values"
   ]
  },
  {
   "cell_type": "markdown",
   "metadata": {},
   "source": [
    "An in-place reassignment of the upper-left value of the array `heterogeneous.values` results in a unchanged DataFrame:"
   ]
  },
  {
   "cell_type": "code",
   "execution_count": 45,
   "metadata": {},
   "outputs": [
    {
     "data": {
      "text/html": [
       "<div>\n",
       "<style scoped>\n",
       "    .dataframe tbody tr th:only-of-type {\n",
       "        vertical-align: middle;\n",
       "    }\n",
       "\n",
       "    .dataframe tbody tr th {\n",
       "        vertical-align: top;\n",
       "    }\n",
       "\n",
       "    .dataframe thead th {\n",
       "        text-align: right;\n",
       "    }\n",
       "</style>\n",
       "<table border=\"1\" class=\"dataframe\">\n",
       "  <thead>\n",
       "    <tr style=\"text-align: right;\">\n",
       "      <th></th>\n",
       "      <th>a</th>\n",
       "      <th>b</th>\n",
       "      <th>c</th>\n",
       "      <th>d</th>\n",
       "    </tr>\n",
       "  </thead>\n",
       "  <tbody>\n",
       "    <tr>\n",
       "      <th>0</th>\n",
       "      <td>0</td>\n",
       "      <td>1</td>\n",
       "      <td>2</td>\n",
       "      <td>a</td>\n",
       "    </tr>\n",
       "    <tr>\n",
       "      <th>1</th>\n",
       "      <td>3</td>\n",
       "      <td>4</td>\n",
       "      <td>5</td>\n",
       "      <td>b</td>\n",
       "    </tr>\n",
       "  </tbody>\n",
       "</table>\n",
       "</div>"
      ],
      "text/plain": [
       "   a  b  c  d\n",
       "0  0  1  2  a\n",
       "1  3  4  5  b"
      ]
     },
     "execution_count": 45,
     "metadata": {},
     "output_type": "execute_result"
    }
   ],
   "source": [
    "heterogeneous.values[0][0] = 1\n",
    "heterogeneous"
   ]
  },
  {
   "cell_type": "markdown",
   "metadata": {},
   "source": [
    "## Method Chaining\n",
    "\n",
    "Pandas usually returns copies:\n",
    "- this pattern is intentional (functional programming paradigm): no side-effects\n",
    "- can create problems when assigning variables to each sub-step (e.g. needlessly high memory usage)\n",
    "- fix this by chaining together methods!\n",
    "    - other pros: easy to read, understand, and change steps.\n",
    "    - don't litter the namespace with dozens of temporary variable names\n",
    "    \n",
    "    \n",
    "**Example:** Saw in previous section, calculating the top goal scorer in each world-cup was a three step process:\n",
    "* sort the table of players descending by the number of goals scored in each tournament (`sort_values`),\n",
    "* keep only the first (i.e. highest) number for each year (`drop_duplicates`),\n",
    "* sort the table by tournament year.\n",
    "\n",
    "Procedurally, one can implement these steps exactly as outlined in English above:"
   ]
  },
  {
   "cell_type": "code",
   "execution_count": null,
   "metadata": {},
   "outputs": [],
   "source": [
    "uswnt_by_goals = uswnt.sort_values(by='Gls', ascending=False)\n",
    "most_goals_per_year = uswnt_by_goals.drop_duplicates(subset=['Year'])\n",
    "most_goals_per_year_sorted = uswnt_most_goals_per_year.sort_values(by='Year')"
   ]
  },
  {
   "cell_type": "markdown",
   "metadata": {},
   "source": [
    "This approach: \n",
    "* is hard to read, due to introducing unnecessary variables at each step, \n",
    "* creates copies of each DataFrame, assigning them to names at every step; due to these assignments, python does not release this memory until later than necessary.\n",
    "\n",
    "Much better to use method chaining, applying methods directly to the output of the previous method application. Python's indentation makes the steps easy to read and parse. Moreover, as each subsequent copy is never assigned to a variable, the interpreter knows it can release the memory as soon as it executes the method."
   ]
  },
  {
   "cell_type": "code",
   "execution_count": null,
   "metadata": {},
   "outputs": [],
   "source": [
    "(\n",
    "    uswnt\n",
    "    .sort_values(by='Gls', ascending=False)\n",
    "    .drop_duplicates(subset=['Year'])\n",
    "    .sort_values(by='Year')\n",
    ")\n"
   ]
  },
  {
   "cell_type": "markdown",
   "metadata": {},
   "source": [
    "*Remark:* Many Pandas methods have an 'inplace' keyword. Surprisingly, this option **does not** result in an in-place operation. It still returns a copy that is reassigned to the variable being modified. As such, **the inplace keyword should never be used**; it will eventually be removed from the library entirely."
   ]
  }
 ],
 "metadata": {
  "kernelspec": {
   "display_name": "Python 3",
   "language": "python",
   "name": "python3"
  },
  "language_info": {
   "codemirror_mode": {
    "name": "ipython",
    "version": 3
   },
   "file_extension": ".py",
   "mimetype": "text/x-python",
   "name": "python",
   "nbconvert_exporter": "python",
   "pygments_lexer": "ipython3",
   "version": "3.7.1"
  }
 },
 "nbformat": 4,
 "nbformat_minor": 2
}
