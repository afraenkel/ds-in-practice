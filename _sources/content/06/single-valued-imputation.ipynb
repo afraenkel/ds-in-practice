{
 "cells": [
  {
   "cell_type": "code",
   "execution_count": 171,
   "metadata": {
    "tags": [
     "remove_cell"
    ]
   },
   "outputs": [],
   "source": [
    "%matplotlib inline\n",
    "import numpy as np\n",
    "import pandas as pd\n",
    "import seaborn as sns\n",
    "\n",
    "pd.set_option('display.max_rows', 7)\n",
    "\n",
    "coffee = pd.read_csv('data/coffee.csv', index_col=0)\n",
    "\n",
    "true = pd.read_csv('data/missing_true.csv')\n",
    "unif = pd.read_csv('data/missing_unif.csv')\n",
    "depd = pd.read_csv('data/missing_depd.csv')\n",
    "\n",
    "def plot_distributions(**kwargs):\n",
    "    '''plot two series/'''\n",
    "    L = [v.assign(missing=k) for (k, v) in kwargs.items()]\n",
    "    title = 'distribution of value'\n",
    "    G = pd.concat(L).groupby('missing')['value']\n",
    "    return G.plot(kind='hist', legend=True, title=title, bins=15, density=True, alpha=0.5)"
   ]
  },
  {
   "cell_type": "markdown",
   "metadata": {},
   "source": [
    "# Single-Valued Imputation\n",
    "---"
   ]
  },
  {
   "cell_type": "markdown",
   "metadata": {},
   "source": [
    "Missing-value imputation refers to the process of 'filling-in' missing data with values that approximate the *true value* of the missing observation. Since the true value is unknown, various imputation techniques use different reasoning to make a 'best guess' at what the true values of these observations.\n",
    "\n",
    "Single-valued imputation make deterministic best guesses: a given missing observation will *always* be imputed with the same value. This well-behaved procedure has trade-offs: while easy to understand implement and interpret, it biases many statistics of the dataset. In particular single-valued imputation almost always artificially decreases the variance of a dataset; this decrease inflates the confidence one has in the results of one's inference.\n",
    "\n",
    "The trick of single-valued imputation lies in how one finds the values with which to impute. This process may vary from an ad-hoc fixed value, to more complicated rules and models that statistically predict the missing value. The portions below introduce different imputation techniques in increasing complexity."
   ]
  },
  {
   "cell_type": "markdown",
   "metadata": {},
   "source": [
    "## Imputation with the Mean/Mode\n",
    "\n",
    "Imputation with a 'typical' value of a column is the most simple approach to imputation. To impute a column with its mean value, one need only pass a dictionary of values to `fillna`: the keys are the columns to be imputed, while the values are mean values for those columns."
   ]
  },
  {
   "cell_type": "markdown",
   "metadata": {},
   "source": [
    "### MCAR Data\n",
    "\n",
    "**Example (Mean):** Imputing the `value` column with the mean observed value:"
   ]
  },
  {
   "cell_type": "code",
   "execution_count": 172,
   "metadata": {},
   "outputs": [],
   "source": [
    "imputed = unif.fillna({'value': unif['value'].mean()})"
   ]
  },
  {
   "cell_type": "code",
   "execution_count": 173,
   "metadata": {},
   "outputs": [
    {
     "data": {
      "image/png": "[encoded data removed]",
      "text/plain": [
       "<Figure size 432x288 with 1 Axes>"
      ]
     },
     "metadata": {
      "needs_background": "light"
     },
     "output_type": "display_data"
    }
   ],
   "source": [
    "d = {\n",
    "    'True': true,\n",
    "    'Imputed (MCAR)': imputed\n",
    "}\n",
    "plot_distributions(**d);"
   ]
  },
  {
   "cell_type": "markdown",
   "metadata": {},
   "source": [
    "From the plot, one observes the imputed distribution looks *very* different; all the missing values were given a single value. This decision has two primary effects:\n",
    "* the mean remains unchanged by construction, and\n",
    "* the variance of the imputed data is much smaller.\n",
    "\n",
    "These effects are seen in the following table:"
   ]
  },
  {
   "cell_type": "code",
   "execution_count": 174,
   "metadata": {},
   "outputs": [
    {
     "data": {
      "text/html": [
       "<div>\n",
       "<style scoped>\n",
       "    .dataframe tbody tr th:only-of-type {\n",
       "        vertical-align: middle;\n",
       "    }\n",
       "\n",
       "    .dataframe tbody tr th {\n",
       "        vertical-align: top;\n",
       "    }\n",
       "\n",
       "    .dataframe thead tr th {\n",
       "        text-align: left;\n",
       "    }\n",
       "\n",
       "    .dataframe thead tr:last-of-type th {\n",
       "        text-align: right;\n",
       "    }\n",
       "</style>\n",
       "<table border=\"1\" class=\"dataframe\">\n",
       "  <thead>\n",
       "    <tr>\n",
       "      <th></th>\n",
       "      <th colspan=\"8\" halign=\"left\">value</th>\n",
       "    </tr>\n",
       "    <tr>\n",
       "      <th></th>\n",
       "      <th>count</th>\n",
       "      <th>mean</th>\n",
       "      <th>std</th>\n",
       "      <th>min</th>\n",
       "      <th>25%</th>\n",
       "      <th>50%</th>\n",
       "      <th>75%</th>\n",
       "      <th>max</th>\n",
       "    </tr>\n",
       "    <tr>\n",
       "      <th>missing</th>\n",
       "      <th></th>\n",
       "      <th></th>\n",
       "      <th></th>\n",
       "      <th></th>\n",
       "      <th></th>\n",
       "      <th></th>\n",
       "      <th></th>\n",
       "      <th></th>\n",
       "    </tr>\n",
       "  </thead>\n",
       "  <tbody>\n",
       "    <tr>\n",
       "      <th>Imputed</th>\n",
       "      <td>1000.0</td>\n",
       "      <td>0.414235</td>\n",
       "      <td>0.888919</td>\n",
       "      <td>-0.999003</td>\n",
       "      <td>-0.371867</td>\n",
       "      <td>0.414235</td>\n",
       "      <td>1.217879</td>\n",
       "      <td>1.994737</td>\n",
       "    </tr>\n",
       "    <tr>\n",
       "      <th>True Pop</th>\n",
       "      <td>1000.0</td>\n",
       "      <td>0.407980</td>\n",
       "      <td>0.989372</td>\n",
       "      <td>-0.999143</td>\n",
       "      <td>-0.532888</td>\n",
       "      <td>0.131755</td>\n",
       "      <td>1.404898</td>\n",
       "      <td>1.994737</td>\n",
       "    </tr>\n",
       "  </tbody>\n",
       "</table>\n",
       "</div>"
      ],
      "text/plain": [
       "           value                                                              \\\n",
       "           count      mean       std       min       25%       50%       75%   \n",
       "missing                                                                        \n",
       "Imputed   1000.0  0.414235  0.888919 -0.999003 -0.371867  0.414235  1.217879   \n",
       "True Pop  1000.0  0.407980  0.989372 -0.999143 -0.532888  0.131755  1.404898   \n",
       "\n",
       "                    \n",
       "               max  \n",
       "missing             \n",
       "Imputed   1.994737  \n",
       "True Pop  1.994737  "
      ]
     },
     "execution_count": 174,
     "metadata": {},
     "output_type": "execute_result"
    }
   ],
   "source": [
    "pd.concat([\n",
    "    imputed.assign(missing='Imputed'), \n",
    "    true.assign(missing='True Pop')]\n",
    ").groupby('missing').describe()"
   ]
  },
  {
   "cell_type": "markdown",
   "metadata": {},
   "source": [
    "**Example (Mode):** Imputing categorical attributes with the most 'typical' value calls for using the *mode*, as computing means only makes sense for quantitative columns. For the categorical attribute 'label', the most common value is `C`. \n",
    "\n",
    "Imputation with the mode therefore sees a large increase in the occurrence of the value `C`:"
   ]
  },
  {
   "cell_type": "code",
   "execution_count": 175,
   "metadata": {},
   "outputs": [
    {
     "data": {
      "image/png": "[encoded data removed]",
      "text/plain": [
       "<Figure size 432x288 with 1 Axes>"
      ]
     },
     "metadata": {
      "needs_background": "light"
     },
     "output_type": "display_data"
    }
   ],
   "source": [
    "pd.concat([\n",
    "    unif.fillna({'label': unif['label'].mode().squeeze()}).assign(missing='Imputed'), \n",
    "    true.assign(missing='True Pop')]\n",
    ").pivot_table(index='label', columns='missing', aggfunc='size').apply(lambda x:x/x.sum()).plot(kind='bar');"
   ]
  },
  {
   "cell_type": "markdown",
   "metadata": {},
   "source": [
    "### MAR Data\n",
    "\n",
    "Imputing MAR data with the mean yields a biased estimate of the true mean:"
   ]
  },
  {
   "cell_type": "code",
   "execution_count": 176,
   "metadata": {},
   "outputs": [],
   "source": [
    "imputed = depd.fillna({'value': depd['value'].mean()})"
   ]
  },
  {
   "cell_type": "code",
   "execution_count": 177,
   "metadata": {},
   "outputs": [
    {
     "data": {
      "image/png": "[encoded data removed]",
      "text/plain": [
       "<Figure size 432x288 with 1 Axes>"
      ]
     },
     "metadata": {
      "needs_background": "light"
     },
     "output_type": "display_data"
    }
   ],
   "source": [
    "d = {\n",
    "    'True': true,\n",
    "    'Imputed (MAR)': imputed\n",
    "}\n",
    "plot_distributions(**d);"
   ]
  },
  {
   "cell_type": "markdown",
   "metadata": {},
   "source": [
    "Note that, not only is the standard deviation smaller, but so is the mean of the dataset:"
   ]
  },
  {
   "cell_type": "code",
   "execution_count": 178,
   "metadata": {},
   "outputs": [
    {
     "data": {
      "text/html": [
       "<div>\n",
       "<style scoped>\n",
       "    .dataframe tbody tr th:only-of-type {\n",
       "        vertical-align: middle;\n",
       "    }\n",
       "\n",
       "    .dataframe tbody tr th {\n",
       "        vertical-align: top;\n",
       "    }\n",
       "\n",
       "    .dataframe thead tr th {\n",
       "        text-align: left;\n",
       "    }\n",
       "\n",
       "    .dataframe thead tr:last-of-type th {\n",
       "        text-align: right;\n",
       "    }\n",
       "</style>\n",
       "<table border=\"1\" class=\"dataframe\">\n",
       "  <thead>\n",
       "    <tr>\n",
       "      <th></th>\n",
       "      <th colspan=\"8\" halign=\"left\">value</th>\n",
       "    </tr>\n",
       "    <tr>\n",
       "      <th></th>\n",
       "      <th>count</th>\n",
       "      <th>mean</th>\n",
       "      <th>std</th>\n",
       "      <th>min</th>\n",
       "      <th>25%</th>\n",
       "      <th>50%</th>\n",
       "      <th>75%</th>\n",
       "      <th>max</th>\n",
       "    </tr>\n",
       "    <tr>\n",
       "      <th>missing</th>\n",
       "      <th></th>\n",
       "      <th></th>\n",
       "      <th></th>\n",
       "      <th></th>\n",
       "      <th></th>\n",
       "      <th></th>\n",
       "      <th></th>\n",
       "      <th></th>\n",
       "    </tr>\n",
       "  </thead>\n",
       "  <tbody>\n",
       "    <tr>\n",
       "      <th>Imputed</th>\n",
       "      <td>1000.0</td>\n",
       "      <td>0.335408</td>\n",
       "      <td>0.930277</td>\n",
       "      <td>-0.999143</td>\n",
       "      <td>-0.508812</td>\n",
       "      <td>0.335408</td>\n",
       "      <td>1.240418</td>\n",
       "      <td>1.994737</td>\n",
       "    </tr>\n",
       "    <tr>\n",
       "      <th>True Pop</th>\n",
       "      <td>1000.0</td>\n",
       "      <td>0.407980</td>\n",
       "      <td>0.989372</td>\n",
       "      <td>-0.999143</td>\n",
       "      <td>-0.532888</td>\n",
       "      <td>0.131755</td>\n",
       "      <td>1.404898</td>\n",
       "      <td>1.994737</td>\n",
       "    </tr>\n",
       "  </tbody>\n",
       "</table>\n",
       "</div>"
      ],
      "text/plain": [
       "           value                                                              \\\n",
       "           count      mean       std       min       25%       50%       75%   \n",
       "missing                                                                        \n",
       "Imputed   1000.0  0.335408  0.930277 -0.999143 -0.508812  0.335408  1.240418   \n",
       "True Pop  1000.0  0.407980  0.989372 -0.999143 -0.532888  0.131755  1.404898   \n",
       "\n",
       "                    \n",
       "               max  \n",
       "missing             \n",
       "Imputed   1.994737  \n",
       "True Pop  1.994737  "
      ]
     },
     "execution_count": 178,
     "metadata": {},
     "output_type": "execute_result"
    }
   ],
   "source": [
    "pd.concat([\n",
    "    imputed.assign(missing='Imputed'), \n",
    "    true.assign(missing='True Pop')]\n",
    ").groupby('missing').describe()"
   ]
  },
  {
   "cell_type": "markdown",
   "metadata": {},
   "source": [
    "**Example (Mean-by-group):** Since the missingness of the 'value' column is dependent on 'label', the biased estimate of the mean can be corrected by doing *group-wise* single-valued imputation with the mean:"
   ]
  },
  {
   "cell_type": "code",
   "execution_count": 184,
   "metadata": {},
   "outputs": [],
   "source": [
    "def fillna_grp(ser):\n",
    "    '''fill-na with mean for a column for a column'''\n",
    "    return ser.fillna(ser.mean())\n",
    "    \n",
    "imputed = depd.assign(\n",
    "        value=depd.fillna({'label':'NULL'}).groupby('label')['value'].transform(fillna_grp)\n",
    ")"
   ]
  },
  {
   "cell_type": "code",
   "execution_count": 185,
   "metadata": {},
   "outputs": [
    {
     "data": {
      "image/png": "[encoded data removed]",
      "text/plain": [
       "<Figure size 432x288 with 1 Axes>"
      ]
     },
     "metadata": {
      "needs_background": "light"
     },
     "output_type": "display_data"
    }
   ],
   "source": [
    "d = {\n",
    "    'True': true,\n",
    "    'Imputed (MAR)': imputed\n",
    "}\n",
    "plot_distributions(**d);"
   ]
  },
  {
   "cell_type": "markdown",
   "metadata": {},
   "source": [
    "Note that the three peaks correspond to the single-valued imputation for the three groups. The table below shows the mean of the imputed dataset roughly matches the population mean:"
   ]
  },
  {
   "cell_type": "code",
   "execution_count": 181,
   "metadata": {},
   "outputs": [
    {
     "data": {
      "text/html": [
       "<div>\n",
       "<style scoped>\n",
       "    .dataframe tbody tr th:only-of-type {\n",
       "        vertical-align: middle;\n",
       "    }\n",
       "\n",
       "    .dataframe tbody tr th {\n",
       "        vertical-align: top;\n",
       "    }\n",
       "\n",
       "    .dataframe thead tr th {\n",
       "        text-align: left;\n",
       "    }\n",
       "\n",
       "    .dataframe thead tr:last-of-type th {\n",
       "        text-align: right;\n",
       "    }\n",
       "</style>\n",
       "<table border=\"1\" class=\"dataframe\">\n",
       "  <thead>\n",
       "    <tr>\n",
       "      <th></th>\n",
       "      <th colspan=\"8\" halign=\"left\">value</th>\n",
       "    </tr>\n",
       "    <tr>\n",
       "      <th></th>\n",
       "      <th>count</th>\n",
       "      <th>mean</th>\n",
       "      <th>std</th>\n",
       "      <th>min</th>\n",
       "      <th>25%</th>\n",
       "      <th>50%</th>\n",
       "      <th>75%</th>\n",
       "      <th>max</th>\n",
       "    </tr>\n",
       "    <tr>\n",
       "      <th>missing</th>\n",
       "      <th></th>\n",
       "      <th></th>\n",
       "      <th></th>\n",
       "      <th></th>\n",
       "      <th></th>\n",
       "      <th></th>\n",
       "      <th></th>\n",
       "      <th></th>\n",
       "    </tr>\n",
       "  </thead>\n",
       "  <tbody>\n",
       "    <tr>\n",
       "      <th>Imputed</th>\n",
       "      <td>1000.0</td>\n",
       "      <td>0.41524</td>\n",
       "      <td>0.987724</td>\n",
       "      <td>-0.999143</td>\n",
       "      <td>-0.511413</td>\n",
       "      <td>0.311839</td>\n",
       "      <td>1.482188</td>\n",
       "      <td>1.994737</td>\n",
       "    </tr>\n",
       "    <tr>\n",
       "      <th>True Pop</th>\n",
       "      <td>1000.0</td>\n",
       "      <td>0.40798</td>\n",
       "      <td>0.989372</td>\n",
       "      <td>-0.999143</td>\n",
       "      <td>-0.532888</td>\n",
       "      <td>0.131755</td>\n",
       "      <td>1.404898</td>\n",
       "      <td>1.994737</td>\n",
       "    </tr>\n",
       "  </tbody>\n",
       "</table>\n",
       "</div>"
      ],
      "text/plain": [
       "           value                                                             \\\n",
       "           count     mean       std       min       25%       50%       75%   \n",
       "missing                                                                       \n",
       "Imputed   1000.0  0.41524  0.987724 -0.999143 -0.511413  0.311839  1.482188   \n",
       "True Pop  1000.0  0.40798  0.989372 -0.999143 -0.532888  0.131755  1.404898   \n",
       "\n",
       "                    \n",
       "               max  \n",
       "missing             \n",
       "Imputed   1.994737  \n",
       "True Pop  1.994737  "
      ]
     },
     "execution_count": 181,
     "metadata": {},
     "output_type": "execute_result"
    }
   ],
   "source": [
    "pd.concat([\n",
    "    imputed.assign(missing='Imputed'), \n",
    "    true.assign(missing='True Pop')]\n",
    ").groupby('missing').describe()"
   ]
  },
  {
   "cell_type": "markdown",
   "metadata": {},
   "source": [
    "*Remark:* That the standard deviations are that close is likely due to the particulars of this dataset. Generally, group-wise single-valued imputation would still underestimate the variance of the population.\n",
    "\n",
    "## Imputation with Complex Models\n",
    "\n",
    "Each of the above techniques takes advantage of the observed data to make a best guess at the true value of a missing observation. Imputation with the mean uses the mean of observed empirical distribution of the attributed being imputed; group-wise imputation with the mean uses the conditional distribution, taking advantage of the attribute's dependency on another column.\n",
    "\n",
    "Similar approaches, using more complex models, predict the true value of missing data using all attributes in the dataset. Examples of these include:\n",
    "* fitting a linear regression model on the observed data to impute a given column,\n",
    "* fitting a k-nearest neighbors (k-NN) model to impute a given column.\n",
    "\n",
    "Each of these consider the missing observations as a target variable to be predicted. These techniques will be covered when discussing modeling, later in the course."
   ]
  }
 ],
 "metadata": {
  "kernelspec": {
   "display_name": "Python 3",
   "language": "python",
   "name": "python3"
  },
  "language_info": {
   "codemirror_mode": {
    "name": "ipython",
    "version": 3
   },
   "file_extension": ".py",
   "mimetype": "text/x-python",
   "name": "python",
   "nbconvert_exporter": "python",
   "pygments_lexer": "ipython3",
   "version": "3.7.1"
  }
 },
 "nbformat": 4,
 "nbformat_minor": 2
}
