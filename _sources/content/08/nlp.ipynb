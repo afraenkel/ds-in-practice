{
 "cells": [
  {
   "cell_type": "code",
   "execution_count": 6,
   "metadata": {
    "tags": [
     "remove_cell"
    ]
   },
   "outputs": [],
   "source": [
    "%matplotlib inline\n",
    "import numpy as np\n",
    "import pandas as pd\n",
    "import seaborn as sns\n",
    "\n",
    "pd.set_option('display.max_rows', 7)\n",
    "\n",
    "from io import StringIO\n",
    "s = StringIO('''phrase\n",
    "a two bedroom apartment with washer and dryer\n",
    "a two bedroom house with a washer hookup\n",
    "a three bedroom house with a fireplace''')\n",
    "apts = pd.read_csv(s)"
   ]
  },
  {
   "cell_type": "markdown",
   "metadata": {},
   "source": [
    "# Information Extraction from Text\n",
    "\n",
    "---\n",
    "\n",
    "## The Limits of Pattern Matching\n",
    "\n",
    "Pattern matching is an information extraction on technique on text that offer a way to introduce oneself to raw text. However, pattern matching has its limits:\n",
    "* How are common patterns proposed and found?\n",
    "* The ad-hoc development and exploration of information extraction with patterns does not scale to large amounts of text.\n",
    "* Assessing the efficacy of a pattern to effectively extract information does not scale well past visual inspection. When an large-scale analysis is done, it's time consuming and likely not applicable to similar patterns.\n",
    "\n",
    "To move beyond these limits, one must approach information extraction from text more methodically, using a quantitative approach borrowed from math and statistics."
   ]
  },
  {
   "cell_type": "markdown",
   "metadata": {},
   "source": [
    "## Measuring Similarity between Text\n",
    "\n",
    "Given two snippets of text, are they similar? At heart, this question is asking for *a distance measure* between words and phrases. While there are many such measures of distance, each capturing different aspects of the information in text, they all require a common setup: how should the text be embedded into a quantitative (e.g. Euclidean) space?"
   ]
  },
  {
   "cell_type": "markdown",
   "metadata": {},
   "source": [
    "### The \"Bag of Words\" model\n",
    "\n",
    "Consider the following listings for housing rentals:\n",
    "\n",
    "|phrase|\n",
    "|---|\n",
    "|a two bedroom apartment with washer and dryer|\n",
    "|a two bedroom house with a washer hookup|\n",
    "|a three bedroom house with a fireplace|\n",
    "\n",
    "Since a listing is made up of a collection of amenities, two listings might be considered similar if they share similar words. That is: \n",
    "* `two bedroom apartment with washer and dryer` and \n",
    "* `a two bedroom house with a washer hookup` \n",
    "\n",
    "share five words (`a`, `two`, `bedroom`, `with`, `washer`). This matching can be turned into a measure of similarity in a number of ways:\n",
    "* Using the raw number itself as a measure, where larger is more similar (e.g. the similarity is 5).\n",
    "* Using the proportion of possible matches, where 1 is the most similar (e.g. 5/7 words were matches).\n",
    "* Computing the empirical distribution of each phrase and using the Total Variation Distance (TVD).\n",
    "\n",
    "*Remark:* The first measure is not normalized, which is may be a good property. The likelihood that two very long phrases are similar is much smaller than two short phrases.\n",
    "\n",
    "The 'Bag of Words' model sets up this notion of similarity by embedding the words into a *vector space*. This vector space embedding allows one to easily compute different notions of similar and understand the distribution of words among the phrases in a dataset.\n",
    "\n",
    "The **Bag of Words embedding** of a list of phrases is representation of the counts of words in each phrase in vector space whose basis consists of all words appearing in the dataset.\n",
    "\n",
    "**Example:** The Bag of Words embedding of the three row table of housing listings transforms the phrases into a 12-dimensional vector space:\n",
    "\n",
    "|a|two|three|bedroom|apartment|house|with|washer|hookup|and|dryer|fireplace|\n",
    "|---|---|---|---|---|---|---|---|---|---|---|---|\n",
    "|1|1|0|1|1|0|1|1|0|1|1|0|\n",
    "|2|1|0|1|0|1|1|1|1|0|0|0|\n",
    "|2|0|1|1|0|1|1|0|0|0|0|1|\n",
    "\n",
    "*Remark:* Notice that the bag-of-words embedding is nothing but systematically pattern matching: for each word in the dataset, count the number of occurrences of each words in each phrase. However, the Bag of Words embedding doesn't know anything about the *meaning* of each words. The embedding works under the assumption that two phrases are similar if they share many of the same words.\n",
    "\n",
    "Using a Bag of Words embedding, the **similarity** of two phrases can be measured using notions of similarity in the Bag of Words vector space. Under the Bag of Word embedding:\n",
    "* The similarity of two phrases is proportional to the dot product of the Bag of Words vectors.\n",
    "* The similarity of two phrases is given by the *cosine similarity* of the Bag of Words vectors: \n",
    "\n",
    "$$dist(v, w) = 1 - \\cos(\\theta) = 1 - \\frac{v \\cdot w}{|v||w|}$$\n",
    "\n",
    "**Example:** In the above housing listings, which listings are most similar under the Bag of Words model?\n",
    "\n",
    "|phrase pair|dot product|cosine similarity|\n",
    "|---|---|---|\n",
    "|0,1|2+1+0+1+0+0+1+1+0+0+0+0 = 6|0.33|\n",
    "|0,2|2+0+0+1+0+1+1+0+0+0+0+0 = 5|0.41|\n",
    "|1,2|4+0+0+1+0+1+1+0+0+0+0+0 = 7|0.26|\n",
    "\n",
    "As measured by the cosine similarity, the most similar phrase pair is the middle and last phrases."
   ]
  },
  {
   "cell_type": "markdown",
   "metadata": {},
   "source": [
    "*Remark:* The Bag of Words model has downsides, already seen in this example:\n",
    "* The model treats all words as *equally important*. For exaample, the word 'a' and the word 'apartment' are given equal weight.\n",
    "* The model treats words without context. The phrases 'I own a dog' and 'I don't own a dog' are similar in the bag of words model.\n",
    "\n",
    "However, the perspective of the Bag of Words model is powerful. These downsides can be handled with straightforward improvements and modifications."
   ]
  },
  {
   "cell_type": "markdown",
   "metadata": {},
   "source": [
    "## Measures of Relevancy \n",
    "\n",
    "A shortcoming of the naive Bag of Words model is that it treats every words equally. This treatment can cause two phrases with similar content to appear dissimilar because of 'superfluous' words. What are ways to extract 'the most relevant' words from a phrase?\n",
    "\n",
    "### Term Frequency, Inverse Document Frequency (TF-IDF)\n",
    "\n",
    "An intuitive heuristic for extracting the most relevant term of a phrase is *Term Frequency, Inverse Document Frequency* or TF-IDF. This method attempts to answer the question \"how much does a given word summarize a phrase?\".  TF-IDF attempts to balance the importance of a word in a given document with the uniqueness the word has to the document.\n",
    "\n",
    "Suppose a dataset consists of a *collection of documents* $D$.\n",
    "\n",
    "* The *term frequency* of a word $t$ in a document $d$, denoted ${\\rm tf}(t,d)$, is the likelihood of the term appearing in the document:\n",
    "\n",
    "$${\\rm tf}(t, d) = \\frac{\\rm{number\\: of\\: times\\: t\\: appears\\: in\\: document\\: d}}{\\rm{total\\: number\\: of\\: terms\\: in\\: document\\: d}} $$\n",
    "\n",
    "* The *inverse document frequency* of a word $t$ in a collection of documents $D$, denoted ${\\rm idf}(t,d)$ is:\n",
    "\n",
    "$${\\rm idf}(t) = \\log\\left(\\frac{\\rm{total\\: number\\: of\\: documents}}{\\rm{number\\: of\\: documents\\: in\\: which\\: t\\: appears}}\\right)$$\n",
    "\n",
    "* The *tf-idf* of a term $t$ in document $d$ is given by the product: \n",
    "\n",
    "$${\\rm tfidf}(t,d) = {\\rm tf}(t,d) \\cdot {\\rm idf}(t)$$\n",
    "\n",
    "*Remark:* There are different, related, ways of computing this quantity. As this method is a heuristic, there isn't a 'correct' formula with a probabilistic interpretation."
   ]
  },
  {
   "cell_type": "markdown",
   "metadata": {},
   "source": [
    "Notice that if a term appears in *every* document in the collection, the ${\\rm idf(t, d)}$ is zero. This fits the intuition that very common words should not be considered relevant to the information contained in a document."
   ]
  },
  {
   "cell_type": "markdown",
   "metadata": {},
   "source": [
    "**Example:** The TF-IDF of the word `two` in the first apartment listing is computed as follows:\n",
    "\n",
    "$${\\rm tf}(\\texttt{two}, \\texttt{listing0}) = \\frac{1}{8}$$\n",
    "$${\\rm idf}(\\texttt{two}) = \\log(\\frac{3}{2})$$\n",
    "$${\\rm tf}(\\texttt{two}, \\texttt{listing0})\\cdot {\\rm idf}(\\texttt{two}) = \\frac{1}{8}\\log(\\frac{3}{2})$$"
   ]
  },
  {
   "cell_type": "markdown",
   "metadata": {},
   "source": [
    "This quantity naturally defines the most relevant words for a given document: the term with the highest TF-IDF for a given document *best summarizes* the document."
   ]
  },
  {
   "cell_type": "markdown",
   "metadata": {},
   "source": [
    "**Example:** Computing the most relevant term for each listing is illustrated in the following code:"
   ]
  },
  {
   "cell_type": "code",
   "execution_count": 7,
   "metadata": {},
   "outputs": [
    {
     "data": {
      "text/html": [
       "<div>\n",
       "<style scoped>\n",
       "    .dataframe tbody tr th:only-of-type {\n",
       "        vertical-align: middle;\n",
       "    }\n",
       "\n",
       "    .dataframe tbody tr th {\n",
       "        vertical-align: top;\n",
       "    }\n",
       "\n",
       "    .dataframe thead th {\n",
       "        text-align: right;\n",
       "    }\n",
       "</style>\n",
       "<table border=\"1\" class=\"dataframe\">\n",
       "  <thead>\n",
       "    <tr style=\"text-align: right;\">\n",
       "      <th></th>\n",
       "      <th>phrase</th>\n",
       "    </tr>\n",
       "  </thead>\n",
       "  <tbody>\n",
       "    <tr>\n",
       "      <th>0</th>\n",
       "      <td>a two bedroom apartment with washer and dryer</td>\n",
       "    </tr>\n",
       "    <tr>\n",
       "      <th>1</th>\n",
       "      <td>a two bedroom house with a washer hookup</td>\n",
       "    </tr>\n",
       "    <tr>\n",
       "      <th>2</th>\n",
       "      <td>a three bedroom house with a fireplace</td>\n",
       "    </tr>\n",
       "  </tbody>\n",
       "</table>\n",
       "</div>"
      ],
      "text/plain": [
       "                                          phrase\n",
       "0  a two bedroom apartment with washer and dryer\n",
       "1       a two bedroom house with a washer hookup\n",
       "2         a three bedroom house with a fireplace"
      ]
     },
     "execution_count": 7,
     "metadata": {},
     "output_type": "execute_result"
    }
   ],
   "source": [
    "apts"
   ]
  },
  {
   "cell_type": "markdown",
   "metadata": {},
   "source": [
    "While slower than leveraging optimized libraries, the Bag of Words embedding can be easily implemented with Pandas:"
   ]
  },
  {
   "cell_type": "code",
   "execution_count": 19,
   "metadata": {},
   "outputs": [
    {
     "data": {
      "text/html": [
       "<div>\n",
       "<style scoped>\n",
       "    .dataframe tbody tr th:only-of-type {\n",
       "        vertical-align: middle;\n",
       "    }\n",
       "\n",
       "    .dataframe tbody tr th {\n",
       "        vertical-align: top;\n",
       "    }\n",
       "\n",
       "    .dataframe thead th {\n",
       "        text-align: right;\n",
       "    }\n",
       "</style>\n",
       "<table border=\"1\" class=\"dataframe\">\n",
       "  <thead>\n",
       "    <tr style=\"text-align: right;\">\n",
       "      <th></th>\n",
       "      <th>washer</th>\n",
       "      <th>with</th>\n",
       "      <th>apartment</th>\n",
       "      <th>two</th>\n",
       "      <th>a</th>\n",
       "      <th>and</th>\n",
       "      <th>dryer</th>\n",
       "      <th>bedroom</th>\n",
       "      <th>hookup</th>\n",
       "      <th>house</th>\n",
       "      <th>three</th>\n",
       "      <th>fireplace</th>\n",
       "    </tr>\n",
       "  </thead>\n",
       "  <tbody>\n",
       "    <tr>\n",
       "      <th>0</th>\n",
       "      <td>1.0</td>\n",
       "      <td>1.0</td>\n",
       "      <td>1.0</td>\n",
       "      <td>1.0</td>\n",
       "      <td>1.0</td>\n",
       "      <td>1.0</td>\n",
       "      <td>1.0</td>\n",
       "      <td>1.0</td>\n",
       "      <td>NaN</td>\n",
       "      <td>NaN</td>\n",
       "      <td>NaN</td>\n",
       "      <td>NaN</td>\n",
       "    </tr>\n",
       "    <tr>\n",
       "      <th>1</th>\n",
       "      <td>1.0</td>\n",
       "      <td>1.0</td>\n",
       "      <td>NaN</td>\n",
       "      <td>1.0</td>\n",
       "      <td>2.0</td>\n",
       "      <td>NaN</td>\n",
       "      <td>NaN</td>\n",
       "      <td>1.0</td>\n",
       "      <td>1.0</td>\n",
       "      <td>1.0</td>\n",
       "      <td>NaN</td>\n",
       "      <td>NaN</td>\n",
       "    </tr>\n",
       "    <tr>\n",
       "      <th>2</th>\n",
       "      <td>NaN</td>\n",
       "      <td>1.0</td>\n",
       "      <td>NaN</td>\n",
       "      <td>NaN</td>\n",
       "      <td>2.0</td>\n",
       "      <td>NaN</td>\n",
       "      <td>NaN</td>\n",
       "      <td>1.0</td>\n",
       "      <td>NaN</td>\n",
       "      <td>1.0</td>\n",
       "      <td>1.0</td>\n",
       "      <td>1.0</td>\n",
       "    </tr>\n",
       "  </tbody>\n",
       "</table>\n",
       "</div>"
      ],
      "text/plain": [
       "   washer  with  apartment  two    a  and  dryer  bedroom  hookup  house  \\\n",
       "0     1.0   1.0        1.0  1.0  1.0  1.0    1.0      1.0     NaN    NaN   \n",
       "1     1.0   1.0        NaN  1.0  2.0  NaN    NaN      1.0     1.0    1.0   \n",
       "2     NaN   1.0        NaN  NaN  2.0  NaN    NaN      1.0     NaN    1.0   \n",
       "\n",
       "   three  fireplace  \n",
       "0    NaN        NaN  \n",
       "1    NaN        NaN  \n",
       "2    1.0        1.0  "
      ]
     },
     "execution_count": 19,
     "metadata": {},
     "output_type": "execute_result"
    }
   ],
   "source": [
    "bow = (\n",
    "    apts['phrase']\n",
    "    .str.split()\n",
    "    .apply(lambda x:pd.Series(x).value_counts())\n",
    ")\n",
    "bow"
   ]
  },
  {
   "cell_type": "markdown",
   "metadata": {},
   "source": [
    "The term frequencies of each word, in each document, is represented in a matrix labeled by words and document number. Each word in a given document is part of an empirical distribution for that document:"
   ]
  },
  {
   "cell_type": "code",
   "execution_count": 20,
   "metadata": {},
   "outputs": [
    {
     "data": {
      "text/html": [
       "<div>\n",
       "<style scoped>\n",
       "    .dataframe tbody tr th:only-of-type {\n",
       "        vertical-align: middle;\n",
       "    }\n",
       "\n",
       "    .dataframe tbody tr th {\n",
       "        vertical-align: top;\n",
       "    }\n",
       "\n",
       "    .dataframe thead th {\n",
       "        text-align: right;\n",
       "    }\n",
       "</style>\n",
       "<table border=\"1\" class=\"dataframe\">\n",
       "  <thead>\n",
       "    <tr style=\"text-align: right;\">\n",
       "      <th></th>\n",
       "      <th>washer</th>\n",
       "      <th>with</th>\n",
       "      <th>apartment</th>\n",
       "      <th>two</th>\n",
       "      <th>a</th>\n",
       "      <th>and</th>\n",
       "      <th>dryer</th>\n",
       "      <th>bedroom</th>\n",
       "      <th>hookup</th>\n",
       "      <th>house</th>\n",
       "      <th>three</th>\n",
       "      <th>fireplace</th>\n",
       "    </tr>\n",
       "  </thead>\n",
       "  <tbody>\n",
       "    <tr>\n",
       "      <th>0</th>\n",
       "      <td>0.125</td>\n",
       "      <td>0.125000</td>\n",
       "      <td>0.125</td>\n",
       "      <td>0.125</td>\n",
       "      <td>0.125000</td>\n",
       "      <td>0.125</td>\n",
       "      <td>0.125</td>\n",
       "      <td>0.125000</td>\n",
       "      <td>NaN</td>\n",
       "      <td>NaN</td>\n",
       "      <td>NaN</td>\n",
       "      <td>NaN</td>\n",
       "    </tr>\n",
       "    <tr>\n",
       "      <th>1</th>\n",
       "      <td>0.125</td>\n",
       "      <td>0.125000</td>\n",
       "      <td>NaN</td>\n",
       "      <td>0.125</td>\n",
       "      <td>0.250000</td>\n",
       "      <td>NaN</td>\n",
       "      <td>NaN</td>\n",
       "      <td>0.125000</td>\n",
       "      <td>0.125</td>\n",
       "      <td>0.125000</td>\n",
       "      <td>NaN</td>\n",
       "      <td>NaN</td>\n",
       "    </tr>\n",
       "    <tr>\n",
       "      <th>2</th>\n",
       "      <td>NaN</td>\n",
       "      <td>0.142857</td>\n",
       "      <td>NaN</td>\n",
       "      <td>NaN</td>\n",
       "      <td>0.285714</td>\n",
       "      <td>NaN</td>\n",
       "      <td>NaN</td>\n",
       "      <td>0.142857</td>\n",
       "      <td>NaN</td>\n",
       "      <td>0.142857</td>\n",
       "      <td>0.142857</td>\n",
       "      <td>0.142857</td>\n",
       "    </tr>\n",
       "  </tbody>\n",
       "</table>\n",
       "</div>"
      ],
      "text/plain": [
       "   washer      with  apartment    two         a    and  dryer   bedroom  \\\n",
       "0   0.125  0.125000      0.125  0.125  0.125000  0.125  0.125  0.125000   \n",
       "1   0.125  0.125000        NaN  0.125  0.250000    NaN    NaN  0.125000   \n",
       "2     NaN  0.142857        NaN    NaN  0.285714    NaN    NaN  0.142857   \n",
       "\n",
       "   hookup     house     three  fireplace  \n",
       "0     NaN       NaN       NaN        NaN  \n",
       "1   0.125  0.125000       NaN        NaN  \n",
       "2     NaN  0.142857  0.142857   0.142857  "
      ]
     },
     "execution_count": 20,
     "metadata": {},
     "output_type": "execute_result"
    }
   ],
   "source": [
    "term_frequencies = bow.apply(lambda x:x / x.sum(), axis=1)\n",
    "term_frequencies"
   ]
  },
  {
   "cell_type": "markdown",
   "metadata": {},
   "source": [
    "The inverse document frequency is calculated using a straightforward count of non-null entries:"
   ]
  },
  {
   "cell_type": "code",
   "execution_count": 24,
   "metadata": {},
   "outputs": [
    {
     "data": {
      "text/plain": [
       "washer       0.405465\n",
       "with         0.000000\n",
       "apartment    1.098612\n",
       "               ...   \n",
       "house        0.405465\n",
       "three        1.098612\n",
       "fireplace    1.098612\n",
       "Length: 12, dtype: float64"
      ]
     },
     "execution_count": 24,
     "metadata": {},
     "output_type": "execute_result"
    }
   ],
   "source": [
    "tot = bow.shape[0]\n",
    "inverse_document_frequencies = np.log(tot / bow.count())\n",
    "inverse_document_frequencies"
   ]
  },
  {
   "cell_type": "markdown",
   "metadata": {},
   "source": [
    "The resulting tfidf matrix represents the term frequency, inverse document of frequency of every term in every document:"
   ]
  },
  {
   "cell_type": "code",
   "execution_count": 29,
   "metadata": {},
   "outputs": [
    {
     "data": {
      "text/html": [
       "<div>\n",
       "<style scoped>\n",
       "    .dataframe tbody tr th:only-of-type {\n",
       "        vertical-align: middle;\n",
       "    }\n",
       "\n",
       "    .dataframe tbody tr th {\n",
       "        vertical-align: top;\n",
       "    }\n",
       "\n",
       "    .dataframe thead th {\n",
       "        text-align: right;\n",
       "    }\n",
       "</style>\n",
       "<table border=\"1\" class=\"dataframe\">\n",
       "  <thead>\n",
       "    <tr style=\"text-align: right;\">\n",
       "      <th></th>\n",
       "      <th>washer</th>\n",
       "      <th>with</th>\n",
       "      <th>apartment</th>\n",
       "      <th>two</th>\n",
       "      <th>a</th>\n",
       "      <th>and</th>\n",
       "      <th>dryer</th>\n",
       "      <th>bedroom</th>\n",
       "      <th>hookup</th>\n",
       "      <th>house</th>\n",
       "      <th>three</th>\n",
       "      <th>fireplace</th>\n",
       "    </tr>\n",
       "  </thead>\n",
       "  <tbody>\n",
       "    <tr>\n",
       "      <th>0</th>\n",
       "      <td>0.050683</td>\n",
       "      <td>0.0</td>\n",
       "      <td>0.137327</td>\n",
       "      <td>0.050683</td>\n",
       "      <td>0.0</td>\n",
       "      <td>0.137327</td>\n",
       "      <td>0.137327</td>\n",
       "      <td>0.0</td>\n",
       "      <td>NaN</td>\n",
       "      <td>NaN</td>\n",
       "      <td>NaN</td>\n",
       "      <td>NaN</td>\n",
       "    </tr>\n",
       "    <tr>\n",
       "      <th>1</th>\n",
       "      <td>0.050683</td>\n",
       "      <td>0.0</td>\n",
       "      <td>NaN</td>\n",
       "      <td>0.050683</td>\n",
       "      <td>0.0</td>\n",
       "      <td>NaN</td>\n",
       "      <td>NaN</td>\n",
       "      <td>0.0</td>\n",
       "      <td>0.137327</td>\n",
       "      <td>0.050683</td>\n",
       "      <td>NaN</td>\n",
       "      <td>NaN</td>\n",
       "    </tr>\n",
       "    <tr>\n",
       "      <th>2</th>\n",
       "      <td>NaN</td>\n",
       "      <td>0.0</td>\n",
       "      <td>NaN</td>\n",
       "      <td>NaN</td>\n",
       "      <td>0.0</td>\n",
       "      <td>NaN</td>\n",
       "      <td>NaN</td>\n",
       "      <td>0.0</td>\n",
       "      <td>NaN</td>\n",
       "      <td>0.057924</td>\n",
       "      <td>0.156945</td>\n",
       "      <td>0.156945</td>\n",
       "    </tr>\n",
       "  </tbody>\n",
       "</table>\n",
       "</div>"
      ],
      "text/plain": [
       "     washer  with  apartment       two    a       and     dryer  bedroom  \\\n",
       "0  0.050683   0.0   0.137327  0.050683  0.0  0.137327  0.137327      0.0   \n",
       "1  0.050683   0.0        NaN  0.050683  0.0       NaN       NaN      0.0   \n",
       "2       NaN   0.0        NaN       NaN  0.0       NaN       NaN      0.0   \n",
       "\n",
       "     hookup     house     three  fireplace  \n",
       "0       NaN       NaN       NaN        NaN  \n",
       "1  0.137327  0.050683       NaN        NaN  \n",
       "2       NaN  0.057924  0.156945   0.156945  "
      ]
     },
     "execution_count": 29,
     "metadata": {},
     "output_type": "execute_result"
    }
   ],
   "source": [
    "tfidf = term_frequencies * inverse_document_frequencies\n",
    "tfidf"
   ]
  },
  {
   "cell_type": "markdown",
   "metadata": {},
   "source": [
    "The most relevant word in each document corresponds to the word with the largest tfidf in that document:"
   ]
  },
  {
   "cell_type": "code",
   "execution_count": 28,
   "metadata": {},
   "outputs": [
    {
     "data": {
      "text/plain": [
       "0    apartment\n",
       "1       hookup\n",
       "2        three\n",
       "dtype: object"
      ]
     },
     "execution_count": 28,
     "metadata": {},
     "output_type": "execute_result"
    }
   ],
   "source": [
    "tfidf.idxmax(axis=1)"
   ]
  },
  {
   "cell_type": "markdown",
   "metadata": {},
   "source": [
    "*Remark:* Why are these words good summaries of each listing? In what ways are they *not* good summaries? \n",
    "\n",
    "*Remark:* These words were not the only correct answers; search for ties in the table."
   ]
  }
 ],
 "metadata": {
  "kernelspec": {
   "display_name": "Python 3",
   "language": "python",
   "name": "python3"
  },
  "language_info": {
   "codemirror_mode": {
    "name": "ipython",
    "version": 3
   },
   "file_extension": ".py",
   "mimetype": "text/x-python",
   "name": "python",
   "nbconvert_exporter": "python",
   "pygments_lexer": "ipython3",
   "version": "3.7.1"
  }
 },
 "nbformat": 4,
 "nbformat_minor": 2
}
