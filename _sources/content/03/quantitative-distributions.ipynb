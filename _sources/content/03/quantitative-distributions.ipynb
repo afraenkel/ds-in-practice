{
 "cells": [
  {
   "cell_type": "code",
   "execution_count": 2,
   "metadata": {
    "tags": [
     "remove_cell"
    ]
   },
   "outputs": [],
   "source": [
    "%matplotlib inline\n",
    "import pandas as pd\n",
    "import numpy as np\n",
    "\n",
    "pd.set_option('display.max_rows', 7)\n",
    "\n",
    "inspections = pd.read_csv('data/inspections.csv')"
   ]
  },
  {
   "cell_type": "markdown",
   "metadata": {},
   "source": [
    "# Quantitative Empirical Distributions\n",
    "\n",
    "---\n"
   ]
  },
  {
   "cell_type": "markdown",
   "metadata": {},
   "source": [
    "When an attribute is quantitative and continuous, calculating the empirical distribution by simply counting the occurrence of each value does not work. The reason for this is that values of continuous attributes are often *close together*, but *rarely identical*. The distribution of values of a quantitative attribute are better described by first grouping together nearby values, then calculating the proportion of the whole made up by each group. These groups are called *bins*.\n",
    "\n",
    "**Example:** Treating quantitative variables as categorical is rarely a good idea for understanding the distribution of data. For example, plotting the distribution of health inspection scores as categorical data results in a noisy plot that ignores the relative distances between scores."
   ]
  },
  {
   "cell_type": "code",
   "execution_count": 4,
   "metadata": {},
   "outputs": [
    {
     "data": {
      "image/png": "[encoded data removed]",
      "text/plain": [
       "<Figure size 1008x288 with 1 Axes>"
      ]
     },
     "metadata": {
      "needs_background": "light"
     },
     "output_type": "display_data"
    }
   ],
   "source": [
    "(\n",
    "    inspections['inspection_score']\n",
    "    .value_counts(normalize=True)\n",
    "    .sort_index()\n",
    "    .plot(kind='bar', figsize=(14,4), title='(categorical) distribution of inspection scores')\n",
    ");"
   ]
  },
  {
   "cell_type": "markdown",
   "metadata": {},
   "source": [
    "*Remark:* Notice there is information in treating the score as a categorical variables:\n",
    "* Among the higher scores, even numbered inspection scores are much more likely.\n",
    "* Certain high scores don't occur, such as 95, 97, and 99. Is this an artifact of how the score is computed? Or did the data recording process result in missing or incorrect data? "
   ]
  },
  {
   "cell_type": "markdown",
   "metadata": {},
   "source": [
    "**Definition:** A *probability density* of an empirical distribution at a value $x$ is the proportion of the observations per unit  that occur near $x$. The appropriate value of 'near' corresponds to choosing a bin size for grouping data. The bin size should make sense when interpreting it in terms of the data generating process (e.g. what is the precision and scale of the measurements at hand? How much noise is inherent to the data generating process?).\n",
    "\n",
    "For more an elementary, more detailed account, see the visualization chapter of [inferential thinking](https://www.inferentialthinking.com/chapters/07/2/Visualizing_Numerical_Distributions.html)."
   ]
  },
  {
   "cell_type": "markdown",
   "metadata": {},
   "source": [
    "### Computing quantitative distributions with `np.histogram`\n",
    "\n",
    "Quantitative distributions can be calculated with the help of `np.histogram`. Given an array of numbers `nums`, `np.histogram(nums, density=True)` returns an array of densities of elements in each bins and an array of bin edges.\n",
    "\n",
    "A few notes on the keyword arguments of `np.histogram`:\n",
    "* The array of bin edges is one element larger than the array of densities (and the number of bins).\n",
    "* By default, the histogram uses 10 equally sized bins, spanning the range of the input data.\n",
    "* Specifying a different number of bins (via an integer) results in equally sized bins.\n",
    "* Non-equally sized bins are specified by passing a list of end-points.\n",
    "* Passing `density=False` (the default) results in an array of counts, instead of densities."
   ]
  },
  {
   "cell_type": "markdown",
   "metadata": {},
   "source": [
    "**Example:** The empirical distribution of restaurant health inspection scores is computed using `np.histogram`, then plotting a bar chart."
   ]
  },
  {
   "cell_type": "code",
   "execution_count": 5,
   "metadata": {},
   "outputs": [],
   "source": [
    "densities, bins = np.histogram(inspections['inspection_score'], density=True)"
   ]
  },
  {
   "cell_type": "code",
   "execution_count": 6,
   "metadata": {},
   "outputs": [
    {
     "data": {
      "text/plain": [
       "array([0.00028443, 0.00031437, 0.0011876 , 0.00300394, 0.00906172,\n",
       "       0.0151195 , 0.03392156, 0.0454533 , 0.05697006, 0.01650171])"
      ]
     },
     "execution_count": 6,
     "metadata": {},
     "output_type": "execute_result"
    }
   ],
   "source": [
    "densities"
   ]
  },
  {
   "cell_type": "code",
   "execution_count": 7,
   "metadata": {},
   "outputs": [
    {
     "data": {
      "text/plain": [
       "array([ 45. ,  50.5,  56. ,  61.5,  67. ,  72.5,  78. ,  83.5,  89. ,\n",
       "        94.5, 100. ])"
      ]
     },
     "execution_count": 7,
     "metadata": {},
     "output_type": "execute_result"
    }
   ],
   "source": [
    "bins"
   ]
  },
  {
   "cell_type": "code",
   "execution_count": 17,
   "metadata": {},
   "outputs": [
    {
     "data": {
      "text/plain": [
       "45.0    0.000284\n",
       "50.5    0.000314\n",
       "56.0    0.001188\n",
       "          ...   \n",
       "83.5    0.045453\n",
       "89.0    0.056970\n",
       "94.5    0.016502\n",
       "Length: 10, dtype: float64"
      ]
     },
     "execution_count": 17,
     "metadata": {},
     "output_type": "execute_result"
    }
   ],
   "source": [
    "binned = pd.Series(densities, bins[:-1])\n",
    "binned"
   ]
  },
  {
   "cell_type": "markdown",
   "metadata": {},
   "source": [
    "The binned data can then be plotted as a bar chart, using a few specialized keyword to make the plot appropriate as a histogram:\n",
    "* the `width` keyword fits the bars to the width of the bins,\n",
    "* the `align` keyword aligns each bar to the left endpoint labeling each bin."
   ]
  },
  {
   "cell_type": "code",
   "execution_count": 19,
   "metadata": {},
   "outputs": [
    {
     "data": {
      "image/png": "[encoded data removed]",
      "text/plain": [
       "<Figure size 432x288 with 1 Axes>"
      ]
     },
     "metadata": {
      "needs_background": "light"
     },
     "output_type": "display_data"
    }
   ],
   "source": [
    "title='histogram of inspection scores'\n",
    "binned.plot(kind='bar', align='edge', width=1, title=title);"
   ]
  },
  {
   "cell_type": "markdown",
   "metadata": {},
   "source": [
    "The histogram can be plotted directly, using the `plot` method. However this method has two disadvantages:\n",
    "1. it works for plotting only, and doesn't provide the user with the binned data itself, and\n",
    "1. it slower and more memory intensive than `np.histogram`. "
   ]
  },
  {
   "cell_type": "code",
   "execution_count": 20,
   "metadata": {},
   "outputs": [
    {
     "data": {
      "image/png": "[encoded data removed]",
      "text/plain": [
       "<Figure size 432x288 with 1 Axes>"
      ]
     },
     "metadata": {
      "needs_background": "light"
     },
     "output_type": "display_data"
    }
   ],
   "source": [
    "inspections['inspection_score'].plot(kind='hist', bins=10, density=True, title='histogram of inspection scores');"
   ]
  },
  {
   "cell_type": "markdown",
   "metadata": {},
   "source": [
    "Similarly, Pandas also provides a kernel density estimate, which is a smoothed histogram of the observed data. While very slow to plot, it avoids the need to choose an 'appropriate' bin size:"
   ]
  },
  {
   "cell_type": "code",
   "execution_count": 22,
   "metadata": {},
   "outputs": [
    {
     "data": {
      "image/png": "[encoded data removed]",
      "text/plain": [
       "<Figure size 432x288 with 1 Axes>"
      ]
     },
     "metadata": {
      "needs_background": "light"
     },
     "output_type": "display_data"
    }
   ],
   "source": [
    "inspections['inspection_score'].plot(\n",
    "    kind='kde', \n",
    "    title='kernel density estimate of the distribution of inspection scores'\n",
    ");"
   ]
  },
  {
   "cell_type": "markdown",
   "metadata": {},
   "source": [
    "**Example:** One can also specify different conditions on the binning of the data. For example, to specify equal bins by passing an integer to the `bins` keyword:"
   ]
  },
  {
   "cell_type": "code",
   "execution_count": 85,
   "metadata": {},
   "outputs": [],
   "source": [
    "densities, bins = np.histogram(inspections['inspection_score'], bins=5, density=True)"
   ]
  },
  {
   "cell_type": "code",
   "execution_count": 86,
   "metadata": {},
   "outputs": [
    {
     "data": {
      "text/plain": [
       "45.0    0.000299\n",
       "56.0    0.002096\n",
       "67.0    0.012091\n",
       "78.0    0.039687\n",
       "89.0    0.036736\n",
       "dtype: float64"
      ]
     },
     "execution_count": 86,
     "metadata": {},
     "output_type": "execute_result"
    }
   ],
   "source": [
    "pd.Series(densities, bins[:-1])"
   ]
  },
  {
   "cell_type": "markdown",
   "metadata": {},
   "source": [
    "To specify the bin endpoints explicitly, one may pass a list to `bins`. For example, to use bins with endpoints at numbers divisible by 10:"
   ]
  },
  {
   "cell_type": "code",
   "execution_count": 23,
   "metadata": {},
   "outputs": [],
   "source": [
    "densities, bins = np.histogram(inspections['inspection_score'], bins=range(40,101,10), density=True)"
   ]
  },
  {
   "cell_type": "code",
   "execution_count": 24,
   "metadata": {},
   "outputs": [
    {
     "data": {
      "text/plain": [
       "50     0.000156\n",
       "60     0.000486\n",
       "70     0.003669\n",
       "80     0.016286\n",
       "90     0.041587\n",
       "100    0.037816\n",
       "dtype: float64"
      ]
     },
     "execution_count": 24,
     "metadata": {},
     "output_type": "execute_result"
    }
   ],
   "source": [
    "pd.Series(densities, bins[1:])"
   ]
  },
  {
   "cell_type": "markdown",
   "metadata": {},
   "source": [
    "### Cumulative Distribution Functions\n",
    "\n",
    "Cumulative distribution functions describe quantitative distributions more naturally than their empirical distributions. Describing the density of a quantitative distribution near a single value requires *binning* the data into bins of an 'appropriate size' for the scenario. However, since the CDF of a quantitative distribution describes the cumulative proportion of values, it doesn't require assumptions on bin size.\n",
    "\n",
    "**Definition:** The cumulative distribution function $F(x)$ at a value $x$ is defined as the probability an event at most of size $x$ is likely to occur.\n",
    "\n",
    "**Definition:** The empirical cumulative distribution function of an attribute $X$ at a value $x$ is the proportion of values in $X$ that are at most $x$.\n",
    "\n",
    "If `X` is a Series containing the attribute in question. The empirical cumulative distribution function `cdf_X` is defined as:"
   ]
  },
  {
   "cell_type": "code",
   "execution_count": 1,
   "metadata": {},
   "outputs": [],
   "source": [
    "def cdf_X(x):\n",
    "    return (X < x).mean()"
   ]
  },
  {
   "cell_type": "markdown",
   "metadata": {},
   "source": [
    "*Remark:* Since the observations of any dataset is finite, the definition of a categorical CDF and a quantitative empirical CDF are the same -- as such, they can also be computed identically. However, for large datasets, quantitative columns have a many distinct values, making the computation of \"all the values\" of the CDF (as in the categorical case) computationally expensive. Thus, treating the empirical CDF as a function, rather than a dataframe, makes more sense."
   ]
  }
 ],
 "metadata": {
  "kernelspec": {
   "display_name": "Python 3",
   "language": "python",
   "name": "python3"
  },
  "language_info": {
   "codemirror_mode": {
    "name": "ipython",
    "version": 3
   },
   "file_extension": ".py",
   "mimetype": "text/x-python",
   "name": "python",
   "nbconvert_exporter": "python",
   "pygments_lexer": "ipython3",
   "version": "3.7.1"
  }
 },
 "nbformat": 4,
 "nbformat_minor": 2
}
